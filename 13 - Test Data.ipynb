{
 "cells": [
  {
   "cell_type": "code",
   "execution_count": 104,
   "id": "e134bc9a",
   "metadata": {},
   "outputs": [],
   "source": [
    "import librosa \n",
    "import librosa.display\n",
    "import numpy as np\n",
    "import pandas as pd\n",
    "from pathlib import Path\n",
    "import seaborn as sns\n",
    "from tensorflow import keras \n",
    "from tensorflow.keras.preprocessing import image_dataset_from_directory, image\n",
    "from tensorflow.keras import layers\n",
    "from tensorflow.keras.models import Sequential, Model, load_model\n",
    "from tensorflow.keras.optimizers import Adam, SGD\n",
    "from tensorflow.keras.applications import VGG19, ResNet50\n",
    "from tensorflow.keras.layers import Dense, Conv2D, MaxPooling2D, Flatten, GlobalAveragePooling2D, InputLayer, Dropout\n",
    "from tensorflow.keras.callbacks import EarlyStopping, ModelCheckpoint\n",
    "import matplotlib.pyplot as plt\n",
    "from sklearn.model_selection import train_test_split\n",
    "from tqdm import tqdm\n",
    "from sklearn.utils.class_weight import compute_class_weight\n",
    "import tensorflow as tf\n",
    "from tensorflow.keras.preprocessing.image import ImageDataGenerator"
   ]
  },
  {
   "cell_type": "code",
   "execution_count": 113,
   "id": "1ef25a95",
   "metadata": {
    "scrolled": true
   },
   "outputs": [],
   "source": [
    "def import_test():\n",
    "    datagen = ImageDataGenerator()\n",
    "    new_path=Path.cwd()/'data_split'\n",
    "    images_directory = new_path\n",
    "    cb_test = datagen.flow_from_directory(images_directory/'test', class_mode='binary')\n",
    "    return cb_test\n",
    "\n",
    "def import_test_old_format():\n",
    "    datagen = ImageDataGenerator()\n",
    "    new_path=Path.cwd()/'data_split'\n",
    "    images_directory = new_path\n",
    "    cb_test = datagen.flow_from_directory(images_directory/'test', class_mode='binary', target_size=(97,97), batch_size=128 )\n",
    "    return cb_test\n",
    "    \n",
    "    \n",
    "def base_set_up(filename, patience=2):\n",
    "    \n",
    "    xx =compute_class_weight(class_weight='balanced',classes=np.unique(answers.label), y=answers.label)\n",
    "    class_weight = dict(zip(np.unique(answers.label), xx))\n",
    "    METRICS = [\n",
    "      keras.metrics.TruePositives(name='tp'),\n",
    "      keras.metrics.FalsePositives(name='fp'),\n",
    "      keras.metrics.TrueNegatives(name='tn'),\n",
    "      keras.metrics.FalseNegatives(name='fn'), \n",
    "      keras.metrics.BinaryAccuracy(name='accuracy'),\n",
    "      keras.metrics.Precision(name='precision'),\n",
    "      keras.metrics.Recall(name='recall'),\n",
    "      keras.metrics.AUC(name='auc'),\n",
    "      keras.metrics.AUC(name='prc', curve='PR'), # precision-recall curve\n",
    "    ]\n",
    "\n",
    "    earlystop = EarlyStopping(monitor='val_accuracy',verbose=1, patience=patience)\n",
    "    checkpoint = ModelCheckpoint(filename, monitor='val_accuracy', save_best_only=True,save_weights_only=False, verbose=1)\n",
    "    return (class_weight, METRICS, earlystop, checkpoint)"
   ]
  },
  {
   "cell_type": "code",
   "execution_count": 120,
   "id": "3df65f81",
   "metadata": {},
   "outputs": [],
   "source": [
    "results = {}"
   ]
  },
  {
   "cell_type": "markdown",
   "id": "c0dc9f81",
   "metadata": {},
   "source": [
    "# CNN Test"
   ]
  },
  {
   "cell_type": "code",
   "execution_count": 121,
   "id": "28c1a969",
   "metadata": {
    "scrolled": false
   },
   "outputs": [
    {
     "name": "stdout",
     "output_type": "stream",
     "text": [
      "Found 2954 images belonging to 2 classes.\n",
      "93/93 [==============================] - 25s 223ms/step - loss: 0.4149 - tp: 471.0000 - fp: 418.0000 - tn: 1833.0000 - fn: 232.0000 - accuracy: 0.7800 - precision: 0.5298 - recall: 0.6700 - auc: 0.8460 - prc: 0.5931\n"
     ]
    }
   ],
   "source": [
    "cnn = None\n",
    "keras.backend.clear_session()\n",
    "filename = 'cnn_overfit2.h5'\n",
    "\n",
    "test = import_test()\n",
    "class_weight, METRICS, earlystop, checkpoint = base_set_up(filename, 5)\n",
    "cnn = load_model(filename)\n",
    "results['cnn_simple'] = cnn.evaluate(test)\n",
    "\n"
   ]
  },
  {
   "cell_type": "code",
   "execution_count": 143,
   "id": "5d73e4fd",
   "metadata": {},
   "outputs": [
    {
     "name": "stdout",
     "output_type": "stream",
     "text": [
      "Found 2954 images belonging to 2 classes.\n",
      "93/93 [==============================] - 29s 276ms/step - loss: 1.0124 - tp: 0.0000e+00 - fp: 0.0000e+00 - tn: 2251.0000 - fn: 703.0000 - accuracy: 0.7620 - precision: 0.0000e+00 - recall: 0.0000e+00 - auc: 0.4745 - prc: 0.2211\n"
     ]
    }
   ],
   "source": [
    "# cnn = None\n",
    "# keras.backend.clear_session()\n",
    "# filename = 'cnn_small_layer.h5'\n",
    "\n",
    "# test = import_test()\n",
    "# class_weight, METRICS, earlystop, checkpoint = base_set_up(filename, 5)\n",
    "# cnn = load_model(filename)\n",
    "# results['cnn_add_small_layer_first'] = cnn.evaluate(test)\n",
    "\n",
    "\n"
   ]
  },
  {
   "cell_type": "code",
   "execution_count": 148,
   "id": "a7b76062",
   "metadata": {},
   "outputs": [
    {
     "name": "stdout",
     "output_type": "stream",
     "text": [
      "Found 2954 images belonging to 2 classes.\n",
      "93/93 [==============================] - 28s 252ms/step - loss: 1.8520 - tp: 0.0000e+00 - fp: 0.0000e+00 - tn: 2251.0000 - fn: 703.0000 - accuracy: 0.7620 - precision: 0.0000e+00 - recall: 0.0000e+00 - auc: 0.5000 - prc: 0.2380\n"
     ]
    }
   ],
   "source": [
    "# cnn = None\n",
    "# keras.backend.clear_session()\n",
    "# filename = 'cnn_small_layer.h5'\n",
    "\n",
    "# test = import_test()\n",
    "# class_weight, METRICS, earlystop, checkpoint = base_set_up(filename, 5)\n",
    "# cnn = load_model(filename)\n",
    "# results['cnn_small_layer_longer'] = cnn.evaluate(test)\n",
    "\n",
    "\n",
    "\n"
   ]
  },
  {
   "cell_type": "code",
   "execution_count": 151,
   "id": "9b1835a4",
   "metadata": {},
   "outputs": [
    {
     "name": "stdout",
     "output_type": "stream",
     "text": [
      "Found 2954 images belonging to 2 classes.\n",
      "93/93 [==============================] - 18s 165ms/step - loss: 0.4077 - tp: 516.0000 - fp: 433.0000 - tn: 1818.0000 - fn: 187.0000 - accuracy: 0.7901 - precision: 0.5437 - recall: 0.7340 - auc: 0.8672 - prc: 0.6398\n"
     ]
    }
   ],
   "source": [
    "cnn = None\n",
    "keras.backend.clear_session()\n",
    "filename = 'cnn_overfit2.h5'\n",
    "\n",
    "test = import_test()\n",
    "class_weight, METRICS, earlystop, checkpoint = base_set_up(filename, 5)\n",
    "cnn = load_model(filename)\n",
    "results['cnn_3_dense_small_rate'] = cnn.evaluate(test)\n",
    "\n",
    "\n"
   ]
  },
  {
   "cell_type": "code",
   "execution_count": 110,
   "id": "7c7c8709",
   "metadata": {},
   "outputs": [
    {
     "data": {
      "text/plain": [
       "<tf.Tensor: shape=(2, 2), dtype=int32, numpy=\n",
       "array([[1658,  530],\n",
       "       [ 593,  173]], dtype=int32)>"
      ]
     },
     "execution_count": 110,
     "metadata": {},
     "output_type": "execute_result"
    }
   ],
   "source": [
    "tf.math.confusion_matrix(cnn.predict_classes(test), test.classes)\n",
    "\n",
    "# We're seeing a lot of false negatives rather than false positives. "
   ]
  },
  {
   "cell_type": "markdown",
   "id": "e1f86306",
   "metadata": {},
   "source": [
    "# VGG 19 Test\n",
    "We abandoned training further, but I still want stats \n"
   ]
  },
  {
   "cell_type": "code",
   "execution_count": 122,
   "id": "ae45a046",
   "metadata": {},
   "outputs": [
    {
     "name": "stdout",
     "output_type": "stream",
     "text": [
      "Found 2954 images belonging to 2 classes.\n",
      "24/24 [==============================] - 164s 7s/step - loss: 0.5040 - tp: 411.0000 - fp: 521.0000 - tn: 1730.0000 - fn: 292.0000 - accuracy: 0.7248 - precision: 0.4410 - recall: 0.5846 - auc: 0.7623 - prc: 0.4355\n"
     ]
    }
   ],
   "source": [
    "vgg19 = None\n",
    "keras.backend.clear_session()\n",
    "\n",
    "filename = 'vgg19-cb-2.h5'\n",
    "\n",
    "test = import_test_old_format()\n",
    "class_weight, METRICS, earlystop, checkpoint = base_set_up(filename, 5)\n",
    "cnn = load_model(filename)\n",
    "results['vgg19-simple'] = cnn.evaluate(test)\n"
   ]
  },
  {
   "cell_type": "markdown",
   "id": "5daf2b4c",
   "metadata": {},
   "source": [
    "# Resnet Test\n",
    "We're gonna try multiple models for resnet since we trained multiple \n",
    "\n",
    "## Resnet With Smaller Dropout and 3 dense layers"
   ]
  },
  {
   "cell_type": "code",
   "execution_count": 123,
   "id": "15587668",
   "metadata": {},
   "outputs": [
    {
     "name": "stdout",
     "output_type": "stream",
     "text": [
      "Found 2954 images belonging to 2 classes.\n",
      "WARNING:tensorflow:Error in loading the saved optimizer state. As a result, your model is starting with a freshly initialized optimizer.\n",
      "24/24 [==============================] - 85s 3s/step - loss: 0.3604 - tp: 627.0000 - fp: 453.0000 - tn: 1798.0000 - fn: 76.0000 - accuracy: 0.8209 - precision: 0.5806 - recall: 0.8919 - auc: 0.9246 - prc: 0.7797\n"
     ]
    }
   ],
   "source": [
    "cnn=None\n",
    "keras.backend.clear_session()\n",
    "filename = 'resnet-cb-3-dropout-1.h5'\n",
    "test = import_test_old_format()\n",
    "class_weight, METRICS, earlystop, checkpoint = base_set_up(filename, 5)\n",
    "cnn = load_model(filename)\n",
    "results['resnet-3-dense-1-dropout'] = cnn.evaluate(test)\n",
    "\n"
   ]
  },
  {
   "cell_type": "code",
   "execution_count": null,
   "id": "c062deb9",
   "metadata": {},
   "outputs": [],
   "source": []
  },
  {
   "cell_type": "markdown",
   "id": "fd5a7dba",
   "metadata": {},
   "source": [
    "## Resnet original model - .5 dropout, 2 layers "
   ]
  },
  {
   "cell_type": "code",
   "execution_count": 124,
   "id": "91b5b43d",
   "metadata": {},
   "outputs": [
    {
     "name": "stdout",
     "output_type": "stream",
     "text": [
      "Found 2954 images belonging to 2 classes.\n",
      "24/24 [==============================] - 93s 3s/step - loss: 0.3327 - tp: 519.0000 - fp: 295.0000 - tn: 1956.0000 - fn: 184.0000 - accuracy: 0.8378 - precision: 0.6376 - recall: 0.7383 - auc: 0.9137 - prc: 0.7544\n"
     ]
    }
   ],
   "source": [
    "cnn=None\n",
    "keras.backend.clear_session()\n",
    "filename = 'resnet-cb.h5'\n",
    "test = import_test_old_format()\n",
    "class_weight, METRICS, earlystop, checkpoint = base_set_up(filename, 5)\n",
    "cnn = load_model(filename)\n",
    "results['resnet-2-dense-5-dropout'] = cnn.evaluate(test)\n",
    "\n",
    "\n"
   ]
  },
  {
   "cell_type": "markdown",
   "id": "96c6a426",
   "metadata": {},
   "source": [
    "# Some Graphs"
   ]
  },
  {
   "cell_type": "code",
   "execution_count": 125,
   "id": "49e9df14",
   "metadata": {},
   "outputs": [],
   "source": [
    "import seaborn as sns\n"
   ]
  },
  {
   "cell_type": "code",
   "execution_count": 178,
   "id": "0f203934",
   "metadata": {},
   "outputs": [
    {
     "data": {
      "text/plain": [
       "[1.85201096534729,\n",
       " 0.0,\n",
       " 0.0,\n",
       " 2251.0,\n",
       " 703.0,\n",
       " 0.7620176076889038,\n",
       " 0.0,\n",
       " 0.0,\n",
       " 0.5,\n",
       " 0.2379823923110962]"
      ]
     },
     "execution_count": 178,
     "metadata": {},
     "output_type": "execute_result"
    }
   ],
   "source": [
    "results.pop('cnn_small_layer_longer', None)"
   ]
  },
  {
   "cell_type": "code",
   "execution_count": 179,
   "id": "ba33df99",
   "metadata": {},
   "outputs": [],
   "source": [
    "xx = pd.DataFrame(results).transpose().reset_index()\n",
    "xx.columns=['model','loss','tp','fp','tn','fn','accuracy','precision','recall','auc','prc']"
   ]
  },
  {
   "cell_type": "code",
   "execution_count": 180,
   "id": "0702de00",
   "metadata": {},
   "outputs": [],
   "source": [
    "xx['model_type'] = xx.model.str.extract(r'(^\\w*?)[_-].?')"
   ]
  },
  {
   "cell_type": "code",
   "execution_count": 181,
   "id": "b2886c7b",
   "metadata": {},
   "outputs": [
    {
     "data": {
      "text/html": [
       "<div>\n",
       "<style scoped>\n",
       "    .dataframe tbody tr th:only-of-type {\n",
       "        vertical-align: middle;\n",
       "    }\n",
       "\n",
       "    .dataframe tbody tr th {\n",
       "        vertical-align: top;\n",
       "    }\n",
       "\n",
       "    .dataframe thead th {\n",
       "        text-align: right;\n",
       "    }\n",
       "</style>\n",
       "<table border=\"1\" class=\"dataframe\">\n",
       "  <thead>\n",
       "    <tr style=\"text-align: right;\">\n",
       "      <th></th>\n",
       "      <th>model</th>\n",
       "      <th>loss</th>\n",
       "      <th>tp</th>\n",
       "      <th>fp</th>\n",
       "      <th>tn</th>\n",
       "      <th>fn</th>\n",
       "      <th>accuracy</th>\n",
       "      <th>precision</th>\n",
       "      <th>recall</th>\n",
       "      <th>auc</th>\n",
       "      <th>prc</th>\n",
       "      <th>model_type</th>\n",
       "    </tr>\n",
       "  </thead>\n",
       "  <tbody>\n",
       "    <tr>\n",
       "      <th>0</th>\n",
       "      <td>cnn_simple</td>\n",
       "      <td>0.414888</td>\n",
       "      <td>471.0</td>\n",
       "      <td>418.0</td>\n",
       "      <td>1833.0</td>\n",
       "      <td>232.0</td>\n",
       "      <td>0.779959</td>\n",
       "      <td>0.529809</td>\n",
       "      <td>0.669986</td>\n",
       "      <td>0.845958</td>\n",
       "      <td>0.593071</td>\n",
       "      <td>cnn</td>\n",
       "    </tr>\n",
       "    <tr>\n",
       "      <th>1</th>\n",
       "      <td>vgg19-simple</td>\n",
       "      <td>0.504007</td>\n",
       "      <td>411.0</td>\n",
       "      <td>521.0</td>\n",
       "      <td>1730.0</td>\n",
       "      <td>292.0</td>\n",
       "      <td>0.724780</td>\n",
       "      <td>0.440987</td>\n",
       "      <td>0.584637</td>\n",
       "      <td>0.762302</td>\n",
       "      <td>0.435520</td>\n",
       "      <td>vgg19</td>\n",
       "    </tr>\n",
       "    <tr>\n",
       "      <th>2</th>\n",
       "      <td>resnet-3-dense-1-dropout</td>\n",
       "      <td>0.360352</td>\n",
       "      <td>627.0</td>\n",
       "      <td>453.0</td>\n",
       "      <td>1798.0</td>\n",
       "      <td>76.0</td>\n",
       "      <td>0.820921</td>\n",
       "      <td>0.580556</td>\n",
       "      <td>0.891892</td>\n",
       "      <td>0.924618</td>\n",
       "      <td>0.779702</td>\n",
       "      <td>resnet</td>\n",
       "    </tr>\n",
       "    <tr>\n",
       "      <th>3</th>\n",
       "      <td>resnet-2-dense-5-dropout</td>\n",
       "      <td>0.332740</td>\n",
       "      <td>519.0</td>\n",
       "      <td>295.0</td>\n",
       "      <td>1956.0</td>\n",
       "      <td>184.0</td>\n",
       "      <td>0.837847</td>\n",
       "      <td>0.637592</td>\n",
       "      <td>0.738265</td>\n",
       "      <td>0.913706</td>\n",
       "      <td>0.754353</td>\n",
       "      <td>resnet</td>\n",
       "    </tr>\n",
       "    <tr>\n",
       "      <th>4</th>\n",
       "      <td>cnn_3_dense_small_rate</td>\n",
       "      <td>0.407728</td>\n",
       "      <td>516.0</td>\n",
       "      <td>433.0</td>\n",
       "      <td>1818.0</td>\n",
       "      <td>187.0</td>\n",
       "      <td>0.790115</td>\n",
       "      <td>0.543730</td>\n",
       "      <td>0.733997</td>\n",
       "      <td>0.867225</td>\n",
       "      <td>0.639796</td>\n",
       "      <td>cnn</td>\n",
       "    </tr>\n",
       "  </tbody>\n",
       "</table>\n",
       "</div>"
      ],
      "text/plain": [
       "                      model      loss     tp     fp      tn     fn  accuracy  \\\n",
       "0                cnn_simple  0.414888  471.0  418.0  1833.0  232.0  0.779959   \n",
       "1              vgg19-simple  0.504007  411.0  521.0  1730.0  292.0  0.724780   \n",
       "2  resnet-3-dense-1-dropout  0.360352  627.0  453.0  1798.0   76.0  0.820921   \n",
       "3  resnet-2-dense-5-dropout  0.332740  519.0  295.0  1956.0  184.0  0.837847   \n",
       "4    cnn_3_dense_small_rate  0.407728  516.0  433.0  1818.0  187.0  0.790115   \n",
       "\n",
       "   precision    recall       auc       prc model_type  \n",
       "0   0.529809  0.669986  0.845958  0.593071        cnn  \n",
       "1   0.440987  0.584637  0.762302  0.435520      vgg19  \n",
       "2   0.580556  0.891892  0.924618  0.779702     resnet  \n",
       "3   0.637592  0.738265  0.913706  0.754353     resnet  \n",
       "4   0.543730  0.733997  0.867225  0.639796        cnn  "
      ]
     },
     "execution_count": 181,
     "metadata": {},
     "output_type": "execute_result"
    }
   ],
   "source": [
    "xx"
   ]
  },
  {
   "cell_type": "code",
   "execution_count": 173,
   "id": "c7f8b2ab",
   "metadata": {},
   "outputs": [
    {
     "data": {
      "text/plain": [
       "<AxesSubplot:xlabel='fn', ylabel='tn'>"
      ]
     },
     "execution_count": 173,
     "metadata": {},
     "output_type": "execute_result"
    },
    {
     "data": {
      "image/png": "[encoded data removed]",
      "text/plain": [
       "<Figure size 576x360 with 1 Axes>"
      ]
     },
     "metadata": {},
     "output_type": "display_data"
    }
   ],
   "source": [
    "sns.set(rc={'figure.figsize':(8,5)})\n",
    "sns.scatterplot(data=xx, x='fn',y='tn',hue='model_type')"
   ]
  },
  {
   "cell_type": "code",
   "execution_count": 171,
   "id": "9e1be5cc",
   "metadata": {},
   "outputs": [
    {
     "data": {
      "text/plain": [
       "<AxesSubplot:xlabel='auc', ylabel='recall'>"
      ]
     },
     "execution_count": 171,
     "metadata": {},
     "output_type": "execute_result"
    },
    {
     "data": {
      "image/png": "[encoded data removed]",
      "text/plain": [
       "<Figure size 576x360 with 1 Axes>"
      ]
     },
     "metadata": {},
     "output_type": "display_data"
    }
   ],
   "source": [
    "sns.set(rc={'figure.figsize':(8,5)})\n",
    "sns.scatterplot(data=xx, x='auc',y='recall',hue='model_type')"
   ]
  },
  {
   "cell_type": "code",
   "execution_count": 149,
   "id": "fdc338d9",
   "metadata": {},
   "outputs": [
    {
     "name": "stdout",
     "output_type": "stream",
     "text": [
      "Found 23194 images belonging to 2 classes.\n",
      "Found 3047 images belonging to 2 classes.\n"
     ]
    }
   ],
   "source": [
    "def import_data():\n",
    "    datagen = ImageDataGenerator()\n",
    "    new_path=Path.cwd()/'data_split'\n",
    "    images_directory = new_path\n",
    "    cb_training = datagen.flow_from_directory(images_directory/'training', class_mode='binary')\n",
    "    cb_validation = datagen.flow_from_directory(images_directory/'validation', class_mode='binary')\n",
    "    return (cb_training, cb_validation)\n",
    "\n",
    "\n",
    "cb_training, cb_validation = import_data()\n",
    "\n"
   ]
  },
  {
   "cell_type": "code",
   "execution_count": 156,
   "id": "070f77c1",
   "metadata": {},
   "outputs": [
    {
     "data": {
      "text/plain": [
       "0.2620524540211122"
      ]
     },
     "execution_count": 156,
     "metadata": {},
     "output_type": "execute_result"
    }
   ],
   "source": [
    "unique, counts = np.unique(cb_training.classes, return_counts=True)\n",
    "a = dict(zip(unique, counts))\n",
    "a[1]/a[0]"
   ]
  },
  {
   "cell_type": "code",
   "execution_count": 157,
   "id": "8eac261d",
   "metadata": {},
   "outputs": [
    {
     "data": {
      "text/plain": [
       "0.2999146757679181"
      ]
     },
     "execution_count": 157,
     "metadata": {},
     "output_type": "execute_result"
    }
   ],
   "source": [
    "unique, counts = np.unique(cb_validation.classes, return_counts=True)\n",
    "b = dict(zip(unique, counts))\n",
    "b[1]/b[0]"
   ]
  },
  {
   "cell_type": "code",
   "execution_count": 158,
   "id": "7c35c1ef",
   "metadata": {},
   "outputs": [
    {
     "data": {
      "text/plain": [
       "0.3123056419369169"
      ]
     },
     "execution_count": 158,
     "metadata": {},
     "output_type": "execute_result"
    }
   ],
   "source": [
    "unique, counts = np.unique(test.classes, return_counts=True)\n",
    "b = dict(zip(unique, counts))\n",
    "b[1]/b[0]"
   ]
  }
 ],
 "metadata": {
  "kernelspec": {
   "display_name": "Python [conda env:metis] *",
   "language": "python",
   "name": "conda-env-metis-py"
  },
  "language_info": {
   "codemirror_mode": {
    "name": "ipython",
    "version": 3
   },
   "file_extension": ".py",
   "mimetype": "text/x-python",
   "name": "python",
   "nbconvert_exporter": "python",
   "pygments_lexer": "ipython3",
   "version": "3.8.12"
  }
 },
 "nbformat": 4,
 "nbformat_minor": 5
}
