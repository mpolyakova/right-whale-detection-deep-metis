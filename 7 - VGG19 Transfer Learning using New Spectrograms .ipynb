{
 "cells": [
  {
   "cell_type": "code",
   "execution_count": 9,
   "id": "e10fcc5e",
   "metadata": {},
   "outputs": [],
   "source": [
    "import librosa \n",
    "import librosa.display\n",
    "import numpy as np\n",
    "import pandas as pd\n",
    "from pathlib import Path\n",
    "import seaborn as sns\n",
    "from tensorflow import keras \n",
    "from tensorflow.keras.preprocessing import image_dataset_from_directory, image \n",
    "from tensorflow.keras import layers\n",
    "from tensorflow.keras.models import Sequential, Model\n",
    "from tensorflow.keras.applications import VGG19\n",
    "from tensorflow.keras.layers import Dense, Conv2D, MaxPooling2D, Flatten, GlobalAveragePooling2D, InputLayer, Dropout\n",
    "from tensorflow.keras.callbacks import EarlyStopping, ModelCheckpoint\n",
    "\n"
   ]
  },
  {
   "cell_type": "code",
   "execution_count": null,
   "id": "ff85baaf",
   "metadata": {},
   "outputs": [],
   "source": [
    "import matplotlib.pyplot as plt\n",
    "from sklearn.model_selection import train_test_split\n",
    "from tqdm import tqdm\n",
    "from sklearn.utils.class_weight import compute_class_weight"
   ]
  },
  {
   "cell_type": "code",
   "execution_count": 3,
   "id": "3d278686",
   "metadata": {},
   "outputs": [],
   "source": [
    "path = Path.cwd()/'data'\n",
    "answers = pd.read_csv('answers.csv')\n",
    "images_directory = path/'train_images'"
   ]
  },
  {
   "cell_type": "code",
   "execution_count": 14,
   "id": "808abfc3",
   "metadata": {},
   "outputs": [
    {
     "name": "stdout",
     "output_type": "stream",
     "text": [
      "Found 30000 files belonging to 2 classes.\n",
      "Using 24000 files for training.\n",
      "Found 30000 files belonging to 2 classes.\n",
      "Using 6000 files for validation.\n"
     ]
    }
   ],
   "source": [
    "cb_training = image_dataset_from_directory(images_directory, labels='inferred', image_size=(97,97), subset='training', validation_split=.2, seed=10)\n",
    "cb_validation = image_dataset_from_directory(images_directory, labels='inferred', image_size=(97,97), subset='validation', validation_split=.2, seed=10)"
   ]
  },
  {
   "cell_type": "markdown",
   "id": "7538b90e",
   "metadata": {},
   "source": [
    "# Transfer  "
   ]
  },
  {
   "cell_type": "markdown",
   "id": "81f8e9fe",
   "metadata": {},
   "source": [
    "## Bunches of Metrics"
   ]
  },
  {
   "cell_type": "code",
   "execution_count": 6,
   "id": "c4df2a6d",
   "metadata": {},
   "outputs": [],
   "source": [
    "METRICS = [\n",
    "      keras.metrics.TruePositives(name='tp'),\n",
    "      keras.metrics.FalsePositives(name='fp'),\n",
    "      keras.metrics.TrueNegatives(name='tn'),\n",
    "      keras.metrics.FalseNegatives(name='fn'), \n",
    "      keras.metrics.BinaryAccuracy(name='accuracy'),\n",
    "      keras.metrics.Precision(name='precision'),\n",
    "      keras.metrics.Recall(name='recall'),\n",
    "      keras.metrics.AUC(name='auc'),\n",
    "      keras.metrics.AUC(name='prc', curve='PR'), # precision-recall curve\n",
    "]\n"
   ]
  },
  {
   "cell_type": "markdown",
   "id": "56a5c5d7",
   "metadata": {},
   "source": [
    "## Class Weight Computation"
   ]
  },
  {
   "cell_type": "code",
   "execution_count": 7,
   "id": "7d463e5c",
   "metadata": {},
   "outputs": [],
   "source": [
    "\n",
    "xx =compute_class_weight(class_weight='balanced',classes=np.unique(answers.label), y=answers.label)\n",
    "class_weight = dict(zip(np.unique(answers.label), xx))"
   ]
  },
  {
   "cell_type": "code",
   "execution_count": 17,
   "id": "effd285b",
   "metadata": {},
   "outputs": [],
   "source": [
    "earlystop = EarlyStopping(monitor='val_loss', mode='min', verbose=1)\n",
    "checkpoint = ModelCheckpoint('transfer_vgg19_default_learn_rate.h5', monitor='val_loss', verbose=1, save_best_only=True, save_weights_only=False, mode='auto')\n",
    "\n"
   ]
  },
  {
   "cell_type": "markdown",
   "id": "0ee4a0c9",
   "metadata": {},
   "source": [
    "## Model VGG19 Transfer Learning 1 - Default Learn Rate"
   ]
  },
  {
   "cell_type": "code",
   "execution_count": 20,
   "id": "1e603cbc",
   "metadata": {},
   "outputs": [],
   "source": [
    "base_model = VGG19(weights='imagenet', include_top=False, input_shape=(97,97,3))\n",
    "for layer in base_model.layers:\n",
    "    layer.trainable = False\n",
    "\n",
    "x = base_model.output\n",
    "x = Flatten()(x)\n",
    "\n",
    "x = Dense(1000, activation='relu')(x)\n",
    "x = Dropout(.5)(x)\n",
    "x = Dense(1000, activation='relu')(x)\n",
    "x = Dropout(.5)(x)\n",
    "\n",
    "\n",
    "predictions = Dense(1, activation='sigmoid')(x)\n",
    "\n",
    "model =  Model(inputs=base_model.input, outputs=predictions)\n",
    "model.compile(optimizer='adam',loss='binary_crossentropy', metrics=METRICS)"
   ]
  },
  {
   "cell_type": "code",
   "execution_count": 21,
   "id": "319ba101",
   "metadata": {},
   "outputs": [
    {
     "name": "stdout",
     "output_type": "stream",
     "text": [
      "Epoch 1/10\n",
      "750/750 [==============================] - 758s 1s/step - loss: 1.1447 - tp: 9445.0000 - fp: 16918.0000 - tn: 19169.0000 - fn: 1572.0000 - accuracy: 0.6075 - precision: 0.3583 - recall: 0.8573 - auc: 0.7638 - prc: 0.4648 - val_loss: 0.3378 - val_tp: 1175.0000 - val_fp: 737.0000 - val_tn: 3864.0000 - val_fn: 224.0000 - val_accuracy: 0.8398 - val_precision: 0.6145 - val_recall: 0.8399 - val_auc: 0.9093 - val_prc: 0.7493\n",
      "\n",
      "Epoch 00001: val_loss improved from inf to 0.33776, saving model to transfer_vgg19_default_learn_rate.h5\n"
     ]
    }
   ],
   "source": [
    "history = model.fit(cb_training, epochs=10,validation_data=cb_validation, class_weight = class_weight, callbacks=[earlystop,checkpoint])"
   ]
  }
 ],
 "metadata": {
  "kernelspec": {
   "display_name": "Python [conda env:metis] *",
   "language": "python",
   "name": "conda-env-metis-py"
  },
  "language_info": {
   "codemirror_mode": {
    "name": "ipython",
    "version": 3
   },
   "file_extension": ".py",
   "mimetype": "text/x-python",
   "name": "python",
   "nbconvert_exporter": "python",
   "pygments_lexer": "ipython3",
   "version": "3.8.12"
  }
 },
 "nbformat": 4,
 "nbformat_minor": 5
}
