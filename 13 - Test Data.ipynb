{
 "cells": [
  {
   "cell_type": "code",
   "execution_count": 104,
   "id": "e134bc9a",
   "metadata": {},
   "outputs": [],
   "source": [
    "import librosa \n",
    "import librosa.display\n",
    "import numpy as np\n",
    "import pandas as pd\n",
    "from pathlib import Path\n",
    "import seaborn as sns\n",
    "from tensorflow import keras \n",
    "from tensorflow.keras.preprocessing import image_dataset_from_directory, image\n",
    "from tensorflow.keras import layers\n",
    "from tensorflow.keras.models import Sequential, Model, load_model\n",
    "from tensorflow.keras.optimizers import Adam, SGD\n",
    "from tensorflow.keras.applications import VGG19, ResNet50\n",
    "from tensorflow.keras.layers import Dense, Conv2D, MaxPooling2D, Flatten, GlobalAveragePooling2D, InputLayer, Dropout\n",
    "from tensorflow.keras.callbacks import EarlyStopping, ModelCheckpoint\n",
    "import matplotlib.pyplot as plt\n",
    "from sklearn.model_selection import train_test_split\n",
    "from tqdm import tqdm\n",
    "from sklearn.utils.class_weight import compute_class_weight\n",
    "import tensorflow as tf\n",
    "from tensorflow.keras.preprocessing.image import ImageDataGenerator"
   ]
  },
  {
   "cell_type": "code",
   "execution_count": 113,
   "id": "1ef25a95",
   "metadata": {
    "scrolled": true
   },
   "outputs": [],
   "source": [
    "def import_test():\n",
    "    datagen = ImageDataGenerator()\n",
    "    new_path=Path.cwd()/'data_split'\n",
    "    images_directory = new_path\n",
    "    cb_test = datagen.flow_from_directory(images_directory/'test', class_mode='binary')\n",
    "    return cb_test\n",
    "\n",
    "def import_test_old_format():\n",
    "    datagen = ImageDataGenerator()\n",
    "    new_path=Path.cwd()/'data_split'\n",
    "    images_directory = new_path\n",
    "    cb_test = datagen.flow_from_directory(images_directory/'test', class_mode='binary', target_size=(97,97), batch_size=128 )\n",
    "    return cb_test\n",
    "    \n",
    "    \n",
    "def base_set_up(filename, patience=2):\n",
    "    \n",
    "    xx =compute_class_weight(class_weight='balanced',classes=np.unique(answers.label), y=answers.label)\n",
    "    class_weight = dict(zip(np.unique(answers.label), xx))\n",
    "    METRICS = [\n",
    "      keras.metrics.TruePositives(name='tp'),\n",
    "      keras.metrics.FalsePositives(name='fp'),\n",
    "      keras.metrics.TrueNegatives(name='tn'),\n",
    "      keras.metrics.FalseNegatives(name='fn'), \n",
    "      keras.metrics.BinaryAccuracy(name='accuracy'),\n",
    "      keras.metrics.Precision(name='precision'),\n",
    "      keras.metrics.Recall(name='recall'),\n",
    "      keras.metrics.AUC(name='auc'),\n",
    "      keras.metrics.AUC(name='prc', curve='PR'), # precision-recall curve\n",
    "    ]\n",
    "\n",
    "    earlystop = EarlyStopping(monitor='val_accuracy',verbose=1, patience=patience)\n",
    "    checkpoint = ModelCheckpoint(filename, monitor='val_accuracy', save_best_only=True,save_weights_only=False, verbose=1)\n",
    "    return (class_weight, METRICS, earlystop, checkpoint)"
   ]
  },
  {
   "cell_type": "code",
   "execution_count": 120,
   "id": "7374a569",
   "metadata": {},
   "outputs": [],
   "source": [
    "results = {}"
   ]
  },
  {
   "cell_type": "markdown",
   "id": "c0dc9f81",
   "metadata": {},
   "source": [
    "# CNN Test"
   ]
  },
  {
   "cell_type": "code",
   "execution_count": 121,
   "id": "28c1a969",
   "metadata": {
    "scrolled": false
   },
   "outputs": [
    {
     "name": "stdout",
     "output_type": "stream",
     "text": [
      "Found 2954 images belonging to 2 classes.\n",
      "93/93 [==============================] - 25s 223ms/step - loss: 0.4149 - tp: 471.0000 - fp: 418.0000 - tn: 1833.0000 - fn: 232.0000 - accuracy: 0.7800 - precision: 0.5298 - recall: 0.6700 - auc: 0.8460 - prc: 0.5931\n"
     ]
    }
   ],
   "source": [
    "cnn = None\n",
    "keras.backend.clear_session()\n",
    "filename = 'cnn_overfit2.h5'\n",
    "\n",
    "test = import_test()\n",
    "class_weight, METRICS, earlystop, checkpoint = base_set_up(filename, 5)\n",
    "cnn = load_model(filename)\n",
    "results['cnn_simple'] = cnn.evaluate(test)\n",
    "\n"
   ]
  },
  {
   "cell_type": "code",
   "execution_count": 143,
   "id": "5025ea28",
   "metadata": {},
   "outputs": [
    {
     "name": "stdout",
     "output_type": "stream",
     "text": [
      "Found 2954 images belonging to 2 classes.\n",
      "93/93 [==============================] - 29s 276ms/step - loss: 1.0124 - tp: 0.0000e+00 - fp: 0.0000e+00 - tn: 2251.0000 - fn: 703.0000 - accuracy: 0.7620 - precision: 0.0000e+00 - recall: 0.0000e+00 - auc: 0.4745 - prc: 0.2211\n"
     ]
    }
   ],
   "source": [
    "# cnn = None\n",
    "# keras.backend.clear_session()\n",
    "# filename = 'cnn_small_layer.h5'\n",
    "\n",
    "# test = import_test()\n",
    "# class_weight, METRICS, earlystop, checkpoint = base_set_up(filename, 5)\n",
    "# cnn = load_model(filename)\n",
    "# results['cnn_add_small_layer_first'] = cnn.evaluate(test)\n",
    "\n",
    "\n"
   ]
  },
  {
   "cell_type": "code",
   "execution_count": 148,
   "id": "3db9fdc8",
   "metadata": {},
   "outputs": [
    {
     "name": "stdout",
     "output_type": "stream",
     "text": [
      "Found 2954 images belonging to 2 classes.\n",
      "93/93 [==============================] - 28s 252ms/step - loss: 1.8520 - tp: 0.0000e+00 - fp: 0.0000e+00 - tn: 2251.0000 - fn: 703.0000 - accuracy: 0.7620 - precision: 0.0000e+00 - recall: 0.0000e+00 - auc: 0.5000 - prc: 0.2380\n"
     ]
    }
   ],
   "source": [
    "# cnn = None\n",
    "# keras.backend.clear_session()\n",
    "# filename = 'cnn_small_layer.h5'\n",
    "\n",
    "# test = import_test()\n",
    "# class_weight, METRICS, earlystop, checkpoint = base_set_up(filename, 5)\n",
    "# cnn = load_model(filename)\n",
    "# results['cnn_small_layer_longer'] = cnn.evaluate(test)\n",
    "\n",
    "\n",
    "\n"
   ]
  },
  {
   "cell_type": "code",
   "execution_count": 186,
   "id": "7a8e11f9",
   "metadata": {},
   "outputs": [
    {
     "name": "stdout",
     "output_type": "stream",
     "text": [
      "Found 2954 images belonging to 2 classes.\n",
      "93/93 [==============================] - 9s 87ms/step - loss: 0.6182 - tp: 1.0000 - fp: 0.0000e+00 - tn: 2251.0000 - fn: 702.0000 - accuracy: 0.7624 - precision: 1.0000 - recall: 0.0014 - auc: 0.5035 - prc: 0.2338\n"
     ]
    }
   ],
   "source": [
    "\n",
    "cnn = None\n",
    "keras.backend.clear_session()\n",
    "filename = 'cnn_3_dense_3_dropout.h5'\n",
    "\n",
    "test = import_test()\n",
    "class_weight, METRICS, earlystop, checkpoint = base_set_up(filename, 5)\n",
    "cnn = load_model(filename)\n",
    "results['cnn-3-dense-3-dropoout'] = cnn.evaluate(test)\n",
    "\n",
    "\n"
   ]
  },
  {
   "cell_type": "code",
   "execution_count": 151,
   "id": "3d0e1e40",
   "metadata": {},
   "outputs": [
    {
     "name": "stdout",
     "output_type": "stream",
     "text": [
      "Found 2954 images belonging to 2 classes.\n",
      "93/93 [==============================] - 18s 165ms/step - loss: 0.4077 - tp: 516.0000 - fp: 433.0000 - tn: 1818.0000 - fn: 187.0000 - accuracy: 0.7901 - precision: 0.5437 - recall: 0.7340 - auc: 0.8672 - prc: 0.6398\n"
     ]
    }
   ],
   "source": [
    "cnn = None\n",
    "keras.backend.clear_session()\n",
    "filename = 'cnn_overfit2.h5'\n",
    "\n",
    "test = import_test()\n",
    "class_weight, METRICS, earlystop, checkpoint = base_set_up(filename, 5)\n",
    "cnn = load_model(filename)\n",
    "results['cnn_3_dense_small_rate'] = cnn.evaluate(test)\n",
    "\n",
    "\n"
   ]
  },
  {
   "cell_type": "code",
   "execution_count": 110,
   "id": "7c7c8709",
   "metadata": {},
   "outputs": [
    {
     "data": {
      "text/plain": [
       "<tf.Tensor: shape=(2, 2), dtype=int32, numpy=\n",
       "array([[1658,  530],\n",
       "       [ 593,  173]], dtype=int32)>"
      ]
     },
     "execution_count": 110,
     "metadata": {},
     "output_type": "execute_result"
    }
   ],
   "source": [
    "tf.math.confusion_matrix(cnn.predict_classes(test), test.classes)\n",
    "\n",
    "# We're seeing a lot of false negatives rather than false positives. "
   ]
  },
  {
   "cell_type": "code",
   "execution_count": null,
   "id": "b8c1c77f",
   "metadata": {},
   "outputs": [],
   "source": []
  },
  {
   "cell_type": "markdown",
   "id": "c85ad8ae",
   "metadata": {},
   "source": [
    "# VGG 19 Test\n",
    "We abandoned training further, but I still want stats \n"
   ]
  },
  {
   "cell_type": "code",
   "execution_count": 122,
   "id": "bc5bf6c8",
   "metadata": {},
   "outputs": [
    {
     "name": "stdout",
     "output_type": "stream",
     "text": [
      "Found 2954 images belonging to 2 classes.\n",
      "24/24 [==============================] - 164s 7s/step - loss: 0.5040 - tp: 411.0000 - fp: 521.0000 - tn: 1730.0000 - fn: 292.0000 - accuracy: 0.7248 - precision: 0.4410 - recall: 0.5846 - auc: 0.7623 - prc: 0.4355\n"
     ]
    }
   ],
   "source": [
    "vgg19 = None\n",
    "keras.backend.clear_session()\n",
    "\n",
    "filename = 'vgg19-cb-2.h5'\n",
    "\n",
    "test = import_test_old_format()\n",
    "class_weight, METRICS, earlystop, checkpoint = base_set_up(filename, 5)\n",
    "cnn = load_model(filename)\n",
    "results['vgg19-simple'] = cnn.evaluate(test)\n"
   ]
  },
  {
   "cell_type": "markdown",
   "id": "7e2237fd",
   "metadata": {},
   "source": [
    "# Resnet Test\n",
    "We're gonna try multiple models for resnet since we trained multiple \n",
    "\n",
    "## Resnet With Smaller Dropout and 3 dense layers"
   ]
  },
  {
   "cell_type": "code",
   "execution_count": 123,
   "id": "c5d7aee3",
   "metadata": {},
   "outputs": [
    {
     "name": "stdout",
     "output_type": "stream",
     "text": [
      "Found 2954 images belonging to 2 classes.\n",
      "WARNING:tensorflow:Error in loading the saved optimizer state. As a result, your model is starting with a freshly initialized optimizer.\n",
      "24/24 [==============================] - 85s 3s/step - loss: 0.3604 - tp: 627.0000 - fp: 453.0000 - tn: 1798.0000 - fn: 76.0000 - accuracy: 0.8209 - precision: 0.5806 - recall: 0.8919 - auc: 0.9246 - prc: 0.7797\n"
     ]
    }
   ],
   "source": [
    "cnn=None\n",
    "keras.backend.clear_session()\n",
    "filename = 'resnet-cb-3-dropout-1.h5'\n",
    "test = import_test_old_format()\n",
    "class_weight, METRICS, earlystop, checkpoint = base_set_up(filename, 5)\n",
    "cnn = load_model(filename)\n",
    "results['resnet-3-dense-1-dropout'] = cnn.evaluate(test)\n",
    "\n"
   ]
  },
  {
   "cell_type": "markdown",
   "id": "68c75668",
   "metadata": {},
   "source": [
    "## Resnet w/ 2 and smaller dropout "
   ]
  },
  {
   "cell_type": "code",
   "execution_count": 182,
   "id": "89e9b2ec",
   "metadata": {},
   "outputs": [
    {
     "name": "stdout",
     "output_type": "stream",
     "text": [
      "Found 2954 images belonging to 2 classes.\n",
      "24/24 [==============================] - 37s 1s/step - loss: 0.3235 - tp: 542.0000 - fp: 285.0000 - tn: 1966.0000 - fn: 161.0000 - accuracy: 0.8490 - precision: 0.6554 - recall: 0.7710 - auc: 0.9208 - prc: 0.7808\n"
     ]
    }
   ],
   "source": [
    "cnn=None\n",
    "keras.backend.clear_session()\n",
    "filename = 'resnet-2-layer-1-dropout.h5'\n",
    "test = import_test_old_format()\n",
    "class_weight, METRICS, earlystop, checkpoint = base_set_up(filename, 5)\n",
    "cnn = load_model(filename)\n",
    "results['resnet-2-dense-1-dropout'] = cnn.evaluate(test)\n",
    "\n",
    "\n"
   ]
  },
  {
   "cell_type": "markdown",
   "id": "65147cc9",
   "metadata": {},
   "source": [
    "## Resnet original model - .5 dropout, 2 layers "
   ]
  },
  {
   "cell_type": "code",
   "execution_count": 124,
   "id": "70ebf455",
   "metadata": {},
   "outputs": [
    {
     "name": "stdout",
     "output_type": "stream",
     "text": [
      "Found 2954 images belonging to 2 classes.\n",
      "24/24 [==============================] - 93s 3s/step - loss: 0.3327 - tp: 519.0000 - fp: 295.0000 - tn: 1956.0000 - fn: 184.0000 - accuracy: 0.8378 - precision: 0.6376 - recall: 0.7383 - auc: 0.9137 - prc: 0.7544\n"
     ]
    }
   ],
   "source": [
    "cnn=None\n",
    "keras.backend.clear_session()\n",
    "filename = 'resnet-cb.h5'\n",
    "test = import_test_old_format()\n",
    "class_weight, METRICS, earlystop, checkpoint = base_set_up(filename, 5)\n",
    "cnn = load_model(filename)\n",
    "results['resnet-2-dense-5-dropout'] = cnn.evaluate(test)\n",
    "\n",
    "\n"
   ]
  },
  {
   "cell_type": "markdown",
   "id": "50e77a7f",
   "metadata": {},
   "source": [
    "# Some Graphs"
   ]
  },
  {
   "cell_type": "code",
   "execution_count": 125,
   "id": "d589fbf3",
   "metadata": {},
   "outputs": [],
   "source": [
    "import seaborn as sns\n"
   ]
  },
  {
   "cell_type": "code",
   "execution_count": 178,
   "id": "66e51ff3",
   "metadata": {},
   "outputs": [
    {
     "data": {
      "text/plain": [
       "[1.85201096534729,\n",
       " 0.0,\n",
       " 0.0,\n",
       " 2251.0,\n",
       " 703.0,\n",
       " 0.7620176076889038,\n",
       " 0.0,\n",
       " 0.0,\n",
       " 0.5,\n",
       " 0.2379823923110962]"
      ]
     },
     "execution_count": 178,
     "metadata": {},
     "output_type": "execute_result"
    }
   ],
   "source": [
    "# results.pop('cnn_small_layer_longer', None)"
   ]
  },
  {
   "cell_type": "code",
   "execution_count": 187,
   "id": "c51e7a88",
   "metadata": {},
   "outputs": [],
   "source": [
    "xx = pd.DataFrame(results).transpose().reset_index()\n",
    "xx.columns=['model','loss','tp','fp','tn','fn','accuracy','precision','recall','auc','prc']"
   ]
  },
  {
   "cell_type": "code",
   "execution_count": 188,
   "id": "806acb01",
   "metadata": {},
   "outputs": [],
   "source": [
    "xx['model_type'] = xx.model.str.extract(r'(^\\w*?)[_-].?')"
   ]
  },
  {
   "cell_type": "code",
   "execution_count": 370,
   "id": "d2444d54",
   "metadata": {},
   "outputs": [
    {
     "data": {
      "text/html": [
       "<div>\n",
       "<style scoped>\n",
       "    .dataframe tbody tr th:only-of-type {\n",
       "        vertical-align: middle;\n",
       "    }\n",
       "\n",
       "    .dataframe tbody tr th {\n",
       "        vertical-align: top;\n",
       "    }\n",
       "\n",
       "    .dataframe thead th {\n",
       "        text-align: right;\n",
       "    }\n",
       "</style>\n",
       "<table border=\"1\" class=\"dataframe\">\n",
       "  <thead>\n",
       "    <tr style=\"text-align: right;\">\n",
       "      <th></th>\n",
       "      <th>model</th>\n",
       "      <th>loss</th>\n",
       "      <th>tp</th>\n",
       "      <th>fp</th>\n",
       "      <th>tn</th>\n",
       "      <th>fn</th>\n",
       "      <th>accuracy</th>\n",
       "      <th>precision</th>\n",
       "      <th>recall</th>\n",
       "      <th>auc</th>\n",
       "      <th>prc</th>\n",
       "      <th>model_type</th>\n",
       "    </tr>\n",
       "  </thead>\n",
       "  <tbody>\n",
       "    <tr>\n",
       "      <th>6</th>\n",
       "      <td>cnn-3-dense-3-dropoout</td>\n",
       "      <td>0.618181</td>\n",
       "      <td>1.0</td>\n",
       "      <td>0.0</td>\n",
       "      <td>2251.0</td>\n",
       "      <td>702.0</td>\n",
       "      <td>0.762356</td>\n",
       "      <td>1.000000</td>\n",
       "      <td>0.001422</td>\n",
       "      <td>0.503503</td>\n",
       "      <td>0.233770</td>\n",
       "      <td>cnn</td>\n",
       "    </tr>\n",
       "    <tr>\n",
       "      <th>0</th>\n",
       "      <td>cnn_simple</td>\n",
       "      <td>0.414888</td>\n",
       "      <td>471.0</td>\n",
       "      <td>418.0</td>\n",
       "      <td>1833.0</td>\n",
       "      <td>232.0</td>\n",
       "      <td>0.779959</td>\n",
       "      <td>0.529809</td>\n",
       "      <td>0.669986</td>\n",
       "      <td>0.845958</td>\n",
       "      <td>0.593071</td>\n",
       "      <td>cnn</td>\n",
       "    </tr>\n",
       "    <tr>\n",
       "      <th>4</th>\n",
       "      <td>cnn_3_dense_small_rate</td>\n",
       "      <td>0.407728</td>\n",
       "      <td>516.0</td>\n",
       "      <td>433.0</td>\n",
       "      <td>1818.0</td>\n",
       "      <td>187.0</td>\n",
       "      <td>0.790115</td>\n",
       "      <td>0.543730</td>\n",
       "      <td>0.733997</td>\n",
       "      <td>0.867225</td>\n",
       "      <td>0.639796</td>\n",
       "      <td>cnn</td>\n",
       "    </tr>\n",
       "    <tr>\n",
       "      <th>3</th>\n",
       "      <td>resnet-2-dense-5-dropout</td>\n",
       "      <td>0.332740</td>\n",
       "      <td>519.0</td>\n",
       "      <td>295.0</td>\n",
       "      <td>1956.0</td>\n",
       "      <td>184.0</td>\n",
       "      <td>0.837847</td>\n",
       "      <td>0.637592</td>\n",
       "      <td>0.738265</td>\n",
       "      <td>0.913706</td>\n",
       "      <td>0.754353</td>\n",
       "      <td>resnet</td>\n",
       "    </tr>\n",
       "    <tr>\n",
       "      <th>5</th>\n",
       "      <td>resnet-2-dense-1-dropout</td>\n",
       "      <td>0.323453</td>\n",
       "      <td>542.0</td>\n",
       "      <td>285.0</td>\n",
       "      <td>1966.0</td>\n",
       "      <td>161.0</td>\n",
       "      <td>0.849018</td>\n",
       "      <td>0.655381</td>\n",
       "      <td>0.770981</td>\n",
       "      <td>0.920755</td>\n",
       "      <td>0.780820</td>\n",
       "      <td>resnet</td>\n",
       "    </tr>\n",
       "    <tr>\n",
       "      <th>2</th>\n",
       "      <td>resnet-3-dense-1-dropout</td>\n",
       "      <td>0.360352</td>\n",
       "      <td>627.0</td>\n",
       "      <td>453.0</td>\n",
       "      <td>1798.0</td>\n",
       "      <td>76.0</td>\n",
       "      <td>0.820921</td>\n",
       "      <td>0.580556</td>\n",
       "      <td>0.891892</td>\n",
       "      <td>0.924618</td>\n",
       "      <td>0.779702</td>\n",
       "      <td>resnet</td>\n",
       "    </tr>\n",
       "    <tr>\n",
       "      <th>1</th>\n",
       "      <td>vgg19-simple</td>\n",
       "      <td>0.504007</td>\n",
       "      <td>411.0</td>\n",
       "      <td>521.0</td>\n",
       "      <td>1730.0</td>\n",
       "      <td>292.0</td>\n",
       "      <td>0.724780</td>\n",
       "      <td>0.440987</td>\n",
       "      <td>0.584637</td>\n",
       "      <td>0.762302</td>\n",
       "      <td>0.435520</td>\n",
       "      <td>vgg19</td>\n",
       "    </tr>\n",
       "  </tbody>\n",
       "</table>\n",
       "</div>"
      ],
      "text/plain": [
       "                      model      loss     tp     fp      tn     fn  accuracy  \\\n",
       "6    cnn-3-dense-3-dropoout  0.618181    1.0    0.0  2251.0  702.0  0.762356   \n",
       "0                cnn_simple  0.414888  471.0  418.0  1833.0  232.0  0.779959   \n",
       "4    cnn_3_dense_small_rate  0.407728  516.0  433.0  1818.0  187.0  0.790115   \n",
       "3  resnet-2-dense-5-dropout  0.332740  519.0  295.0  1956.0  184.0  0.837847   \n",
       "5  resnet-2-dense-1-dropout  0.323453  542.0  285.0  1966.0  161.0  0.849018   \n",
       "2  resnet-3-dense-1-dropout  0.360352  627.0  453.0  1798.0   76.0  0.820921   \n",
       "1              vgg19-simple  0.504007  411.0  521.0  1730.0  292.0  0.724780   \n",
       "\n",
       "   precision    recall       auc       prc model_type  \n",
       "6   1.000000  0.001422  0.503503  0.233770        cnn  \n",
       "0   0.529809  0.669986  0.845958  0.593071        cnn  \n",
       "4   0.543730  0.733997  0.867225  0.639796        cnn  \n",
       "3   0.637592  0.738265  0.913706  0.754353     resnet  \n",
       "5   0.655381  0.770981  0.920755  0.780820     resnet  \n",
       "2   0.580556  0.891892  0.924618  0.779702     resnet  \n",
       "1   0.440987  0.584637  0.762302  0.435520      vgg19  "
      ]
     },
     "execution_count": 370,
     "metadata": {},
     "output_type": "execute_result"
    }
   ],
   "source": [
    "xx.sort_values(['model_type','recall'])"
   ]
  },
  {
   "cell_type": "code",
   "execution_count": 319,
   "id": "9f690734",
   "metadata": {},
   "outputs": [
    {
     "data": {
      "image/png": "[encoded data removed]",
      "text/plain": [
       "<Figure size 576x432 with 1 Axes>"
      ]
     },
     "metadata": {},
     "output_type": "display_data"
    }
   ],
   "source": [
    "sns.set(rc={'figure.figsize':(8,6)})\n",
    "palette = {\"cnn\":\"tab:cyan\",\n",
    "           \"vgg19\":\"tab:orange\", \n",
    "           \"resnet\":\"tab:red\"}\n",
    "\n",
    "x_param = 'fn'\n",
    "y_param = 'tn' \n",
    "sns.scatterplot(data=xx, x=x_param,y=y_param,hue='model_type',s=100, palette=palette)\n",
    "for i in range(xx.shape[0]):\n",
    "    if(i==5):\n",
    "        plt.text(x=xx[x_param][i],y=xx[y_param][i]+12,s=xx.model[i], \n",
    "          fontdict=dict(color='black',size=12, alpha=.5))\n",
    "    elif(i==2):\n",
    "        plt.text(x=xx[x_param][i]+8,y=xx[y_param][i]-15,s=xx.model[i], \n",
    "          fontdict=dict(color='black',size=12, alpha=.5))\n",
    "    elif(i==0):\n",
    "        plt.text(x=xx[x_param][i]+8,y=xx[y_param][i]+3,s=xx.model[i], \n",
    "          fontdict=dict(color='black',size=12, alpha=.5))\n",
    "    else:\n",
    "        plt.text(x=xx[x_param][i]+10,y=xx[y_param][i]-2,s=xx.model[i], \n",
    "          fontdict=dict(color='black',size=12, alpha=.5))\n",
    "    \n",
    "    \n",
    "plt.xlim(xx[x_param].min()-15,xx[x_param].max()+300)                #set x limit\n",
    "plt.ylim(xx[y_param].min()-20,xx[y_param].max()+20)              #set y limit \n",
    "plt.title(\"True Negatives vs False Negatives\") #title\n",
    "plt.xlabel('False Neg') #x label\n",
    "plt.ylabel('True Neg') #y label\n",
    "plt.legend(loc='lower right')\n",
    "\n",
    "plt.show()"
   ]
  },
  {
   "cell_type": "code",
   "execution_count": 369,
   "id": "d0bd8dc2",
   "metadata": {},
   "outputs": [
    {
     "data": {
      "image/png": "[encoded data removed]",
      "text/plain": [
       "<Figure size 576x432 with 1 Axes>"
      ]
     },
     "metadata": {},
     "output_type": "display_data"
    }
   ],
   "source": [
    "sns.set(rc={'figure.figsize':(8,6)})\n",
    "palette = {\"cnn\":\"tab:cyan\",\n",
    "           \"vgg19\":\"tab:orange\", \n",
    "           \"resnet\":\"tab:red\"}\n",
    "\n",
    "x_param = 'accuracy'\n",
    "y_param = 'fn' \n",
    "sns.scatterplot(data=xx, x=x_param,y=y_param,hue='model_type',s=100, palette=palette,alpha=0.7)\n",
    "\n",
    "for i in range(xx.shape[0]):\n",
    "    if(i==4):\n",
    "        plt.text(x=xx[x_param][i]-.03,y=xx[y_param][i]-20,s=xx.model[i], \n",
    "          fontdict=dict(color='black',size=12, alpha=.5))\n",
    "    elif(i==6):\n",
    "        plt.text(x=xx[x_param][i]-.001,y=xx[y_param][i]-25,s=xx.model[i], \n",
    "          fontdict=dict(color='black',size=12, alpha=.5))\n",
    "#     elif(i==0):\n",
    "#         plt.text(x=xx[x_param][i]+8,y=xx[y_param][i]+3,s=xx.model[i], \n",
    "#           fontdict=dict(color='black',size=12, alpha=.5))\n",
    "    else:\n",
    "        plt.text(x=xx[x_param][i]-.001,y=xx[y_param][i]+20,s=xx.model[i], \n",
    "          fontdict=dict(color='black',size=12, alpha=.5))\n",
    "    \n",
    "    \n",
    "plt.xlim(xx[x_param].min()-.01,xx[x_param].max()+.06)                #set x limit\n",
    "# # plt.ylim(xx[y_param].min(),xx[y_param].max())              #set y limit \n",
    "plt.title(\"Accuracy vs False Negatives\") #title\n",
    "plt.xlabel(x_param) #x label\n",
    "plt.ylabel('False neg') #y label\n",
    "# plt.legend(loc='lower right')\n",
    "\n",
    "\n",
    "plt.show()"
   ]
  },
  {
   "cell_type": "code",
   "execution_count": 368,
   "id": "3c56e4d3",
   "metadata": {},
   "outputs": [
    {
     "data": {
      "image/png": "[encoded data removed]",
      "text/plain": [
       "<Figure size 576x432 with 1 Axes>"
      ]
     },
     "metadata": {},
     "output_type": "display_data"
    }
   ],
   "source": [
    "sns.set(rc={'figure.figsize':(8,6)})\n",
    "palette = {\"cnn\":\"tab:cyan\",\n",
    "           \"vgg19\":\"tab:orange\", \n",
    "           \"resnet\":\"tab:red\"}\n",
    "\n",
    "x_param = 'recall'\n",
    "y_param = 'precision' \n",
    "sns.scatterplot(data=xx, x=x_param,y=y_param,hue='model_type',s=100, palette=palette)\n",
    "for i in range(xx.shape[0]):\n",
    "    if(i in [0,1]):\n",
    "        plt.text(x=xx[x_param][i]-.16,y=xx[y_param][i],s=xx.model[i], \n",
    "          fontdict=dict(color='black',size=12, alpha=.5))\n",
    "    elif(i==6):\n",
    "        plt.text(x=xx[x_param][i],y=xx[y_param][i]+.01,s=xx.model[i], \n",
    "          fontdict=dict(color='black',size=12, alpha=.5))\n",
    "    else:\n",
    "        plt.text(x=xx[x_param][i]-.3,y=xx[y_param][i]+.01,s=xx.model[i], \n",
    "          fontdict=dict(color='black',size=12, alpha=.5))\n",
    "    \n",
    "\n"
   ]
  },
  {
   "cell_type": "code",
   "execution_count": null,
   "id": "3d2887ae",
   "metadata": {},
   "outputs": [],
   "source": [
    "sns.set(rc={'figure.figsize':(10,8)})\n",
    "palette = {\"cnn\":\"tab:cyan\",\n",
    "           \"vgg19\":\"tab:orange\", \n",
    "           \"resnet\":\"tab:red\"}\n",
    "\n",
    "x_param = 'fn'\n",
    "y_param = 'tn' \n",
    "sns.scatterplot(data=xx, x=x_param,y=y_param,hue='model_type',s=100, palette=palette)\n",
    "for i in range(xx.shape[0]):\n",
    "    plt.text(x=xx[x_param][i]+9,y=xx[y_param][i]-2,s=xx.model[i], \n",
    "          fontdict=dict(color='black',size=12, alpha=.5))\n",
    "    \n",
    "    \n",
    "plt.xlim(xx[x_param].min()-15,xx[x_param].max()+220)                #set x limit\n",
    "plt.ylim(xx[y_param].min()-20,xx[y_param].max()+20)              #set y limit \n",
    "plt.title(\"Trained Models Comparison\") #title\n",
    "plt.xlabel(x_param) #x label\n",
    "plt.ylabel(y_param) #y label\n",
    "plt.legend(loc='lower right')\n",
    "\n",
    "plt.show()"
   ]
  },
  {
   "cell_type": "code",
   "execution_count": null,
   "id": "eba8f03a",
   "metadata": {},
   "outputs": [],
   "source": [
    "fig, axes = plt.subplots(5,2, figsize=(15,15))\n",
    "for i,ax in enumerate(axes.flatten()):\n",
    "        key = all_keys[i]\n",
    "        val_key = 'val_'+key\n",
    "        ax.plot(hist[key], label=key, color='green')\n",
    "        ax.plot(hist[val_key], label = val_key, color='darkturquoise')\n",
    "        plt.xlabel('Epoch')\n",
    "        plt.ylabel(key)\n",
    "        ax.legend(loc='lower right')"
   ]
  },
  {
   "cell_type": "code",
   "execution_count": 171,
   "id": "556bb2a8",
   "metadata": {},
   "outputs": [
    {
     "data": {
      "text/plain": [
       "<AxesSubplot:xlabel='auc', ylabel='recall'>"
      ]
     },
     "execution_count": 171,
     "metadata": {},
     "output_type": "execute_result"
    },
    {
     "data": {
      "image/png": "[encoded data removed]",
      "text/plain": [
       "<Figure size 576x360 with 1 Axes>"
      ]
     },
     "metadata": {},
     "output_type": "display_data"
    }
   ],
   "source": [
    "sns.set(rc={'figure.figsize':(8,5)})\n",
    "sns.scatterplot(data=xx, x='auc',y='recall',hue='model_type')"
   ]
  },
  {
   "cell_type": "code",
   "execution_count": 149,
   "id": "b80d49d7",
   "metadata": {},
   "outputs": [
    {
     "name": "stdout",
     "output_type": "stream",
     "text": [
      "Found 23194 images belonging to 2 classes.\n",
      "Found 3047 images belonging to 2 classes.\n"
     ]
    }
   ],
   "source": [
    "def import_data():\n",
    "    datagen = ImageDataGenerator()\n",
    "    new_path=Path.cwd()/'data_split'\n",
    "    images_directory = new_path\n",
    "    cb_training = datagen.flow_from_directory(images_directory/'training', class_mode='binary')\n",
    "    cb_validation = datagen.flow_from_directory(images_directory/'validation', class_mode='binary')\n",
    "    return (cb_training, cb_validation)\n",
    "\n",
    "\n",
    "cb_training, cb_validation = import_data()\n",
    "\n"
   ]
  },
  {
   "cell_type": "code",
   "execution_count": 156,
   "id": "a7d1ea8c",
   "metadata": {},
   "outputs": [
    {
     "data": {
      "text/plain": [
       "0.2620524540211122"
      ]
     },
     "execution_count": 156,
     "metadata": {},
     "output_type": "execute_result"
    }
   ],
   "source": [
    "unique, counts = np.unique(cb_training.classes, return_counts=True)\n",
    "a = dict(zip(unique, counts))\n",
    "a[1]/a[0]"
   ]
  },
  {
   "cell_type": "code",
   "execution_count": 157,
   "id": "916b73c2",
   "metadata": {},
   "outputs": [
    {
     "data": {
      "text/plain": [
       "0.2999146757679181"
      ]
     },
     "execution_count": 157,
     "metadata": {},
     "output_type": "execute_result"
    }
   ],
   "source": [
    "unique, counts = np.unique(cb_validation.classes, return_counts=True)\n",
    "b = dict(zip(unique, counts))\n",
    "b[1]/b[0]"
   ]
  },
  {
   "cell_type": "code",
   "execution_count": 158,
   "id": "9cdae0c5",
   "metadata": {},
   "outputs": [
    {
     "data": {
      "text/plain": [
       "0.3123056419369169"
      ]
     },
     "execution_count": 158,
     "metadata": {},
     "output_type": "execute_result"
    }
   ],
   "source": [
    "unique, counts = np.unique(test.classes, return_counts=True)\n",
    "b = dict(zip(unique, counts))\n",
    "b[1]/b[0]"
   ]
  }
 ],
 "metadata": {
  "kernelspec": {
   "display_name": "Python [conda env:metis] *",
   "language": "python",
   "name": "conda-env-metis-py"
  },
  "language_info": {
   "codemirror_mode": {
    "name": "ipython",
    "version": 3
   },
   "file_extension": ".py",
   "mimetype": "text/x-python",
   "name": "python",
   "nbconvert_exporter": "python",
   "pygments_lexer": "ipython3",
   "version": "3.8.12"
  }
 },
 "nbformat": 4,
 "nbformat_minor": 5
}
