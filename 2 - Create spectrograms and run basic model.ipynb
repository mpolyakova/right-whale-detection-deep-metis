{
 "cells": [
  {
   "cell_type": "code",
   "execution_count": 113,
   "id": "e10fcc5e",
   "metadata": {},
   "outputs": [],
   "source": [
    "import librosa \n",
    "import librosa.display\n",
    "import numpy as np\n",
    "import pandas as pd\n",
    "from pathlib import Path\n",
    "import seaborn as sns\n",
    "from tensorflow import keras \n",
    "from tensorflow.keras.preprocessing import image_dataset_from_directory, image \n",
    "from tensorflow.keras import layers"
   ]
  },
  {
   "cell_type": "code",
   "execution_count": 12,
   "id": "ff85baaf",
   "metadata": {},
   "outputs": [],
   "source": [
    "import matplotlib.pyplot as plt\n",
    "from sklearn.model_selection import train_test_split\n"
   ]
  },
  {
   "cell_type": "code",
   "execution_count": 82,
   "id": "3d278686",
   "metadata": {},
   "outputs": [],
   "source": [
    "path = Path.cwd()/'data'\n",
    "answers = pd.read_csv(path/'train.csv')\n",
    "images_directory = path/'train_images'"
   ]
  },
  {
   "cell_type": "code",
   "execution_count": 97,
   "id": "dfb8e7a2",
   "metadata": {},
   "outputs": [],
   "source": [
    "def get_image_path(row):\n",
    "    file_name = (row['name']+'.jpg')\n",
    "    if row['label']==0:\n",
    "        return images_directory/'no_whale'/file_name\n",
    "    else:\n",
    "        return images_directory/'whale'/file_name\n",
    "    \n",
    "        "
   ]
  },
  {
   "cell_type": "code",
   "execution_count": 136,
   "id": "f235aae2",
   "metadata": {},
   "outputs": [],
   "source": [
    "answers['name'] = answers['clip_name'].str.split('.').str[0]\n",
    "answers['clip_path']=path/'train'/answers['clip_name']\n",
    "answers['image_path']=answers.apply(get_image_path, axis=1)\n",
    "answers.head()\n",
    "answers.to_csv('answers.csv')"
   ]
  },
  {
   "cell_type": "code",
   "execution_count": 9,
   "id": "b6943c84",
   "metadata": {},
   "outputs": [
    {
     "data": {
      "text/plain": [
       "<AxesSubplot:xlabel='label', ylabel='Count'>"
      ]
     },
     "execution_count": 9,
     "metadata": {},
     "output_type": "execute_result"
    },
    {
     "data": {
      "image/png": "[encoded data removed]",
      "text/plain": [
       "<Figure size 432x288 with 1 Axes>"
      ]
     },
     "metadata": {
      "needs_background": "light"
     },
     "output_type": "display_data"
    }
   ],
   "source": [
    "sns.histplot(data=answers, x='label')\n",
    "# So we've got >20K no right whales, and 5K right whales examples. "
   ]
  },
  {
   "cell_type": "code",
   "execution_count": null,
   "id": "74573113",
   "metadata": {},
   "outputs": [],
   "source": []
  },
  {
   "cell_type": "markdown",
   "id": "1306713a",
   "metadata": {},
   "source": [
    "# Processing Sound Data\n",
    "* Dont load the entire dataset into memory. There are 30K sound files in there - small ones, but still\n",
    "\n",
    "* Load in \n",
    "* Turn into mel spectrogram\n",
    "* Sampling rate is the same for everything - 2000\n",
    "* Length is the same as well - 2 seconds (which we then stretch) \n",
    "* Since the sound is already cut into batches, and they all start pretty consistenly at the start, we don't need to time shift \n",
    "\n",
    "## Questions\n",
    "Two major ones I can think of: \n",
    "* Do we want to resample? We can later, but lets start with no\n",
    "* Should we mask frequencies? Since we're keeping it at the base 2000, we don't need to mask frequencies \n",
    "\n",
    "## How many files\n",
    "* Lets start with 5 so my laptop doesnt die \n",
    "\n"
   ]
  },
  {
   "cell_type": "code",
   "execution_count": 15,
   "id": "1887f57f",
   "metadata": {},
   "outputs": [
    {
     "name": "stdout",
     "output_type": "stream",
     "text": [
      "(4000,)\n",
      "2000\n"
     ]
    }
   ],
   "source": [
    "which_file = 6\n",
    "filename1 = f'''train{which_file}.aiff'''\n",
    "filename1\n",
    "y, sr = librosa.load('data/train/'+filename1,sr=None)\n",
    "# sr=2000\n",
    "\n",
    "# y = librosa.resample(y0, orig_sr=sr0, target_sr=sr)\n",
    "#Specifying the sampling rate explicitly, since this is given \n",
    "print(y.shape)\n",
    "print(sr)"
   ]
  },
  {
   "cell_type": "code",
   "execution_count": 75,
   "id": "8fb165c5",
   "metadata": {},
   "outputs": [],
   "source": [
    "def read_sound(index, df):\n",
    "    row = df.iloc[index]\n",
    "    clip_path = row['clip_path']\n",
    "    image_path = row['image_path']\n",
    "    y, sr = librosa.load(clip_path, sr=None)\n",
    "    del clip_path, row\n",
    "    return y, sr, image_path \n",
    "\n",
    "def create_spectrogram(input_tuple):\n",
    "    y, sr, output_file = input_tuple\n",
    "    fig = plt.figure(figsize=[0.72, 0.72])\n",
    "    ax = fig.add_subplot(111)\n",
    "    ax.axes.get_xaxis().set_visible(False)\n",
    "    ax.axes.get_yaxis().set_visible(False)\n",
    "    ax.set_frame_on(False)\n",
    "\n",
    "    spec = librosa.feature.melspectrogram(y=y, sr=sr)\n",
    "    librosa.display.specshow(librosa.power_to_db(spec, ref=np.max))\n",
    "    plt.savefig(output_file, dpi=400, bbox_inches='tight', pad_inches=0)\n",
    "    plt.close()\n",
    "    fig.clf()\n",
    "    plt.close(fig)\n",
    "    plt.close('all')\n",
    "    del spec, fig, ax, y, sr, output_file, input_tuple\n",
    "    \n",
    "    "
   ]
  },
  {
   "cell_type": "code",
   "execution_count": 68,
   "id": "33104ad8",
   "metadata": {},
   "outputs": [],
   "source": [
    "create_spectrogram(read_sound(5))"
   ]
  },
  {
   "cell_type": "code",
   "execution_count": 100,
   "id": "1f2f36eb",
   "metadata": {},
   "outputs": [
    {
     "data": {
      "text/html": [
       "<div>\n",
       "<style scoped>\n",
       "    .dataframe tbody tr th:only-of-type {\n",
       "        vertical-align: middle;\n",
       "    }\n",
       "\n",
       "    .dataframe tbody tr th {\n",
       "        vertical-align: top;\n",
       "    }\n",
       "\n",
       "    .dataframe thead th {\n",
       "        text-align: right;\n",
       "    }\n",
       "</style>\n",
       "<table border=\"1\" class=\"dataframe\">\n",
       "  <thead>\n",
       "    <tr style=\"text-align: right;\">\n",
       "      <th></th>\n",
       "      <th>clip_name</th>\n",
       "      <th>label</th>\n",
       "      <th>name</th>\n",
       "      <th>clip_path</th>\n",
       "      <th>image_path</th>\n",
       "    </tr>\n",
       "  </thead>\n",
       "  <tbody>\n",
       "    <tr>\n",
       "      <th>10239</th>\n",
       "      <td>train10240.aiff</td>\n",
       "      <td>0</td>\n",
       "      <td>train10240</td>\n",
       "      <td>/Users/mariapolyakova/Documents/metis/deep/rig...</td>\n",
       "      <td>/Users/mariapolyakova/Documents/metis/deep/rig...</td>\n",
       "    </tr>\n",
       "    <tr>\n",
       "      <th>9519</th>\n",
       "      <td>train9520.aiff</td>\n",
       "      <td>0</td>\n",
       "      <td>train9520</td>\n",
       "      <td>/Users/mariapolyakova/Documents/metis/deep/rig...</td>\n",
       "      <td>/Users/mariapolyakova/Documents/metis/deep/rig...</td>\n",
       "    </tr>\n",
       "    <tr>\n",
       "      <th>12749</th>\n",
       "      <td>train12750.aiff</td>\n",
       "      <td>0</td>\n",
       "      <td>train12750</td>\n",
       "      <td>/Users/mariapolyakova/Documents/metis/deep/rig...</td>\n",
       "      <td>/Users/mariapolyakova/Documents/metis/deep/rig...</td>\n",
       "    </tr>\n",
       "    <tr>\n",
       "      <th>29781</th>\n",
       "      <td>train29782.aiff</td>\n",
       "      <td>1</td>\n",
       "      <td>train29782</td>\n",
       "      <td>/Users/mariapolyakova/Documents/metis/deep/rig...</td>\n",
       "      <td>/Users/mariapolyakova/Documents/metis/deep/rig...</td>\n",
       "    </tr>\n",
       "    <tr>\n",
       "      <th>26564</th>\n",
       "      <td>train26565.aiff</td>\n",
       "      <td>1</td>\n",
       "      <td>train26565</td>\n",
       "      <td>/Users/mariapolyakova/Documents/metis/deep/rig...</td>\n",
       "      <td>/Users/mariapolyakova/Documents/metis/deep/rig...</td>\n",
       "    </tr>\n",
       "    <tr>\n",
       "      <th>25236</th>\n",
       "      <td>train25237.aiff</td>\n",
       "      <td>1</td>\n",
       "      <td>train25237</td>\n",
       "      <td>/Users/mariapolyakova/Documents/metis/deep/rig...</td>\n",
       "      <td>/Users/mariapolyakova/Documents/metis/deep/rig...</td>\n",
       "    </tr>\n",
       "  </tbody>\n",
       "</table>\n",
       "</div>"
      ],
      "text/plain": [
       "             clip_name  label        name  \\\n",
       "10239  train10240.aiff      0  train10240   \n",
       "9519    train9520.aiff      0   train9520   \n",
       "12749  train12750.aiff      0  train12750   \n",
       "29781  train29782.aiff      1  train29782   \n",
       "26564  train26565.aiff      1  train26565   \n",
       "25236  train25237.aiff      1  train25237   \n",
       "\n",
       "                                               clip_path  \\\n",
       "10239  /Users/mariapolyakova/Documents/metis/deep/rig...   \n",
       "9519   /Users/mariapolyakova/Documents/metis/deep/rig...   \n",
       "12749  /Users/mariapolyakova/Documents/metis/deep/rig...   \n",
       "29781  /Users/mariapolyakova/Documents/metis/deep/rig...   \n",
       "26564  /Users/mariapolyakova/Documents/metis/deep/rig...   \n",
       "25236  /Users/mariapolyakova/Documents/metis/deep/rig...   \n",
       "\n",
       "                                              image_path  \n",
       "10239  /Users/mariapolyakova/Documents/metis/deep/rig...  \n",
       "9519   /Users/mariapolyakova/Documents/metis/deep/rig...  \n",
       "12749  /Users/mariapolyakova/Documents/metis/deep/rig...  \n",
       "29781  /Users/mariapolyakova/Documents/metis/deep/rig...  \n",
       "26564  /Users/mariapolyakova/Documents/metis/deep/rig...  \n",
       "25236  /Users/mariapolyakova/Documents/metis/deep/rig...  "
      ]
     },
     "execution_count": 100,
     "metadata": {},
     "output_type": "execute_result"
    }
   ],
   "source": [
    "sample = pd.concat([answers[answers['label']==0].sample(3, random_state=1),answers[answers['label']==1].sample(3, random_state=1)])\n",
    "sample.head(6)"
   ]
  },
  {
   "cell_type": "code",
   "execution_count": 101,
   "id": "4496c278",
   "metadata": {},
   "outputs": [
    {
     "name": "stderr",
     "output_type": "stream",
     "text": [
      "100%|█████████████████████████████████████████████| 6/6 [00:00<00:00, 16.74it/s]\n"
     ]
    }
   ],
   "source": [
    "from tqdm import tqdm\n",
    "\n",
    "for i in tqdm(range(0, sample.shape[0])):\n",
    "    create_spectrogram(read_sound(i, sample))\n"
   ]
  },
  {
   "cell_type": "code",
   "execution_count": 77,
   "id": "6d715e2d",
   "metadata": {},
   "outputs": [],
   "source": [
    "image_path = sample.iloc[4]['image_path']"
   ]
  },
  {
   "cell_type": "code",
   "execution_count": 78,
   "id": "a6dc6d1d",
   "metadata": {},
   "outputs": [
    {
     "data": {
      "image/png": "[encoded data removed]",
      "text/plain": [
       "<PIL.JpegImagePlugin.JpegImageFile image mode=RGB size=223x217 at 0x7FF1EC465E20>"
      ]
     },
     "execution_count": 78,
     "metadata": {},
     "output_type": "execute_result"
    }
   ],
   "source": [
    "image.load_img(image_path)"
   ]
  },
  {
   "cell_type": "code",
   "execution_count": 116,
   "id": "0cce1318",
   "metadata": {},
   "outputs": [
    {
     "name": "stdout",
     "output_type": "stream",
     "text": [
      "Found 6 files belonging to 2 classes.\n"
     ]
    }
   ],
   "source": [
    "sample = image_dataset_from_directory(images_directory, labels='inferred', image_size=(64,64))"
   ]
  },
  {
   "cell_type": "code",
   "execution_count": 117,
   "id": "2c27241c",
   "metadata": {},
   "outputs": [
    {
     "data": {
      "image/png": "[encoded data removed]",
      "text/plain": [
       "<Figure size 1080x1080 with 6 Axes>"
      ]
     },
     "metadata": {
      "needs_background": "light"
     },
     "output_type": "display_data"
    }
   ],
   "source": [
    "fig, axes = plt.subplots(2,3, figsize=(15,15))\n",
    "for images, labels in sample.take(1):\n",
    "    for i, ax in enumerate(axes.flatten()):\n",
    "        ax.imshow(images[i].numpy().astype('uint8'))"
   ]
  },
  {
   "cell_type": "code",
   "execution_count": 112,
   "id": "b94debee",
   "metadata": {},
   "outputs": [
    {
     "name": "stdout",
     "output_type": "stream",
     "text": [
      "tf.Tensor(\n",
      "[[[[ 36.         10.         83.       ]\n",
      "   [ 36.         10.         83.       ]\n",
      "   [ 36.         10.         83.       ]\n",
      "   ...\n",
      "   [ 16.         10.         46.       ]\n",
      "   [ 16.         10.         46.       ]\n",
      "   [ 16.         10.         46.       ]]\n",
      "\n",
      "  [[ 44.48633    16.94336    93.0293   ]\n",
      "   [ 44.48633    16.94336    91.784676 ]\n",
      "   [ 44.48633    16.94336    92.53205  ]\n",
      "   ...\n",
      "   [ 14.457031    8.457031   44.45703  ]\n",
      "   [ 14.457031    8.457031   44.45703  ]\n",
      "   [ 14.457031    8.457031   44.45703  ]]\n",
      "\n",
      "  [[ 50.095703   18.38086   100.953125 ]\n",
      "   [ 50.095703   18.38086    99.33984  ]\n",
      "   [ 50.095703   18.38086   100.30859  ]\n",
      "   ...\n",
      "   [ 14.619141    8.619141   45.85742  ]\n",
      "   [ 14.619141    8.619141   45.85742  ]\n",
      "   [ 14.619141    8.619141   45.85742  ]]\n",
      "\n",
      "  ...\n",
      "\n",
      "  [[ 60.384766   19.621094   96.765625 ]\n",
      "   [ 60.384766   19.621094   96.765625 ]\n",
      "   [ 60.384766   19.621094   96.765625 ]\n",
      "   ...\n",
      "   [ 42.429688   17.695004   88.42249  ]\n",
      "   [ 42.429688   17.879482   88.053535 ]\n",
      "   [ 42.429688   17.572266   88.66797  ]]\n",
      "\n",
      "  [[ 33.171875    7.828125   69.25781  ]\n",
      "   [ 33.171875    7.828125   69.25781  ]\n",
      "   [ 33.171875    7.828125   69.25781  ]\n",
      "   ...\n",
      "   [ 34.314453   13.391201   78.44141  ]\n",
      "   [ 34.314453   13.764889   77.47266  ]\n",
      "   [ 34.314453   13.142578   79.08594  ]]\n",
      "\n",
      "  [[ 27.         14.         60.       ]\n",
      "   [ 27.         14.         60.       ]\n",
      "   [ 27.         14.         60.       ]\n",
      "   ...\n",
      "   [ 32.         17.         75.35547  ]\n",
      "   [ 32.         17.         74.38672  ]\n",
      "   [ 32.         17.         76.       ]]]\n",
      "\n",
      "\n",
      " [[[ 85.         20.        124.       ]\n",
      "   [ 85.         20.        124.       ]\n",
      "   [ 85.         20.        124.       ]\n",
      "   ...\n",
      "   [  0.          0.         15.       ]\n",
      "   [  0.          0.         15.       ]\n",
      "   [  0.          0.         15.       ]]\n",
      "\n",
      "  [[ 81.14258    17.685547  121.68555  ]\n",
      "   [ 81.14258    17.685547  121.68555  ]\n",
      "   [ 81.14258    17.685547  121.68555  ]\n",
      "   ...\n",
      "   [  8.486328    6.9433594  28.886719 ]\n",
      "   [  8.486328    6.9433594  28.886719 ]\n",
      "   [  8.486328    6.9433594  28.886719 ]]\n",
      "\n",
      "  [[ 79.38086    17.61914   121.       ]\n",
      "   [ 79.38086    17.61914   121.       ]\n",
      "   [ 79.38086    17.61914   121.       ]\n",
      "   ...\n",
      "   [ 11.619141    6.5234375  41.04883  ]\n",
      "   [ 11.619141    6.5234375  41.04883  ]\n",
      "   [ 11.619141    6.5234375  41.04883  ]]\n",
      "\n",
      "  ...\n",
      "\n",
      "  [[ 52.384766   11.048828   80.478516 ]\n",
      "   [ 51.88534    11.548252   80.478516 ]\n",
      "   [ 52.185238   11.248356   80.478516 ]\n",
      "   ...\n",
      "   [135.65656    38.564453  114.62109  ]\n",
      "   [134.9877     39.04883   114.62109  ]\n",
      "   [136.10156    38.242188  114.62109  ]]\n",
      "\n",
      "  [[ 25.628906    5.0566406  62.714844 ]\n",
      "   [ 25.628906    5.0566406  62.714844 ]\n",
      "   [ 25.628906    5.0566406  62.714844 ]\n",
      "   ...\n",
      "   [ 90.00137    12.464844  105.3418   ]\n",
      "   [ 89.14331    12.949219  105.3418   ]\n",
      "   [ 90.572266   12.142578  105.3418   ]]\n",
      "\n",
      "  [[ 21.         12.         55.       ]\n",
      "   [ 21.         12.         55.       ]\n",
      "   [ 21.         12.         55.       ]\n",
      "   ...\n",
      "   [ 78.677734   16.322266  120.       ]\n",
      "   [ 78.19336    16.80664   120.       ]\n",
      "   [ 79.         16.        120.       ]]]\n",
      "\n",
      "\n",
      " [[[  0.          0.          9.       ]\n",
      "   [  0.          0.          9.       ]\n",
      "   [  0.          0.          9.       ]\n",
      "   ...\n",
      "   [ 78.         15.        120.       ]\n",
      "   [ 78.         15.        120.       ]\n",
      "   [ 78.         15.        120.       ]]\n",
      "\n",
      "  [[  3.0859375   2.3144531  15.171875 ]\n",
      "   [  3.0859375   2.3144531  15.171875 ]\n",
      "   [  3.0859375   2.3144531  15.171875 ]\n",
      "   ...\n",
      "   [ 88.0293     21.94336   126.44611  ]\n",
      "   [ 88.0293     21.94336   125.69874  ]\n",
      "   [ 88.0293     21.94336   126.94336  ]]\n",
      "\n",
      "  [[  2.7617188   3.         20.714844 ]\n",
      "   [  2.7617188   3.         20.714844 ]\n",
      "   [  2.7617188   3.         20.714844 ]\n",
      "   ...\n",
      "   [ 92.85742    22.761719  124.22101  ]\n",
      "   [ 92.85742    22.761719  123.552155 ]\n",
      "   [ 92.85742    22.761719  124.666016 ]]\n",
      "\n",
      "  ...\n",
      "\n",
      "  [[ 96.05078    23.621094  121.90625  ]\n",
      "   [ 95.55136    24.120518  121.29182  ]\n",
      "   [ 95.85126    23.820621  121.660774 ]\n",
      "   ...\n",
      "   [185.42249    53.695004  110.36266  ]\n",
      "   [185.05353    53.879482  109.76287  ]\n",
      "   [185.66797    53.572266  110.76172  ]]\n",
      "\n",
      "  [[ 74.771484   11.371094  113.37109  ]\n",
      "   [ 74.771484   11.371094  111.75781  ]\n",
      "   [ 74.771484   11.371094  112.72656  ]\n",
      "   ...\n",
      "   [176.35547    49.619717  114.05664  ]\n",
      "   [175.38672    49.993404  114.05664  ]\n",
      "   [177.         49.371094  114.05664  ]]\n",
      "\n",
      "  [[ 74.         16.        118.       ]\n",
      "   [ 74.         16.        116.38672  ]\n",
      "   [ 74.         16.        117.35547  ]\n",
      "   ...\n",
      "   [176.35547    54.        121.       ]\n",
      "   [175.38672    54.        121.       ]\n",
      "   [177.         54.        121.       ]]]\n",
      "\n",
      "\n",
      " [[[  9.          5.         38.       ]\n",
      "   [  9.          5.         38.       ]\n",
      "   [  9.          5.         38.       ]\n",
      "   ...\n",
      "   [  4.          0.         31.       ]\n",
      "   [  4.          0.         31.       ]\n",
      "   [  4.          0.         31.       ]]\n",
      "\n",
      "  [[ 17.486328   11.943359   48.80078  ]\n",
      "   [ 16.864017   12.56567    48.80078  ]\n",
      "   [ 17.237705   12.191982   48.80078  ]\n",
      "   ...\n",
      "   [ 21.74414    14.658203   52.8758   ]\n",
      "   [ 21.74414    14.658203   52.128426 ]\n",
      "   [ 21.74414    14.658203   53.373047 ]]\n",
      "\n",
      "  [[ 21.238281   13.380859   56.953125 ]\n",
      "   [ 20.43164    13.688076   56.953125 ]\n",
      "   [ 20.916016   13.503597   56.953125 ]\n",
      "   ...\n",
      "   [ 28.238281   17.142578   66.78516  ]\n",
      "   [ 28.238281   17.142578   65.81641  ]\n",
      "   [ 28.238281   17.142578   67.42969  ]]\n",
      "\n",
      "  ...\n",
      "\n",
      "  [[ 38.85547     7.7128906  83.61719  ]\n",
      "   [ 38.548252    8.020107   83.61719  ]\n",
      "   [ 38.73273     7.8356285  83.61719  ]\n",
      "   ...\n",
      "   [ 85.85742    18.5993    125.373665 ]\n",
      "   [ 85.85742    18.78378   125.00471  ]\n",
      "   [ 85.85742    18.476562  125.61914  ]]\n",
      "\n",
      "  [[ 51.371094   16.542969   98.51367  ]\n",
      "   [ 50.564453   17.34961    98.51367  ]\n",
      "   [ 51.04883    16.865234   98.51367  ]\n",
      "   ...\n",
      "   [ 84.228516   17.007812  124.42911  ]\n",
      "   [ 84.228516   17.492188  123.571045 ]\n",
      "   [ 84.228516   16.685547  125.       ]]\n",
      "\n",
      "  [[ 56.         15.        107.       ]\n",
      "   [ 55.19336    15.806641  107.       ]\n",
      "   [ 55.677734   15.322266  107.       ]\n",
      "   ...\n",
      "   [ 85.         19.322266  124.677734 ]\n",
      "   [ 85.         19.80664   124.19336  ]\n",
      "   [ 85.         19.        125.       ]]]\n",
      "\n",
      "\n",
      " [[[ 31.         16.         81.       ]\n",
      "   [ 31.         16.         81.       ]\n",
      "   [ 31.         16.         81.       ]\n",
      "   ...\n",
      "   [  9.          6.         37.       ]\n",
      "   [  9.          6.         37.       ]\n",
      "   [  9.          6.         37.       ]]\n",
      "\n",
      "  [[ 37.171875   16.         84.85742  ]\n",
      "   [ 37.171875   16.         84.85742  ]\n",
      "   [ 37.171875   16.         84.85742  ]\n",
      "   ...\n",
      "   [ 18.00919    11.6490135  49.61799  ]\n",
      "   [ 17.635502   12.022701   48.870613 ]\n",
      "   [ 18.257812   11.400391   50.115234 ]]\n",
      "\n",
      "  [[ 46.429688   11.666016   89.0957   ]\n",
      "   [ 46.429688   11.666016   89.0957   ]\n",
      "   [ 46.429688   11.666016   89.0957   ]\n",
      "   ...\n",
      "   [ 24.812191   11.464844   62.023438 ]\n",
      "   [ 24.02792    11.949219   61.054688 ]\n",
      "   [ 25.333984   11.142578   62.66797  ]]\n",
      "\n",
      "  ...\n",
      "\n",
      "  [[ 52.33203    14.427734  104.71289  ]\n",
      "   [ 52.33203    14.427734  103.59903  ]\n",
      "   [ 52.33203    14.427734  104.26788  ]\n",
      "   ...\n",
      "   [  9.761719    7.7617188  30.523438 ]\n",
      "   [  9.761719    7.7617188  30.523438 ]\n",
      "   [  9.761719    7.7617188  30.523438 ]]\n",
      "\n",
      "  [[ 62.828125   19.085938  115.37109  ]\n",
      "   [ 62.828125   19.270267  113.75781  ]\n",
      "   [ 62.828125   19.15958   114.72656  ]\n",
      "   ...\n",
      "   [ 10.771484    9.228516   33.685547 ]\n",
      "   [ 10.771484    9.228516   33.685547 ]\n",
      "   [ 10.771484    9.228516   33.685547 ]]\n",
      "\n",
      "  [[ 69.         16.        120.       ]\n",
      "   [ 69.         16.80664   118.38672  ]\n",
      "   [ 69.         16.322266  119.35547  ]\n",
      "   ...\n",
      "   [ 10.         10.         36.       ]\n",
      "   [ 10.         10.         36.       ]\n",
      "   [ 10.         10.         36.       ]]]\n",
      "\n",
      "\n",
      " [[[164.         47.        126.       ]\n",
      "   [164.         47.        126.       ]\n",
      "   [164.         47.        126.       ]\n",
      "   ...\n",
      "   [ 54.         13.        105.       ]\n",
      "   [ 54.         13.        105.       ]\n",
      "   [ 54.         13.        105.       ]]\n",
      "\n",
      "  [[163.22852    46.228516  125.228516 ]\n",
      "   [162.6062     46.850826  124.6062   ]\n",
      "   [162.97989    46.47714   124.97989  ]\n",
      "   ...\n",
      "   [ 54.52286    14.020107  105.771484 ]\n",
      "   [ 54.149174   14.393795  105.771484 ]\n",
      "   [ 54.771484   13.771484  105.771484 ]]\n",
      "\n",
      "  [[162.38086    46.61914   124.38086  ]\n",
      "   [161.0748     47.42578   123.0748   ]\n",
      "   [161.85907    46.941406  123.85907  ]\n",
      "   ...\n",
      "   [ 53.859066   14.7418785 107.23828  ]\n",
      "   [ 53.074795   14.926357  107.23828  ]\n",
      "   [ 54.38086    14.619141  107.23828  ]]\n",
      "\n",
      "  ...\n",
      "\n",
      "  [[119.28906    33.716797  125.62109  ]\n",
      "   [119.28906    33.716797  125.62109  ]\n",
      "   [119.28906    33.716797  125.62109  ]\n",
      "   ...\n",
      "   [ 31.382812   11.857422   69.35742  ]\n",
      "   [ 31.382812   11.857422   68.38867  ]\n",
      "   [ 31.382812   11.857422   70.00195  ]]\n",
      "\n",
      "  [[ 94.94336    17.914062  114.74219  ]\n",
      "   [ 94.94336    17.914062  114.74219  ]\n",
      "   [ 94.94336    17.914062  114.74219  ]\n",
      "   ...\n",
      "   [ 19.         10.530674   55.441406 ]\n",
      "   [ 19.         10.641361   54.472656 ]\n",
      "   [ 19.         10.457031   56.085938 ]]\n",
      "\n",
      "  [[ 88.         21.        124.       ]\n",
      "   [ 88.         21.        124.       ]\n",
      "   [ 88.         21.        124.       ]\n",
      "   ...\n",
      "   [ 19.         12.322266   52.35547  ]\n",
      "   [ 19.         12.806641   51.38672  ]\n",
      "   [ 19.         12.         53.       ]]]], shape=(6, 256, 256, 3), dtype=float32)\n",
      "(6, 256, 256, 3)\n"
     ]
    }
   ],
   "source": [
    "for images, labels in sample.take(1):\n",
    "    print(images)\n",
    "    print(images.shape)"
   ]
  },
  {
   "cell_type": "code",
   "execution_count": 118,
   "id": "1f146a5a",
   "metadata": {},
   "outputs": [
    {
     "name": "stdout",
     "output_type": "stream",
     "text": [
      "Model: \"sequential_2\"\n",
      "_________________________________________________________________\n",
      "Layer (type)                 Output Shape              Param #   \n",
      "=================================================================\n",
      "flatten_1 (Flatten)          (None, 12288)             0         \n",
      "_________________________________________________________________\n",
      "dense_4 (Dense)              (None, 100)               1228900   \n",
      "_________________________________________________________________\n",
      "dense_5 (Dense)              (None, 100)               10100     \n",
      "_________________________________________________________________\n",
      "dense_6 (Dense)              (None, 100)               10100     \n",
      "_________________________________________________________________\n",
      "dense_7 (Dense)              (None, 1)                 101       \n",
      "=================================================================\n",
      "Total params: 1,249,201\n",
      "Trainable params: 1,249,201\n",
      "Non-trainable params: 0\n",
      "_________________________________________________________________\n"
     ]
    }
   ],
   "source": [
    "model = keras.Sequential()\n",
    "\n",
    "model.add(layers.InputLayer(input_shape=(64,64, 3)))\n",
    "model.add(layers.Flatten())\n",
    "model.add(layers.Dense(100, activation='relu'))\n",
    "model.add(layers.Dense(100, activation='relu'))\n",
    "model.add(layers.Dense(100, activation='relu'))\n",
    "\n",
    "model.add(layers.Dense(1, activation='sigmoid'))\n",
    "model.summary()"
   ]
  },
  {
   "cell_type": "code",
   "execution_count": 120,
   "id": "536041ed",
   "metadata": {},
   "outputs": [],
   "source": [
    "model.compile(optimizer='adam', loss='binary_crossentropy', metrics=['accuracy'])"
   ]
  },
  {
   "cell_type": "code",
   "execution_count": 123,
   "id": "d1742e41",
   "metadata": {},
   "outputs": [
    {
     "name": "stdout",
     "output_type": "stream",
     "text": [
      "Epoch 1/2\n",
      "1/1 [==============================] - 0s 13ms/step - loss: 626.7288 - accuracy: 0.5000\n",
      "Epoch 2/2\n",
      "1/1 [==============================] - 0s 13ms/step - loss: 118.2690 - accuracy: 0.5000\n"
     ]
    }
   ],
   "source": [
    "history = model.fit(sample, epochs=2) # Woooot random guessing!"
   ]
  },
  {
   "cell_type": "markdown",
   "id": "01570890",
   "metadata": {},
   "source": [
    " # A Brief Pause: \n",
    "    Now that I've performed this on a sample, lets perform this on the full set\n",
    "    "
   ]
  },
  {
   "cell_type": "code",
   "execution_count": 124,
   "id": "9bb19fd8",
   "metadata": {},
   "outputs": [
    {
     "name": "stderr",
     "output_type": "stream",
     "text": [
      "100%|█████████████████████████████████████| 30000/30000 [28:08<00:00, 17.77it/s]\n"
     ]
    }
   ],
   "source": [
    "import gc\n",
    "for i in tqdm(range(0, answers.shape[0])):\n",
    "    create_spectrogram(read_sound(i, answers))\n",
    "    if(i%2000 == 0):\n",
    "        gc.collect()\n",
    "        "
   ]
  },
  {
   "cell_type": "code",
   "execution_count": 134,
   "id": "6bbca52a",
   "metadata": {},
   "outputs": [
    {
     "name": "stdout",
     "output_type": "stream",
     "text": [
      "Found 30000 files belonging to 2 classes.\n",
      "Using 24000 files for training.\n",
      "Found 30000 files belonging to 2 classes.\n",
      "Using 6000 files for validation.\n"
     ]
    }
   ],
   "source": [
    "cb_training = image_dataset_from_directory(images_directory, labels='inferred', image_size=(64,64), subset='training', validation_split=.2, seed=10)\n",
    "cb_validation = image_dataset_from_directory(images_directory, labels='inferred', image_size=(64,64), subset='validation', validation_split=.2, seed=10)"
   ]
  },
  {
   "cell_type": "code",
   "execution_count": 131,
   "id": "043e2b94",
   "metadata": {},
   "outputs": [
    {
     "name": "stdout",
     "output_type": "stream",
     "text": [
      "Model: \"sequential_3\"\n",
      "_________________________________________________________________\n",
      "Layer (type)                 Output Shape              Param #   \n",
      "=================================================================\n",
      "flatten_2 (Flatten)          (None, 12288)             0         \n",
      "_________________________________________________________________\n",
      "dense_8 (Dense)              (None, 100)               1228900   \n",
      "_________________________________________________________________\n",
      "dense_9 (Dense)              (None, 100)               10100     \n",
      "_________________________________________________________________\n",
      "dense_10 (Dense)             (None, 100)               10100     \n",
      "_________________________________________________________________\n",
      "dense_11 (Dense)             (None, 1)                 101       \n",
      "=================================================================\n",
      "Total params: 1,249,201\n",
      "Trainable params: 1,249,201\n",
      "Non-trainable params: 0\n",
      "_________________________________________________________________\n"
     ]
    }
   ],
   "source": [
    "model = keras.Sequential()\n",
    "\n",
    "model.add(layers.InputLayer(input_shape=(64,64, 3)))\n",
    "model.add(layers.Flatten())\n",
    "model.add(layers.Dense(100, activation='relu'))\n",
    "model.add(layers.Dense(100, activation='relu'))\n",
    "model.add(layers.Dense(100, activation='relu'))\n",
    "\n",
    "model.add(layers.Dense(1, activation='sigmoid'))\n",
    "model.summary()"
   ]
  },
  {
   "cell_type": "code",
   "execution_count": 132,
   "id": "23b08c98",
   "metadata": {},
   "outputs": [],
   "source": [
    "model.compile(optimizer='adam', loss='binary_crossentropy', metrics=['accuracy'])"
   ]
  },
  {
   "cell_type": "code",
   "execution_count": 135,
   "id": "b50f3ee1",
   "metadata": {},
   "outputs": [
    {
     "name": "stdout",
     "output_type": "stream",
     "text": [
      "Epoch 1/2\n",
      "750/750 [==============================] - 11s 14ms/step - loss: 14.3396 - accuracy: 0.7519 - val_loss: 0.3792 - val_accuracy: 0.8222\n",
      "Epoch 2/2\n",
      "750/750 [==============================] - 10s 13ms/step - loss: 0.3616 - accuracy: 0.8248 - val_loss: 0.3586 - val_accuracy: 0.7677\n"
     ]
    }
   ],
   "source": [
    "history = model.fit(cb_training, epochs=2,validation_data=cb_validation) "
   ]
  }
 ],
 "metadata": {
  "kernelspec": {
   "display_name": "Python [conda env:metis] *",
   "language": "python",
   "name": "conda-env-metis-py"
  },
  "language_info": {
   "codemirror_mode": {
    "name": "ipython",
    "version": 3
   },
   "file_extension": ".py",
   "mimetype": "text/x-python",
   "name": "python",
   "nbconvert_exporter": "python",
   "pygments_lexer": "ipython3",
   "version": "3.8.12"
  }
 },
 "nbformat": 4,
 "nbformat_minor": 5
}
