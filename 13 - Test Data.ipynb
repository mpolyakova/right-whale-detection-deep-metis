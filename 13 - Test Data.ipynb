{
 "cells": [
  {
   "cell_type": "code",
   "execution_count": 104,
   "id": "e134bc9a",
   "metadata": {},
   "outputs": [],
   "source": [
    "import librosa \n",
    "import librosa.display\n",
    "import numpy as np\n",
    "import pandas as pd\n",
    "from pathlib import Path\n",
    "import seaborn as sns\n",
    "from tensorflow import keras \n",
    "from tensorflow.keras.preprocessing import image_dataset_from_directory, image\n",
    "from tensorflow.keras import layers\n",
    "from tensorflow.keras.models import Sequential, Model, load_model\n",
    "from tensorflow.keras.optimizers import Adam, SGD\n",
    "from tensorflow.keras.applications import VGG19, ResNet50\n",
    "from tensorflow.keras.layers import Dense, Conv2D, MaxPooling2D, Flatten, GlobalAveragePooling2D, InputLayer, Dropout\n",
    "from tensorflow.keras.callbacks import EarlyStopping, ModelCheckpoint\n",
    "import matplotlib.pyplot as plt\n",
    "from sklearn.model_selection import train_test_split\n",
    "from tqdm import tqdm\n",
    "from sklearn.utils.class_weight import compute_class_weight\n",
    "import tensorflow as tf\n",
    "from tensorflow.keras.preprocessing.image import ImageDataGenerator"
   ]
  },
  {
   "cell_type": "code",
   "execution_count": 113,
   "id": "1ef25a95",
   "metadata": {
    "scrolled": true
   },
   "outputs": [],
   "source": [
    "def import_test():\n",
    "    datagen = ImageDataGenerator()\n",
    "    new_path=Path.cwd()/'data_split'\n",
    "    images_directory = new_path\n",
    "    cb_test = datagen.flow_from_directory(images_directory/'test', class_mode='binary')\n",
    "    return cb_test\n",
    "\n",
    "def import_test_old_format():\n",
    "    datagen = ImageDataGenerator()\n",
    "    new_path=Path.cwd()/'data_split'\n",
    "    images_directory = new_path\n",
    "    cb_test = datagen.flow_from_directory(images_directory/'test', class_mode='binary', target_size=(97,97), batch_size=128 )\n",
    "    return cb_test\n",
    "    \n",
    "    \n",
    "def base_set_up(filename, patience=2):\n",
    "    \n",
    "    xx =compute_class_weight(class_weight='balanced',classes=np.unique(answers.label), y=answers.label)\n",
    "    class_weight = dict(zip(np.unique(answers.label), xx))\n",
    "    METRICS = [\n",
    "      keras.metrics.TruePositives(name='tp'),\n",
    "      keras.metrics.FalsePositives(name='fp'),\n",
    "      keras.metrics.TrueNegatives(name='tn'),\n",
    "      keras.metrics.FalseNegatives(name='fn'), \n",
    "      keras.metrics.BinaryAccuracy(name='accuracy'),\n",
    "      keras.metrics.Precision(name='precision'),\n",
    "      keras.metrics.Recall(name='recall'),\n",
    "      keras.metrics.AUC(name='auc'),\n",
    "      keras.metrics.AUC(name='prc', curve='PR'), # precision-recall curve\n",
    "    ]\n",
    "\n",
    "    earlystop = EarlyStopping(monitor='val_accuracy',verbose=1, patience=patience)\n",
    "    checkpoint = ModelCheckpoint(filename, monitor='val_accuracy', save_best_only=True,save_weights_only=False, verbose=1)\n",
    "    return (class_weight, METRICS, earlystop, checkpoint)"
   ]
  },
  {
   "cell_type": "code",
   "execution_count": 120,
   "id": "e0aca534",
   "metadata": {},
   "outputs": [],
   "source": [
    "results = {}"
   ]
  },
  {
   "cell_type": "markdown",
   "id": "c0dc9f81",
   "metadata": {},
   "source": [
    "# CNN Test"
   ]
  },
  {
   "cell_type": "code",
   "execution_count": 121,
   "id": "28c1a969",
   "metadata": {
    "scrolled": false
   },
   "outputs": [
    {
     "name": "stdout",
     "output_type": "stream",
     "text": [
      "Found 2954 images belonging to 2 classes.\n",
      "93/93 [==============================] - 25s 223ms/step - loss: 0.4149 - tp: 471.0000 - fp: 418.0000 - tn: 1833.0000 - fn: 232.0000 - accuracy: 0.7800 - precision: 0.5298 - recall: 0.6700 - auc: 0.8460 - prc: 0.5931\n"
     ]
    }
   ],
   "source": [
    "cnn = None\n",
    "keras.backend.clear_session()\n",
    "filename = 'cnn_overfit2.h5'\n",
    "\n",
    "test = import_test()\n",
    "class_weight, METRICS, earlystop, checkpoint = base_set_up(filename, 5)\n",
    "cnn = load_model(filename)\n",
    "results['cnn_simple'] = cnn.evaluate(test)\n",
    "\n"
   ]
  },
  {
   "cell_type": "code",
   "execution_count": 143,
   "id": "888d1fb2",
   "metadata": {},
   "outputs": [
    {
     "name": "stdout",
     "output_type": "stream",
     "text": [
      "Found 2954 images belonging to 2 classes.\n",
      "93/93 [==============================] - 29s 276ms/step - loss: 1.0124 - tp: 0.0000e+00 - fp: 0.0000e+00 - tn: 2251.0000 - fn: 703.0000 - accuracy: 0.7620 - precision: 0.0000e+00 - recall: 0.0000e+00 - auc: 0.4745 - prc: 0.2211\n"
     ]
    }
   ],
   "source": [
    "cnn = None\n",
    "keras.backend.clear_session()\n",
    "filename = 'cnn_small_layer.h5'\n",
    "\n",
    "test = import_test()\n",
    "class_weight, METRICS, earlystop, checkpoint = base_set_up(filename, 5)\n",
    "cnn = load_model(filename)\n",
    "results['cnn_add_small_layer_first'] = cnn.evaluate(test)\n",
    "\n",
    "\n"
   ]
  },
  {
   "cell_type": "code",
   "execution_count": 110,
   "id": "7c7c8709",
   "metadata": {},
   "outputs": [
    {
     "data": {
      "text/plain": [
       "<tf.Tensor: shape=(2, 2), dtype=int32, numpy=\n",
       "array([[1658,  530],\n",
       "       [ 593,  173]], dtype=int32)>"
      ]
     },
     "execution_count": 110,
     "metadata": {},
     "output_type": "execute_result"
    }
   ],
   "source": [
    "tf.math.confusion_matrix(cnn.predict_classes(test), test.classes)\n",
    "\n",
    "# We're seeing a lot of false negatives rather than false positives. "
   ]
  },
  {
   "cell_type": "markdown",
   "id": "26905ccd",
   "metadata": {},
   "source": [
    "# VGG 19 Test\n",
    "We abandoned training further, but I still want stats \n"
   ]
  },
  {
   "cell_type": "code",
   "execution_count": 122,
   "id": "b573ef8b",
   "metadata": {},
   "outputs": [
    {
     "name": "stdout",
     "output_type": "stream",
     "text": [
      "Found 2954 images belonging to 2 classes.\n",
      "24/24 [==============================] - 164s 7s/step - loss: 0.5040 - tp: 411.0000 - fp: 521.0000 - tn: 1730.0000 - fn: 292.0000 - accuracy: 0.7248 - precision: 0.4410 - recall: 0.5846 - auc: 0.7623 - prc: 0.4355\n"
     ]
    }
   ],
   "source": [
    "vgg19 = None\n",
    "keras.backend.clear_session()\n",
    "\n",
    "filename = 'vgg19-cb-2.h5'\n",
    "\n",
    "test = import_test_old_format()\n",
    "class_weight, METRICS, earlystop, checkpoint = base_set_up(filename, 5)\n",
    "cnn = load_model(filename)\n",
    "results['vgg19-simple'] = cnn.evaluate(test)\n"
   ]
  },
  {
   "cell_type": "markdown",
   "id": "a5d334b1",
   "metadata": {},
   "source": [
    "# Resnet Test\n",
    "We're gonna try multiple models for resnet since we trained multiple \n",
    "\n",
    "## Resnet With Smaller Dropout and 3 dense layers"
   ]
  },
  {
   "cell_type": "code",
   "execution_count": 123,
   "id": "8c612256",
   "metadata": {},
   "outputs": [
    {
     "name": "stdout",
     "output_type": "stream",
     "text": [
      "Found 2954 images belonging to 2 classes.\n",
      "WARNING:tensorflow:Error in loading the saved optimizer state. As a result, your model is starting with a freshly initialized optimizer.\n",
      "24/24 [==============================] - 85s 3s/step - loss: 0.3604 - tp: 627.0000 - fp: 453.0000 - tn: 1798.0000 - fn: 76.0000 - accuracy: 0.8209 - precision: 0.5806 - recall: 0.8919 - auc: 0.9246 - prc: 0.7797\n"
     ]
    }
   ],
   "source": [
    "cnn=None\n",
    "keras.backend.clear_session()\n",
    "filename = 'resnet-cb-3-dropout-1.h5'\n",
    "test = import_test_old_format()\n",
    "class_weight, METRICS, earlystop, checkpoint = base_set_up(filename, 5)\n",
    "cnn = load_model(filename)\n",
    "results['resnet-3-dense-1-dropout'] = cnn.evaluate(test)\n",
    "\n"
   ]
  },
  {
   "cell_type": "markdown",
   "id": "59664d7b",
   "metadata": {},
   "source": [
    "## Resnet original model - .5 dropout, 2 layers "
   ]
  },
  {
   "cell_type": "code",
   "execution_count": 124,
   "id": "50363b3c",
   "metadata": {},
   "outputs": [
    {
     "name": "stdout",
     "output_type": "stream",
     "text": [
      "Found 2954 images belonging to 2 classes.\n",
      "24/24 [==============================] - 93s 3s/step - loss: 0.3327 - tp: 519.0000 - fp: 295.0000 - tn: 1956.0000 - fn: 184.0000 - accuracy: 0.8378 - precision: 0.6376 - recall: 0.7383 - auc: 0.9137 - prc: 0.7544\n"
     ]
    }
   ],
   "source": [
    "cnn=None\n",
    "keras.backend.clear_session()\n",
    "filename = 'resnet-cb.h5'\n",
    "test = import_test_old_format()\n",
    "class_weight, METRICS, earlystop, checkpoint = base_set_up(filename, 5)\n",
    "cnn = load_model(filename)\n",
    "results['resnet-2-dense-5-dropout'] = cnn.evaluate(test)\n",
    "\n",
    "\n"
   ]
  },
  {
   "cell_type": "markdown",
   "id": "e9f2b3e6",
   "metadata": {},
   "source": [
    "# Some Graphs"
   ]
  },
  {
   "cell_type": "code",
   "execution_count": 125,
   "id": "fcebd5ce",
   "metadata": {},
   "outputs": [],
   "source": [
    "import seaborn as sns\n"
   ]
  },
  {
   "cell_type": "code",
   "execution_count": 145,
   "id": "9e8c7485",
   "metadata": {},
   "outputs": [],
   "source": [
    "xx = pd.DataFrame(results).transpose().reset_index()\n",
    "xx.columns=['model','loss','tp','fp','tn','fn','accuracy','precision','recall','auc','prc']"
   ]
  },
  {
   "cell_type": "code",
   "execution_count": 147,
   "id": "f43c6521",
   "metadata": {},
   "outputs": [
    {
     "data": {
      "text/plain": [
       "<AxesSubplot:xlabel='auc', ylabel='recall'>"
      ]
     },
     "execution_count": 147,
     "metadata": {},
     "output_type": "execute_result"
    },
    {
     "data": {
      "image/png": "[encoded data removed]",
      "text/plain": [
       "<Figure size 576x360 with 1 Axes>"
      ]
     },
     "metadata": {},
     "output_type": "display_data"
    }
   ],
   "source": [
    "sns.set(rc={'figure.figsize':(8,5)})\n",
    "sns.scatterplot(data=xx, x='auc',y='recall',hue='model')"
   ]
  }
 ],
 "metadata": {
  "kernelspec": {
   "display_name": "Python [conda env:metis] *",
   "language": "python",
   "name": "conda-env-metis-py"
  },
  "language_info": {
   "codemirror_mode": {
    "name": "ipython",
    "version": 3
   },
   "file_extension": ".py",
   "mimetype": "text/x-python",
   "name": "python",
   "nbconvert_exporter": "python",
   "pygments_lexer": "ipython3",
   "version": "3.8.12"
  }
 },
 "nbformat": 4,
 "nbformat_minor": 5
}
