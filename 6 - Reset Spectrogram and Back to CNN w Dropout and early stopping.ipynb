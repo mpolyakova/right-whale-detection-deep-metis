{
 "cells": [
  {
   "cell_type": "code",
   "execution_count": 11,
   "id": "e10fcc5e",
   "metadata": {},
   "outputs": [],
   "source": [
    "import librosa \n",
    "import librosa.display\n",
    "import numpy as np\n",
    "import pandas as pd\n",
    "from pathlib import Path\n",
    "import seaborn as sns\n",
    "from tensorflow import keras \n",
    "from tensorflow.keras.preprocessing import image_dataset_from_directory, image \n",
    "from tensorflow.keras import layers\n",
    "from tensorflow.keras.models import Sequential\n",
    "from tensorflow.keras.layers import Dense, Conv2D, MaxPooling2D, Flatten, GlobalAveragePooling2D, InputLayer, Dropout\n",
    "from tensorflow.keras.callbacks import EarlyStopping, ModelCheckpoint\n",
    "\n",
    "\n",
    "\n"
   ]
  },
  {
   "cell_type": "code",
   "execution_count": 16,
   "id": "ff85baaf",
   "metadata": {},
   "outputs": [],
   "source": [
    "import matplotlib.pyplot as plt\n",
    "from sklearn.model_selection import train_test_split\n",
    "from sklearn.utils.class_weight import compute_class_weight"
   ]
  },
  {
   "cell_type": "code",
   "execution_count": 3,
   "id": "3d278686",
   "metadata": {},
   "outputs": [],
   "source": [
    "path = Path.cwd()/'data'\n",
    "answers = pd.read_csv('answers.csv')\n",
    "images_directory = path/'train_images'"
   ]
  },
  {
   "cell_type": "code",
   "execution_count": 21,
   "id": "0952df20",
   "metadata": {},
   "outputs": [
    {
     "name": "stdout",
     "output_type": "stream",
     "text": [
      "Found 30000 files belonging to 2 classes.\n",
      "Using 24000 files for training.\n",
      "Found 30000 files belonging to 2 classes.\n",
      "Using 6000 files for validation.\n"
     ]
    }
   ],
   "source": [
    "cb_training = image_dataset_from_directory(images_directory, labels='inferred', image_size=(97,97), subset='training', validation_split=.2, seed=10)\n",
    "cb_validation = image_dataset_from_directory(images_directory, labels='inferred', image_size=(97,97), subset='validation', validation_split=.2, seed=10)"
   ]
  },
  {
   "cell_type": "code",
   "execution_count": 27,
   "id": "1f146a5a",
   "metadata": {},
   "outputs": [
    {
     "name": "stdout",
     "output_type": "stream",
     "text": [
      "Model: \"sequential_5\"\n",
      "_________________________________________________________________\n",
      "Layer (type)                 Output Shape              Param #   \n",
      "=================================================================\n",
      "conv2d_25 (Conv2D)           (None, 97, 97, 5)         140       \n",
      "_________________________________________________________________\n",
      "max_pooling2d_20 (MaxPooling (None, 48, 48, 5)         0         \n",
      "_________________________________________________________________\n",
      "conv2d_26 (Conv2D)           (None, 48, 48, 10)        460       \n",
      "_________________________________________________________________\n",
      "max_pooling2d_21 (MaxPooling (None, 24, 24, 10)        0         \n",
      "_________________________________________________________________\n",
      "conv2d_27 (Conv2D)           (None, 24, 24, 20)        1820      \n",
      "_________________________________________________________________\n",
      "max_pooling2d_22 (MaxPooling (None, 12, 12, 20)        0         \n",
      "_________________________________________________________________\n",
      "conv2d_28 (Conv2D)           (None, 12, 12, 30)        5430      \n",
      "_________________________________________________________________\n",
      "max_pooling2d_23 (MaxPooling (None, 6, 6, 30)          0         \n",
      "_________________________________________________________________\n",
      "conv2d_29 (Conv2D)           (None, 6, 6, 40)          10840     \n",
      "_________________________________________________________________\n",
      "global_average_pooling2d_5 ( (None, 40)                0         \n",
      "_________________________________________________________________\n",
      "dense_11 (Dense)             (None, 100)               4100      \n",
      "_________________________________________________________________\n",
      "dense_12 (Dense)             (None, 100)               10100     \n",
      "_________________________________________________________________\n",
      "dense_13 (Dense)             (None, 1)                 101       \n",
      "=================================================================\n",
      "Total params: 32,991\n",
      "Trainable params: 32,991\n",
      "Non-trainable params: 0\n",
      "_________________________________________________________________\n"
     ]
    }
   ],
   "source": [
    "cnn = Sequential()\n",
    "cnn.add(InputLayer(input_shape=(97,97, 3)))\n",
    "cnn.add(Conv2D(filters=5, kernel_size=3, activation='relu', padding='same'))\n",
    "cnn.add(MaxPooling2D())\n",
    "cnn.add(Conv2D(filters=10, kernel_size=3, activation='relu', padding='same'))\n",
    "cnn.add(MaxPooling2D())\n",
    "cnn.add(Conv2D(filters=20, kernel_size=3, activation='relu', padding='same'))\n",
    "cnn.add(MaxPooling2D())\n",
    "cnn.add(Conv2D(filters=30, kernel_size=3, activation='relu', padding='same'))\n",
    "cnn.add(MaxPooling2D())\n",
    "cnn.add(Conv2D(filters=40, kernel_size=3, activation='relu', padding='same'))\n",
    "cnn.add(GlobalAveragePooling2D())\n",
    "\n",
    "cnn.add(layers.Dense(100, activation='relu'))\n",
    "cnn.add(Dropout(.5))\n",
    "cnn.add(layers.Dense(100, activation='relu'))\n",
    "cnn.add(Dropout(.5))\n",
    "\n",
    "cnn.add(layers.Dense(1, activation='sigmoid'))\n",
    "cnn.summary()"
   ]
  },
  {
   "cell_type": "code",
   "execution_count": 23,
   "id": "f7f78c96",
   "metadata": {},
   "outputs": [],
   "source": [
    "earlystop = EarlyStopping(monitor='val_loss', mode='min', verbose=1)\n",
    "checkpoint = ModelCheckpoint('simple_cnn.h5', monitor='val_loss', verbose=1,save_best_only=True, save_weights_only=False, mode='auto', save_freq=1)"
   ]
  },
  {
   "cell_type": "code",
   "execution_count": 28,
   "id": "20782d0f",
   "metadata": {},
   "outputs": [],
   "source": [
    "METRICS = [\n",
    "      keras.metrics.TruePositives(name='tp'),\n",
    "      keras.metrics.FalsePositives(name='fp'),\n",
    "      keras.metrics.TrueNegatives(name='tn'),\n",
    "      keras.metrics.FalseNegatives(name='fn'), \n",
    "      keras.metrics.BinaryAccuracy(name='accuracy'),\n",
    "      keras.metrics.Precision(name='precision'),\n",
    "      keras.metrics.Recall(name='recall'),\n",
    "      keras.metrics.AUC(name='auc'),\n",
    "      keras.metrics.AUC(name='prc', curve='PR'), # precision-recall curve\n",
    "]\n",
    "cnn.compile(optimizer='adam', loss='binary_crossentropy', metrics=METRICS)\n"
   ]
  },
  {
   "cell_type": "code",
   "execution_count": 29,
   "id": "aa6e1299",
   "metadata": {},
   "outputs": [],
   "source": [
    "xx =compute_class_weight(class_weight='balanced',classes=np.unique(answers.label), y=answers.label)\n",
    "class_weight = dict(zip(np.unique(answers.label), xx))"
   ]
  },
  {
   "cell_type": "code",
   "execution_count": 33,
   "id": "d3829139",
   "metadata": {},
   "outputs": [
    {
     "name": "stdout",
     "output_type": "stream",
     "text": [
      "Epoch 1/40\n",
      "750/750 [==============================] - 72s 96ms/step - loss: 0.2891 - tp: 5298.0000 - fp: 3199.0000 - tn: 15173.0000 - fn: 330.0000 - accuracy: 0.8530 - precision: 0.6235 - recall: 0.9414 - auc: 0.9416 - prc: 0.7976 - val_loss: 0.3515 - val_tp: 1378.0000 - val_fp: 872.0000 - val_tn: 3729.0000 - val_fn: 21.0000 - val_accuracy: 0.8512 - val_precision: 0.6124 - val_recall: 0.9850 - val_auc: 0.9598 - val_prc: 0.8524\n"
     ]
    }
   ],
   "source": [
    "history = cnn.fit(cb_training, epochs=40,validation_data=cb_validation, class_weight = class_weight, callbacks=[earlystop])"
   ]
  },
  {
   "cell_type": "markdown",
   "id": "eadfd732",
   "metadata": {},
   "source": [
    "# Short Analysis \n",
    "So these are consistenly a little lower than the notebook 3 - we did change the spectrograms, and maybe we shouldnt have? \n",
    "Lets fix this. "
   ]
  },
  {
   "cell_type": "code",
   "execution_count": 35,
   "id": "297b00d8",
   "metadata": {},
   "outputs": [],
   "source": [
    "def read_sound(index, df, feature=True):\n",
    "    row = df.iloc[index]\n",
    "    clip_path = row['clip_path']\n",
    "    if feature:\n",
    "        image_path = row['image_path']\n",
    "    else:\n",
    "        image_path = row['image_path2']\n",
    "    y, sr = librosa.load(clip_path, sr=None)\n",
    "    del clip_path, row\n",
    "    return y, sr, image_path, feature \n",
    "\n",
    "def create_spectrogram(input_tuple):\n",
    "    y, sr, output_file,feature = input_tuple\n",
    "    n_fft=192\n",
    "    \n",
    "    fig = plt.figure(figsize=[1, 1])\n",
    "    ax = fig.add_subplot(111)\n",
    "    ax.axes.get_xaxis().set_visible(False)\n",
    "    ax.axes.get_yaxis().set_visible(False)\n",
    "    ax.set_frame_on(False)\n",
    "    if feature:\n",
    "        spec = librosa.feature.melspectrogram(y=y, sr=sr)\n",
    "    else:\n",
    "        spec = librosa.stft(y, n_fft=n_fft)\n",
    "    librosa.display.specshow(librosa.power_to_db(spec, ref=np.min),n_fft=n_fft)\n",
    "    plt.savefig(output_file, dpi=97, bbox_inches='tight', pad_inches=0)\n",
    "    plt.close()\n",
    "    fig.clf()\n",
    "    plt.close(fig)\n",
    "    plt.close('all')\n",
    "    del spec, fig, ax, y, sr, output_file, input_tuple\n",
    "    "
   ]
  },
  {
   "cell_type": "code",
   "execution_count": 37,
   "id": "efcdc9f5",
   "metadata": {},
   "outputs": [
    {
     "name": "stderr",
     "output_type": "stream",
     "text": [
      "100%|███████████████████████████████████| 30000/30000 [1:19:44<00:00,  6.27it/s]\n"
     ]
    }
   ],
   "source": [
    "from tqdm import tqdm\n",
    "\n",
    "for i in tqdm(range(0, answers.shape[0])):\n",
    "    create_spectrogram(read_sound(i, answers,False))\n",
    "\n"
   ]
  },
  {
   "cell_type": "code",
   "execution_count": 38,
   "id": "3ee2c623",
   "metadata": {},
   "outputs": [
    {
     "name": "stdout",
     "output_type": "stream",
     "text": [
      "Model: \"sequential_6\"\n",
      "_________________________________________________________________\n",
      "Layer (type)                 Output Shape              Param #   \n",
      "=================================================================\n",
      "conv2d_30 (Conv2D)           (None, 97, 97, 5)         140       \n",
      "_________________________________________________________________\n",
      "max_pooling2d_24 (MaxPooling (None, 48, 48, 5)         0         \n",
      "_________________________________________________________________\n",
      "conv2d_31 (Conv2D)           (None, 48, 48, 10)        460       \n",
      "_________________________________________________________________\n",
      "max_pooling2d_25 (MaxPooling (None, 24, 24, 10)        0         \n",
      "_________________________________________________________________\n",
      "conv2d_32 (Conv2D)           (None, 24, 24, 20)        1820      \n",
      "_________________________________________________________________\n",
      "max_pooling2d_26 (MaxPooling (None, 12, 12, 20)        0         \n",
      "_________________________________________________________________\n",
      "conv2d_33 (Conv2D)           (None, 12, 12, 30)        5430      \n",
      "_________________________________________________________________\n",
      "max_pooling2d_27 (MaxPooling (None, 6, 6, 30)          0         \n",
      "_________________________________________________________________\n",
      "conv2d_34 (Conv2D)           (None, 6, 6, 40)          10840     \n",
      "_________________________________________________________________\n",
      "global_average_pooling2d_6 ( (None, 40)                0         \n",
      "_________________________________________________________________\n",
      "dense_14 (Dense)             (None, 100)               4100      \n",
      "_________________________________________________________________\n",
      "dropout_7 (Dropout)          (None, 100)               0         \n",
      "_________________________________________________________________\n",
      "dense_15 (Dense)             (None, 100)               10100     \n",
      "_________________________________________________________________\n",
      "dropout_8 (Dropout)          (None, 100)               0         \n",
      "_________________________________________________________________\n",
      "dense_16 (Dense)             (None, 1)                 101       \n",
      "=================================================================\n",
      "Total params: 32,991\n",
      "Trainable params: 32,991\n",
      "Non-trainable params: 0\n",
      "_________________________________________________________________\n",
      "Epoch 1/40\n",
      "750/750 [==============================] - 88s 110ms/step - loss: 0.4422 - tp: 4881.0000 - fp: 4438.0000 - tn: 13934.0000 - fn: 747.0000 - accuracy: 0.7840 - precision: 0.5238 - recall: 0.8673 - auc: 0.8779 - prc: 0.6292 - val_loss: 0.2971 - val_tp: 1162.0000 - val_fp: 653.0000 - val_tn: 3948.0000 - val_fn: 237.0000 - val_accuracy: 0.8517 - val_precision: 0.6402 - val_recall: 0.8306 - val_auc: 0.9302 - val_prc: 0.7775\n",
      "Epoch 2/40\n",
      "750/750 [==============================] - 81s 108ms/step - loss: 0.3067 - tp: 5211.0000 - fp: 3278.0000 - tn: 15094.0000 - fn: 417.0000 - accuracy: 0.8460 - precision: 0.6139 - recall: 0.9259 - auc: 0.9372 - prc: 0.7873 - val_loss: 0.2773 - val_tp: 1202.0000 - val_fp: 623.0000 - val_tn: 3978.0000 - val_fn: 197.0000 - val_accuracy: 0.8633 - val_precision: 0.6586 - val_recall: 0.8592 - val_auc: 0.9421 - val_prc: 0.8148\n",
      "Epoch 3/40\n",
      "750/750 [==============================] - 80s 107ms/step - loss: 0.2728 - tp: 5274.0000 - fp: 2816.0000 - tn: 15556.0000 - fn: 354.0000 - accuracy: 0.8679 - precision: 0.6519 - recall: 0.9371 - auc: 0.9488 - prc: 0.8174 - val_loss: 0.2713 - val_tp: 1333.0000 - val_fp: 767.0000 - val_tn: 3834.0000 - val_fn: 66.0000 - val_accuracy: 0.8612 - val_precision: 0.6348 - val_recall: 0.9528 - val_auc: 0.9548 - val_prc: 0.8452\n",
      "Epoch 4/40\n",
      "750/750 [==============================] - 81s 108ms/step - loss: 0.2571 - tp: 5279.0000 - fp: 2665.0000 - tn: 15707.0000 - fn: 349.0000 - accuracy: 0.8744 - precision: 0.6645 - recall: 0.9380 - auc: 0.9545 - prc: 0.8394 - val_loss: 0.3130 - val_tp: 1358.0000 - val_fp: 849.0000 - val_tn: 3752.0000 - val_fn: 41.0000 - val_accuracy: 0.8517 - val_precision: 0.6153 - val_recall: 0.9707 - val_auc: 0.9596 - val_prc: 0.8644\n",
      "Epoch 5/40\n",
      "750/750 [==============================] - 81s 108ms/step - loss: 0.2462 - tp: 5294.0000 - fp: 2515.0000 - tn: 15857.0000 - fn: 334.0000 - accuracy: 0.8813 - precision: 0.6779 - recall: 0.9407 - auc: 0.9578 - prc: 0.8465 - val_loss: 0.2693 - val_tp: 1325.0000 - val_fp: 697.0000 - val_tn: 3904.0000 - val_fn: 74.0000 - val_accuracy: 0.8715 - val_precision: 0.6553 - val_recall: 0.9471 - val_auc: 0.9606 - val_prc: 0.8675\n",
      "Epoch 6/40\n",
      "750/750 [==============================] - 82s 110ms/step - loss: 0.2400 - tp: 5318.0000 - fp: 2501.0000 - tn: 15871.0000 - fn: 310.0000 - accuracy: 0.8829 - precision: 0.6801 - recall: 0.9449 - auc: 0.9601 - prc: 0.8571 - val_loss: 0.2544 - val_tp: 1297.0000 - val_fp: 607.0000 - val_tn: 3994.0000 - val_fn: 102.0000 - val_accuracy: 0.8818 - val_precision: 0.6812 - val_recall: 0.9271 - val_auc: 0.9606 - val_prc: 0.8666\n",
      "Epoch 7/40\n",
      "750/750 [==============================] - 81s 108ms/step - loss: 0.2296 - tp: 5308.0000 - fp: 2377.0000 - tn: 15995.0000 - fn: 320.0000 - accuracy: 0.8876 - precision: 0.6907 - recall: 0.9431 - auc: 0.9634 - prc: 0.8708 - val_loss: 0.2344 - val_tp: 1279.0000 - val_fp: 548.0000 - val_tn: 4053.0000 - val_fn: 120.0000 - val_accuracy: 0.8887 - val_precision: 0.7001 - val_recall: 0.9142 - val_auc: 0.9609 - val_prc: 0.8726\n",
      "Epoch 8/40\n",
      "750/750 [==============================] - 81s 108ms/step - loss: 0.2279 - tp: 5346.0000 - fp: 2393.0000 - tn: 15979.0000 - fn: 282.0000 - accuracy: 0.8885 - precision: 0.6908 - recall: 0.9499 - auc: 0.9642 - prc: 0.8715 - val_loss: 0.2619 - val_tp: 1314.0000 - val_fp: 653.0000 - val_tn: 3948.0000 - val_fn: 85.0000 - val_accuracy: 0.8770 - val_precision: 0.6680 - val_recall: 0.9392 - val_auc: 0.9618 - val_prc: 0.8718\n",
      "Epoch 9/40\n",
      "750/750 [==============================] - 82s 109ms/step - loss: 0.2222 - tp: 5333.0000 - fp: 2332.0000 - tn: 16040.0000 - fn: 295.0000 - accuracy: 0.8905 - precision: 0.6958 - recall: 0.9476 - auc: 0.9659 - prc: 0.8773 - val_loss: 0.2507 - val_tp: 1302.0000 - val_fp: 585.0000 - val_tn: 4016.0000 - val_fn: 97.0000 - val_accuracy: 0.8863 - val_precision: 0.6900 - val_recall: 0.9307 - val_auc: 0.9619 - val_prc: 0.8739\n",
      "Epoch 10/40\n",
      "750/750 [==============================] - 81s 108ms/step - loss: 0.2186 - tp: 5342.0000 - fp: 2287.0000 - tn: 16085.0000 - fn: 286.0000 - accuracy: 0.8928 - precision: 0.7002 - recall: 0.9492 - auc: 0.9671 - prc: 0.8776 - val_loss: 0.2389 - val_tp: 1287.0000 - val_fp: 545.0000 - val_tn: 4056.0000 - val_fn: 112.0000 - val_accuracy: 0.8905 - val_precision: 0.7025 - val_recall: 0.9199 - val_auc: 0.9622 - val_prc: 0.8732\n",
      "Epoch 11/40\n",
      "750/750 [==============================] - 81s 108ms/step - loss: 0.2114 - tp: 5361.0000 - fp: 2216.0000 - tn: 16156.0000 - fn: 267.0000 - accuracy: 0.8965 - precision: 0.7075 - recall: 0.9526 - auc: 0.9686 - prc: 0.8864 - val_loss: 0.2404 - val_tp: 1290.0000 - val_fp: 542.0000 - val_tn: 4059.0000 - val_fn: 109.0000 - val_accuracy: 0.8915 - val_precision: 0.7041 - val_recall: 0.9221 - val_auc: 0.9634 - val_prc: 0.8789\n",
      "Epoch 12/40\n",
      "750/750 [==============================] - 81s 108ms/step - loss: 0.2108 - tp: 5368.0000 - fp: 2250.0000 - tn: 16122.0000 - fn: 260.0000 - accuracy: 0.8954 - precision: 0.7046 - recall: 0.9538 - auc: 0.9693 - prc: 0.8904 - val_loss: 0.2760 - val_tp: 1315.0000 - val_fp: 616.0000 - val_tn: 3985.0000 - val_fn: 84.0000 - val_accuracy: 0.8833 - val_precision: 0.6810 - val_recall: 0.9400 - val_auc: 0.9639 - val_prc: 0.8813\n",
      "Epoch 13/40\n",
      "750/750 [==============================] - 82s 109ms/step - loss: 0.2069 - tp: 5387.0000 - fp: 2208.0000 - tn: 16164.0000 - fn: 241.0000 - accuracy: 0.8980 - precision: 0.7093 - recall: 0.9572 - auc: 0.9703 - prc: 0.8923 - val_loss: 0.2270 - val_tp: 1241.0000 - val_fp: 466.0000 - val_tn: 4135.0000 - val_fn: 158.0000 - val_accuracy: 0.8960 - val_precision: 0.7270 - val_recall: 0.8871 - val_auc: 0.9621 - val_prc: 0.8791\n",
      "Epoch 14/40\n",
      "750/750 [==============================] - 81s 108ms/step - loss: 0.2058 - tp: 5344.0000 - fp: 2145.0000 - tn: 16227.0000 - fn: 284.0000 - accuracy: 0.8988 - precision: 0.7136 - recall: 0.9495 - auc: 0.9705 - prc: 0.8925 - val_loss: 0.2490 - val_tp: 1293.0000 - val_fp: 581.0000 - val_tn: 4020.0000 - val_fn: 106.0000 - val_accuracy: 0.8855 - val_precision: 0.6900 - val_recall: 0.9242 - val_auc: 0.9625 - val_prc: 0.8793\n"
     ]
    },
    {
     "name": "stdout",
     "output_type": "stream",
     "text": [
      "Epoch 15/40\n",
      "750/750 [==============================] - 81s 109ms/step - loss: 0.2000 - tp: 5374.0000 - fp: 2144.0000 - tn: 16228.0000 - fn: 254.0000 - accuracy: 0.9001 - precision: 0.7148 - recall: 0.9549 - auc: 0.9715 - prc: 0.8968 - val_loss: 0.2464 - val_tp: 1288.0000 - val_fp: 568.0000 - val_tn: 4033.0000 - val_fn: 111.0000 - val_accuracy: 0.8868 - val_precision: 0.6940 - val_recall: 0.9207 - val_auc: 0.9632 - val_prc: 0.8812\n",
      "Epoch 16/40\n",
      "750/750 [==============================] - 80s 107ms/step - loss: 0.1972 - tp: 5378.0000 - fp: 2098.0000 - tn: 16274.0000 - fn: 250.0000 - accuracy: 0.9022 - precision: 0.7194 - recall: 0.9556 - auc: 0.9725 - prc: 0.9001 - val_loss: 0.2626 - val_tp: 1315.0000 - val_fp: 634.0000 - val_tn: 3967.0000 - val_fn: 84.0000 - val_accuracy: 0.8803 - val_precision: 0.6747 - val_recall: 0.9400 - val_auc: 0.9626 - val_prc: 0.8763\n",
      "Epoch 17/40\n",
      "750/750 [==============================] - 81s 107ms/step - loss: 0.1920 - tp: 5391.0000 - fp: 2076.0000 - tn: 16296.0000 - fn: 237.0000 - accuracy: 0.9036 - precision: 0.7220 - recall: 0.9579 - auc: 0.9735 - prc: 0.9016 - val_loss: 0.2452 - val_tp: 1302.0000 - val_fp: 612.0000 - val_tn: 3989.0000 - val_fn: 97.0000 - val_accuracy: 0.8818 - val_precision: 0.6803 - val_recall: 0.9307 - val_auc: 0.9624 - val_prc: 0.8761\n",
      "Epoch 18/40\n",
      "750/750 [==============================] - 81s 107ms/step - loss: 0.1896 - tp: 5423.0000 - fp: 2133.0000 - tn: 16239.0000 - fn: 205.0000 - accuracy: 0.9026 - precision: 0.7177 - recall: 0.9636 - auc: 0.9739 - prc: 0.9045 - val_loss: 0.2983 - val_tp: 1325.0000 - val_fp: 682.0000 - val_tn: 3919.0000 - val_fn: 74.0000 - val_accuracy: 0.8740 - val_precision: 0.6602 - val_recall: 0.9471 - val_auc: 0.9616 - val_prc: 0.8782\n",
      "Epoch 19/40\n",
      "750/750 [==============================] - 80s 107ms/step - loss: 0.1872 - tp: 5413.0000 - fp: 2047.0000 - tn: 16325.0000 - fn: 215.0000 - accuracy: 0.9057 - precision: 0.7256 - recall: 0.9618 - auc: 0.9742 - prc: 0.8992 - val_loss: 0.2759 - val_tp: 1300.0000 - val_fp: 573.0000 - val_tn: 4028.0000 - val_fn: 99.0000 - val_accuracy: 0.8880 - val_precision: 0.6941 - val_recall: 0.9292 - val_auc: 0.9605 - val_prc: 0.8723\n",
      "Epoch 20/40\n",
      "750/750 [==============================] - 81s 108ms/step - loss: 0.2006 - tp: 5379.0000 - fp: 2174.0000 - tn: 16198.0000 - fn: 249.0000 - accuracy: 0.8990 - precision: 0.7122 - recall: 0.9558 - auc: 0.9719 - prc: 0.9003 - val_loss: 0.3065 - val_tp: 1317.0000 - val_fp: 655.0000 - val_tn: 3946.0000 - val_fn: 82.0000 - val_accuracy: 0.8772 - val_precision: 0.6678 - val_recall: 0.9414 - val_auc: 0.9612 - val_prc: 0.8690\n",
      "Epoch 21/40\n",
      "750/750 [==============================] - 82s 109ms/step - loss: 0.1807 - tp: 5424.0000 - fp: 2003.0000 - tn: 16369.0000 - fn: 204.0000 - accuracy: 0.9080 - precision: 0.7303 - recall: 0.9638 - auc: 0.9763 - prc: 0.9121 - val_loss: 0.2589 - val_tp: 1279.0000 - val_fp: 513.0000 - val_tn: 4088.0000 - val_fn: 120.0000 - val_accuracy: 0.8945 - val_precision: 0.7137 - val_recall: 0.9142 - val_auc: 0.9612 - val_prc: 0.8807\n",
      "Epoch 22/40\n",
      "750/750 [==============================] - 80s 107ms/step - loss: 0.1790 - tp: 5433.0000 - fp: 1989.0000 - tn: 16383.0000 - fn: 195.0000 - accuracy: 0.9090 - precision: 0.7320 - recall: 0.9654 - auc: 0.9766 - prc: 0.9107 - val_loss: 0.2576 - val_tp: 1266.0000 - val_fp: 539.0000 - val_tn: 4062.0000 - val_fn: 133.0000 - val_accuracy: 0.8880 - val_precision: 0.7014 - val_recall: 0.9049 - val_auc: 0.9577 - val_prc: 0.8675\n",
      "Epoch 23/40\n",
      "750/750 [==============================] - 81s 107ms/step - loss: 0.1784 - tp: 5434.0000 - fp: 1976.0000 - tn: 16396.0000 - fn: 194.0000 - accuracy: 0.9096 - precision: 0.7333 - recall: 0.9655 - auc: 0.9764 - prc: 0.9144 - val_loss: 0.2582 - val_tp: 1274.0000 - val_fp: 556.0000 - val_tn: 4045.0000 - val_fn: 125.0000 - val_accuracy: 0.8865 - val_precision: 0.6962 - val_recall: 0.9107 - val_auc: 0.9606 - val_prc: 0.8787\n",
      "Epoch 24/40\n",
      "750/750 [==============================] - 82s 109ms/step - loss: 0.1749 - tp: 5441.0000 - fp: 1977.0000 - tn: 16395.0000 - fn: 187.0000 - accuracy: 0.9098 - precision: 0.7335 - recall: 0.9668 - auc: 0.9769 - prc: 0.9123 - val_loss: 0.2580 - val_tp: 1259.0000 - val_fp: 472.0000 - val_tn: 4129.0000 - val_fn: 140.0000 - val_accuracy: 0.8980 - val_precision: 0.7273 - val_recall: 0.8999 - val_auc: 0.9591 - val_prc: 0.8752\n",
      "Epoch 25/40\n",
      "750/750 [==============================] - 81s 108ms/step - loss: 0.1726 - tp: 5458.0000 - fp: 2020.0000 - tn: 16352.0000 - fn: 170.0000 - accuracy: 0.9087 - precision: 0.7299 - recall: 0.9698 - auc: 0.9778 - prc: 0.9176 - val_loss: 0.2648 - val_tp: 1284.0000 - val_fp: 608.0000 - val_tn: 3993.0000 - val_fn: 115.0000 - val_accuracy: 0.8795 - val_precision: 0.6786 - val_recall: 0.9178 - val_auc: 0.9565 - val_prc: 0.8652\n",
      "Epoch 26/40\n",
      "750/750 [==============================] - 81s 108ms/step - loss: 0.1707 - tp: 5458.0000 - fp: 1934.0000 - tn: 16438.0000 - fn: 170.0000 - accuracy: 0.9123 - precision: 0.7384 - recall: 0.9698 - auc: 0.9780 - prc: 0.9169 - val_loss: 0.2798 - val_tp: 1288.0000 - val_fp: 545.0000 - val_tn: 4056.0000 - val_fn: 111.0000 - val_accuracy: 0.8907 - val_precision: 0.7027 - val_recall: 0.9207 - val_auc: 0.9591 - val_prc: 0.8780\n",
      "Epoch 27/40\n",
      "750/750 [==============================] - 80s 107ms/step - loss: 0.1656 - tp: 5459.0000 - fp: 1872.0000 - tn: 16500.0000 - fn: 169.0000 - accuracy: 0.9150 - precision: 0.7446 - recall: 0.9700 - auc: 0.9793 - prc: 0.9211 - val_loss: 0.3326 - val_tp: 1315.0000 - val_fp: 639.0000 - val_tn: 3962.0000 - val_fn: 84.0000 - val_accuracy: 0.8795 - val_precision: 0.6730 - val_recall: 0.9400 - val_auc: 0.9577 - val_prc: 0.8592\n",
      "Epoch 28/40\n",
      "750/750 [==============================] - 82s 109ms/step - loss: 0.1687 - tp: 5445.0000 - fp: 1922.0000 - tn: 16450.0000 - fn: 183.0000 - accuracy: 0.9123 - precision: 0.7391 - recall: 0.9675 - auc: 0.9786 - prc: 0.9163 - val_loss: 0.2432 - val_tp: 1292.0000 - val_fp: 574.0000 - val_tn: 4027.0000 - val_fn: 107.0000 - val_accuracy: 0.8865 - val_precision: 0.6924 - val_recall: 0.9235 - val_auc: 0.9571 - val_prc: 0.8701\n",
      "Epoch 29/40\n",
      "750/750 [==============================] - 81s 108ms/step - loss: 0.1633 - tp: 5462.0000 - fp: 1866.0000 - tn: 16506.0000 - fn: 166.0000 - accuracy: 0.9153 - precision: 0.7454 - recall: 0.9705 - auc: 0.9795 - prc: 0.9201 - val_loss: 0.3249 - val_tp: 1327.0000 - val_fp: 665.0000 - val_tn: 3936.0000 - val_fn: 72.0000 - val_accuracy: 0.8772 - val_precision: 0.6662 - val_recall: 0.9485 - val_auc: 0.9592 - val_prc: 0.8643\n",
      "Epoch 30/40\n",
      "750/750 [==============================] - 81s 108ms/step - loss: 0.1597 - tp: 5469.0000 - fp: 1784.0000 - tn: 16588.0000 - fn: 159.0000 - accuracy: 0.9190 - precision: 0.7540 - recall: 0.9717 - auc: 0.9806 - prc: 0.9253 - val_loss: 0.2713 - val_tp: 1265.0000 - val_fp: 508.0000 - val_tn: 4093.0000 - val_fn: 134.0000 - val_accuracy: 0.8930 - val_precision: 0.7135 - val_recall: 0.9042 - val_auc: 0.9581 - val_prc: 0.8617\n",
      "Epoch 31/40\n",
      "750/750 [==============================] - 81s 108ms/step - loss: 0.1531 - tp: 5477.0000 - fp: 1730.0000 - tn: 16642.0000 - fn: 151.0000 - accuracy: 0.9216 - precision: 0.7600 - recall: 0.9732 - auc: 0.9814 - prc: 0.9266 - val_loss: 0.3020 - val_tp: 1290.0000 - val_fp: 547.0000 - val_tn: 4054.0000 - val_fn: 109.0000 - val_accuracy: 0.8907 - val_precision: 0.7022 - val_recall: 0.9221 - val_auc: 0.9573 - val_prc: 0.8649\n",
      "Epoch 32/40\n",
      "750/750 [==============================] - 81s 108ms/step - loss: 0.1575 - tp: 5473.0000 - fp: 1774.0000 - tn: 16598.0000 - fn: 155.0000 - accuracy: 0.9196 - precision: 0.7552 - recall: 0.9725 - auc: 0.9811 - prc: 0.9282 - val_loss: 0.2853 - val_tp: 1267.0000 - val_fp: 504.0000 - val_tn: 4097.0000 - val_fn: 132.0000 - val_accuracy: 0.8940 - val_precision: 0.7154 - val_recall: 0.9056 - val_auc: 0.9600 - val_prc: 0.8737\n",
      "Epoch 33/40\n",
      "750/750 [==============================] - 82s 109ms/step - loss: 0.1471 - tp: 5472.0000 - fp: 1601.0000 - tn: 16771.0000 - fn: 156.0000 - accuracy: 0.9268 - precision: 0.7736 - recall: 0.9723 - auc: 0.9826 - prc: 0.9338 - val_loss: 0.3266 - val_tp: 1293.0000 - val_fp: 562.0000 - val_tn: 4039.0000 - val_fn: 106.0000 - val_accuracy: 0.8887 - val_precision: 0.6970 - val_recall: 0.9242 - val_auc: 0.9559 - val_prc: 0.8685\n"
     ]
    },
    {
     "name": "stdout",
     "output_type": "stream",
     "text": [
      "Epoch 34/40\n",
      "750/750 [==============================] - 81s 108ms/step - loss: 0.1496 - tp: 5502.0000 - fp: 1705.0000 - tn: 16667.0000 - fn: 126.0000 - accuracy: 0.9237 - precision: 0.7634 - recall: 0.9776 - auc: 0.9823 - prc: 0.9317 - val_loss: 0.2993 - val_tp: 1243.0000 - val_fp: 442.0000 - val_tn: 4159.0000 - val_fn: 156.0000 - val_accuracy: 0.9003 - val_precision: 0.7377 - val_recall: 0.8885 - val_auc: 0.9520 - val_prc: 0.8649\n",
      "Epoch 35/40\n",
      "750/750 [==============================] - 81s 108ms/step - loss: 0.1490 - tp: 5484.0000 - fp: 1726.0000 - tn: 16646.0000 - fn: 144.0000 - accuracy: 0.9221 - precision: 0.7606 - recall: 0.9744 - auc: 0.9827 - prc: 0.9357 - val_loss: 0.3131 - val_tp: 1264.0000 - val_fp: 524.0000 - val_tn: 4077.0000 - val_fn: 135.0000 - val_accuracy: 0.8902 - val_precision: 0.7069 - val_recall: 0.9035 - val_auc: 0.9519 - val_prc: 0.8589\n",
      "Epoch 36/40\n",
      "750/750 [==============================] - 81s 107ms/step - loss: 0.1511 - tp: 5486.0000 - fp: 1724.0000 - tn: 16648.0000 - fn: 142.0000 - accuracy: 0.9222 - precision: 0.7609 - recall: 0.9748 - auc: 0.9823 - prc: 0.9321 - val_loss: 0.3021 - val_tp: 1250.0000 - val_fp: 466.0000 - val_tn: 4135.0000 - val_fn: 149.0000 - val_accuracy: 0.8975 - val_precision: 0.7284 - val_recall: 0.8935 - val_auc: 0.9522 - val_prc: 0.8644\n",
      "Epoch 37/40\n",
      "750/750 [==============================] - 81s 108ms/step - loss: 0.1409 - tp: 5482.0000 - fp: 1568.0000 - tn: 16804.0000 - fn: 146.0000 - accuracy: 0.9286 - precision: 0.7776 - recall: 0.9741 - auc: 0.9843 - prc: 0.9404 - val_loss: 0.3108 - val_tp: 1258.0000 - val_fp: 525.0000 - val_tn: 4076.0000 - val_fn: 141.0000 - val_accuracy: 0.8890 - val_precision: 0.7056 - val_recall: 0.8992 - val_auc: 0.9464 - val_prc: 0.8375\n",
      "Epoch 38/40\n",
      "750/750 [==============================] - 81s 108ms/step - loss: 0.1440 - tp: 5481.0000 - fp: 1619.0000 - tn: 16753.0000 - fn: 147.0000 - accuracy: 0.9264 - precision: 0.7720 - recall: 0.9739 - auc: 0.9834 - prc: 0.9374 - val_loss: 0.2664 - val_tp: 1254.0000 - val_fp: 517.0000 - val_tn: 4084.0000 - val_fn: 145.0000 - val_accuracy: 0.8897 - val_precision: 0.7081 - val_recall: 0.8964 - val_auc: 0.9525 - val_prc: 0.8593\n",
      "Epoch 39/40\n",
      "750/750 [==============================] - 82s 109ms/step - loss: 0.1439 - tp: 5506.0000 - fp: 1623.0000 - tn: 16749.0000 - fn: 122.0000 - accuracy: 0.9273 - precision: 0.7723 - recall: 0.9783 - auc: 0.9835 - prc: 0.9367 - val_loss: 0.3209 - val_tp: 1300.0000 - val_fp: 576.0000 - val_tn: 4025.0000 - val_fn: 99.0000 - val_accuracy: 0.8875 - val_precision: 0.6930 - val_recall: 0.9292 - val_auc: 0.9543 - val_prc: 0.8668\n",
      "Epoch 40/40\n",
      "750/750 [==============================] - 81s 108ms/step - loss: 0.1346 - tp: 5512.0000 - fp: 1506.0000 - tn: 16866.0000 - fn: 116.0000 - accuracy: 0.9324 - precision: 0.7854 - recall: 0.9794 - auc: 0.9854 - prc: 0.9439 - val_loss: 0.3820 - val_tp: 1316.0000 - val_fp: 752.0000 - val_tn: 3849.0000 - val_fn: 83.0000 - val_accuracy: 0.8608 - val_precision: 0.6364 - val_recall: 0.9407 - val_auc: 0.9466 - val_prc: 0.8396\n"
     ]
    }
   ],
   "source": [
    "cnn = Sequential()\n",
    "cnn.add(InputLayer(input_shape=(97,97, 3)))\n",
    "cnn.add(Conv2D(filters=5, kernel_size=3, activation='relu', padding='same'))\n",
    "cnn.add(MaxPooling2D())\n",
    "cnn.add(Conv2D(filters=10, kernel_size=3, activation='relu', padding='same'))\n",
    "cnn.add(MaxPooling2D())\n",
    "cnn.add(Conv2D(filters=20, kernel_size=3, activation='relu', padding='same'))\n",
    "cnn.add(MaxPooling2D())\n",
    "cnn.add(Conv2D(filters=30, kernel_size=3, activation='relu', padding='same'))\n",
    "cnn.add(MaxPooling2D())\n",
    "cnn.add(Conv2D(filters=40, kernel_size=3, activation='relu', padding='same'))\n",
    "cnn.add(GlobalAveragePooling2D())\n",
    "\n",
    "cnn.add(layers.Dense(100, activation='relu'))\n",
    "cnn.add(Dropout(.5))\n",
    "cnn.add(layers.Dense(100, activation='relu'))\n",
    "cnn.add(Dropout(.5))\n",
    "\n",
    "cnn.add(layers.Dense(1, activation='sigmoid'))\n",
    "cnn.summary()\n",
    "\n",
    "\n",
    "\n",
    "earlystop = EarlyStopping(monitor='val_loss', mode='min', verbose=1)\n",
    "checkpoint = ModelCheckpoint('simple_cnn.h5', monitor='val_loss', verbose=1,save_best_only=True, save_weights_only=False, mode='auto', save_freq=1)\n",
    "\n",
    "\n",
    "\n",
    "METRICS = [\n",
    "      keras.metrics.TruePositives(name='tp'),\n",
    "      keras.metrics.FalsePositives(name='fp'),\n",
    "      keras.metrics.TrueNegatives(name='tn'),\n",
    "      keras.metrics.FalseNegatives(name='fn'), \n",
    "      keras.metrics.BinaryAccuracy(name='accuracy'),\n",
    "      keras.metrics.Precision(name='precision'),\n",
    "      keras.metrics.Recall(name='recall'),\n",
    "      keras.metrics.AUC(name='auc'),\n",
    "      keras.metrics.AUC(name='prc', curve='PR'), # precision-recall curve\n",
    "]\n",
    "cnn.compile(optimizer='adam', loss='binary_crossentropy', metrics=METRICS)\n",
    "\n",
    "xx =compute_class_weight(class_weight='balanced',classes=np.unique(answers.label), y=answers.label)\n",
    "class_weight = dict(zip(np.unique(answers.label), xx))\n",
    "\n",
    "\n",
    "history = cnn.fit(cb_training, epochs=40,validation_data=cb_validation, class_weight = class_weight)"
   ]
  },
  {
   "cell_type": "code",
   "execution_count": 44,
   "id": "e62e92cc",
   "metadata": {},
   "outputs": [
    {
     "name": "stdout",
     "output_type": "stream",
     "text": [
      "Model: \"sequential_7\"\n",
      "_________________________________________________________________\n",
      "Layer (type)                 Output Shape              Param #   \n",
      "=================================================================\n",
      "conv2d_35 (Conv2D)           (None, 97, 97, 5)         140       \n",
      "_________________________________________________________________\n",
      "max_pooling2d_28 (MaxPooling (None, 48, 48, 5)         0         \n",
      "_________________________________________________________________\n",
      "conv2d_36 (Conv2D)           (None, 48, 48, 10)        460       \n",
      "_________________________________________________________________\n",
      "max_pooling2d_29 (MaxPooling (None, 24, 24, 10)        0         \n",
      "_________________________________________________________________\n",
      "conv2d_37 (Conv2D)           (None, 24, 24, 20)        1820      \n",
      "_________________________________________________________________\n",
      "max_pooling2d_30 (MaxPooling (None, 12, 12, 20)        0         \n",
      "_________________________________________________________________\n",
      "conv2d_38 (Conv2D)           (None, 12, 12, 30)        5430      \n",
      "_________________________________________________________________\n",
      "max_pooling2d_31 (MaxPooling (None, 6, 6, 30)          0         \n",
      "_________________________________________________________________\n",
      "conv2d_39 (Conv2D)           (None, 6, 6, 40)          10840     \n",
      "_________________________________________________________________\n",
      "global_average_pooling2d_7 ( (None, 40)                0         \n",
      "_________________________________________________________________\n",
      "dense_17 (Dense)             (None, 1000)              41000     \n",
      "_________________________________________________________________\n",
      "dropout_9 (Dropout)          (None, 1000)              0         \n",
      "_________________________________________________________________\n",
      "dense_18 (Dense)             (None, 1000)              1001000   \n",
      "_________________________________________________________________\n",
      "dropout_10 (Dropout)         (None, 1000)              0         \n",
      "_________________________________________________________________\n",
      "dense_19 (Dense)             (None, 1)                 1001      \n",
      "=================================================================\n",
      "Total params: 1,061,691\n",
      "Trainable params: 1,061,691\n",
      "Non-trainable params: 0\n",
      "_________________________________________________________________\n",
      "Epoch 1/10\n",
      "750/750 [==============================] - 100s 125ms/step - loss: 0.3955 - tp: 4972.0000 - fp: 4250.0000 - tn: 14122.0000 - fn: 656.0000 - accuracy: 0.7956 - precision: 0.5391 - recall: 0.8834 - auc: 0.8972 - prc: 0.6870 - val_loss: 0.3322 - val_tp: 1327.0000 - val_fp: 833.0000 - val_tn: 3768.0000 - val_fn: 72.0000 - val_accuracy: 0.8492 - val_precision: 0.6144 - val_recall: 0.9485 - val_auc: 0.9481 - val_prc: 0.8244\n",
      "Epoch 2/10\n",
      "750/750 [==============================] - 93s 124ms/step - loss: 0.2582 - tp: 5296.0000 - fp: 2857.0000 - tn: 15515.0000 - fn: 332.0000 - accuracy: 0.8671 - precision: 0.6496 - recall: 0.9410 - auc: 0.9545 - prc: 0.8438 - val_loss: 0.2360 - val_tp: 1286.0000 - val_fp: 572.0000 - val_tn: 4029.0000 - val_fn: 113.0000 - val_accuracy: 0.8858 - val_precision: 0.6921 - val_recall: 0.9192 - val_auc: 0.9579 - val_prc: 0.8562\n",
      "Epoch 3/10\n",
      "750/750 [==============================] - 94s 126ms/step - loss: 0.2452 - tp: 5314.0000 - fp: 2667.0000 - tn: 15705.0000 - fn: 314.0000 - accuracy: 0.8758 - precision: 0.6658 - recall: 0.9442 - auc: 0.9590 - prc: 0.8564 - val_loss: 0.2990 - val_tp: 1305.0000 - val_fp: 673.0000 - val_tn: 3928.0000 - val_fn: 94.0000 - val_accuracy: 0.8722 - val_precision: 0.6598 - val_recall: 0.9328 - val_auc: 0.9535 - val_prc: 0.8403\n",
      "Epoch 4/10\n",
      "750/750 [==============================] - 90s 119ms/step - loss: 0.2281 - tp: 5328.0000 - fp: 2492.0000 - tn: 15880.0000 - fn: 300.0000 - accuracy: 0.8837 - precision: 0.6813 - recall: 0.9467 - auc: 0.9633 - prc: 0.8701 - val_loss: 0.2872 - val_tp: 1337.0000 - val_fp: 736.0000 - val_tn: 3865.0000 - val_fn: 62.0000 - val_accuracy: 0.8670 - val_precision: 0.6450 - val_recall: 0.9557 - val_auc: 0.9615 - val_prc: 0.8679\n",
      "Epoch 5/10\n",
      "750/750 [==============================] - 92s 122ms/step - loss: 0.2258 - tp: 5339.0000 - fp: 2501.0000 - tn: 15871.0000 - fn: 289.0000 - accuracy: 0.8838 - precision: 0.6810 - recall: 0.9486 - auc: 0.9644 - prc: 0.8743 - val_loss: 0.2510 - val_tp: 1305.0000 - val_fp: 636.0000 - val_tn: 3965.0000 - val_fn: 94.0000 - val_accuracy: 0.8783 - val_precision: 0.6723 - val_recall: 0.9328 - val_auc: 0.9609 - val_prc: 0.8690\n",
      "Epoch 6/10\n",
      "750/750 [==============================] - 89s 119ms/step - loss: 0.2170 - tp: 5364.0000 - fp: 2363.0000 - tn: 16009.0000 - fn: 264.0000 - accuracy: 0.8905 - precision: 0.6942 - recall: 0.9531 - auc: 0.9671 - prc: 0.8810 - val_loss: 0.2836 - val_tp: 1328.0000 - val_fp: 714.0000 - val_tn: 3887.0000 - val_fn: 71.0000 - val_accuracy: 0.8692 - val_precision: 0.6503 - val_recall: 0.9492 - val_auc: 0.9585 - val_prc: 0.8611\n",
      "Epoch 7/10\n",
      "750/750 [==============================] - 89s 119ms/step - loss: 0.2171 - tp: 5339.0000 - fp: 2386.0000 - tn: 15986.0000 - fn: 289.0000 - accuracy: 0.8885 - precision: 0.6911 - recall: 0.9486 - auc: 0.9672 - prc: 0.8840 - val_loss: 0.2895 - val_tp: 1333.0000 - val_fp: 730.0000 - val_tn: 3871.0000 - val_fn: 66.0000 - val_accuracy: 0.8673 - val_precision: 0.6461 - val_recall: 0.9528 - val_auc: 0.9616 - val_prc: 0.8696\n",
      "Epoch 8/10\n",
      "750/750 [==============================] - 90s 120ms/step - loss: 0.2080 - tp: 5364.0000 - fp: 2241.0000 - tn: 16131.0000 - fn: 264.0000 - accuracy: 0.8956 - precision: 0.7053 - recall: 0.9531 - auc: 0.9693 - prc: 0.8896 - val_loss: 0.2472 - val_tp: 1290.0000 - val_fp: 586.0000 - val_tn: 4015.0000 - val_fn: 109.0000 - val_accuracy: 0.8842 - val_precision: 0.6876 - val_recall: 0.9221 - val_auc: 0.9607 - val_prc: 0.8743\n",
      "Epoch 9/10\n",
      "750/750 [==============================] - 86s 115ms/step - loss: 0.2096 - tp: 5361.0000 - fp: 2208.0000 - tn: 16164.0000 - fn: 267.0000 - accuracy: 0.8969 - precision: 0.7083 - recall: 0.9526 - auc: 0.9693 - prc: 0.8901 - val_loss: 0.2766 - val_tp: 1329.0000 - val_fp: 688.0000 - val_tn: 3913.0000 - val_fn: 70.0000 - val_accuracy: 0.8737 - val_precision: 0.6589 - val_recall: 0.9500 - val_auc: 0.9602 - val_prc: 0.8679\n",
      "Epoch 10/10\n",
      "750/750 [==============================] - 85s 114ms/step - loss: 0.2088 - tp: 5367.0000 - fp: 2248.0000 - tn: 16124.0000 - fn: 261.0000 - accuracy: 0.8955 - precision: 0.7048 - recall: 0.9536 - auc: 0.9697 - prc: 0.8955 - val_loss: 0.2438 - val_tp: 1299.0000 - val_fp: 582.0000 - val_tn: 4019.0000 - val_fn: 100.0000 - val_accuracy: 0.8863 - val_precision: 0.6906 - val_recall: 0.9285 - val_auc: 0.9640 - val_prc: 0.8824\n"
     ]
    }
   ],
   "source": [
    "cnn = Sequential()\n",
    "cnn.add(InputLayer(input_shape=(97,97, 3)))\n",
    "cnn.add(Conv2D(filters=5, kernel_size=3, activation='relu', padding='same'))\n",
    "cnn.add(MaxPooling2D())\n",
    "cnn.add(Conv2D(filters=10, kernel_size=3, activation='relu', padding='same'))\n",
    "cnn.add(MaxPooling2D())\n",
    "cnn.add(Conv2D(filters=20, kernel_size=3, activation='relu', padding='same'))\n",
    "cnn.add(MaxPooling2D())\n",
    "cnn.add(Conv2D(filters=30, kernel_size=3, activation='relu', padding='same'))\n",
    "cnn.add(MaxPooling2D())\n",
    "cnn.add(Conv2D(filters=40, kernel_size=3, activation='relu', padding='same'))\n",
    "cnn.add(GlobalAveragePooling2D())\n",
    "\n",
    "cnn.add(layers.Dense(1000, activation='relu'))\n",
    "cnn.add(Dropout(.5))\n",
    "cnn.add(layers.Dense(1000, activation='relu'))\n",
    "cnn.add(Dropout(.5))\n",
    "\n",
    "cnn.add(layers.Dense(1, activation='sigmoid'))\n",
    "cnn.summary()\n",
    "\n",
    "\n",
    "\n",
    "earlystop = EarlyStopping(monitor='val_loss', mode='min', verbose=1)\n",
    "checkpoint = ModelCheckpoint('simple_cnn.h5', monitor='val_loss', verbose=1,save_best_only=True, save_weights_only=False, mode='auto', save_freq=1)\n",
    "\n",
    "\n",
    "\n",
    "METRICS = [\n",
    "      keras.metrics.TruePositives(name='tp'),\n",
    "      keras.metrics.FalsePositives(name='fp'),\n",
    "      keras.metrics.TrueNegatives(name='tn'),\n",
    "      keras.metrics.FalseNegatives(name='fn'), \n",
    "      keras.metrics.BinaryAccuracy(name='accuracy'),\n",
    "      keras.metrics.Precision(name='precision'),\n",
    "      keras.metrics.Recall(name='recall'),\n",
    "      keras.metrics.AUC(name='auc'),\n",
    "      keras.metrics.AUC(name='prc', curve='PR'), # precision-recall curve\n",
    "]\n",
    "cnn.compile(optimizer='adam', loss='binary_crossentropy', metrics=METRICS)\n",
    "\n",
    "xx =compute_class_weight(class_weight='balanced',classes=np.unique(answers.label), y=answers.label)\n",
    "class_weight = dict(zip(np.unique(answers.label), xx))\n",
    "\n",
    "\n",
    "history = cnn.fit(cb_training, epochs=10,validation_data=cb_validation, class_weight = class_weight)"
   ]
  },
  {
   "cell_type": "markdown",
   "id": "6220d32a",
   "metadata": {},
   "source": [
    "# Analysis \n",
    "Much better with the new spectrograms. Lets try transfer learnign again in the next notebook "
   ]
  },
  {
   "cell_type": "code",
   "execution_count": 45,
   "id": "ae51d23c",
   "metadata": {},
   "outputs": [
    {
     "data": {
      "text/plain": [
       "<matplotlib.legend.Legend at 0x7fc2a5f33d60>"
      ]
     },
     "execution_count": 45,
     "metadata": {},
     "output_type": "execute_result"
    },
    {
     "data": {
      "image/png": "[encoded data removed]",
      "text/plain": [
       "<Figure size 432x288 with 1 Axes>"
      ]
     },
     "metadata": {
      "needs_background": "light"
     },
     "output_type": "display_data"
    }
   ],
   "source": [
    "plt.plot(history.history['accuracy'], label='accuracy')\n",
    "plt.plot(history.history['val_accuracy'], label = 'val_accuracy')\n",
    "plt.xlabel('Epoch')\n",
    "plt.ylabel('accuracy')\n",
    "plt.legend(loc='lower right')\n",
    "#Recall is getting worse continuously. "
   ]
  },
  {
   "cell_type": "code",
   "execution_count": 46,
   "id": "bc1e39f4",
   "metadata": {},
   "outputs": [
    {
     "data": {
      "text/plain": [
       "<matplotlib.legend.Legend at 0x7fc2a7bc67f0>"
      ]
     },
     "execution_count": 46,
     "metadata": {},
     "output_type": "execute_result"
    },
    {
     "data": {
      "image/png": "[encoded data removed]",
      "text/plain": [
       "<Figure size 432x288 with 1 Axes>"
      ]
     },
     "metadata": {
      "needs_background": "light"
     },
     "output_type": "display_data"
    }
   ],
   "source": [
    "plt.plot(history.history['fp'], label='fp')\n",
    "plt.plot(history.history['val_fp'], label = 'val_fp')\n",
    "plt.xlabel('Epoch')\n",
    "plt.ylabel('fp')\n",
    "plt.legend(loc='lower right')\n",
    "#False positive is getting a bit lower, but not as quickly as the test test - that makes sense -\n",
    "#There are fewer entries in validation. \n",
    "#Lets check precision"
   ]
  },
  {
   "cell_type": "code",
   "execution_count": 47,
   "id": "7fc47cad",
   "metadata": {},
   "outputs": [
    {
     "data": {
      "text/plain": [
       "<matplotlib.legend.Legend at 0x7fc2a78de580>"
      ]
     },
     "execution_count": 47,
     "metadata": {},
     "output_type": "execute_result"
    },
    {
     "data": {
      "image/png": "[encoded data removed]",
      "text/plain": [
       "<Figure size 432x288 with 1 Axes>"
      ]
     },
     "metadata": {
      "needs_background": "light"
     },
     "output_type": "display_data"
    }
   ],
   "source": [
    "plt.plot(history.history['precision'], label='precision')\n",
    "plt.plot(history.history['val_precision'], label = 'val_precision')\n",
    "plt.xlabel('Epoch')\n",
    "plt.ylabel('precision')\n",
    "plt.legend(loc='lower right')\n",
    "#Precision is staying pretty constant for validation. \n"
   ]
  },
  {
   "cell_type": "code",
   "execution_count": 48,
   "id": "8c2322a6",
   "metadata": {},
   "outputs": [
    {
     "data": {
      "text/plain": [
       "<matplotlib.legend.Legend at 0x7fc2a9884d30>"
      ]
     },
     "execution_count": 48,
     "metadata": {},
     "output_type": "execute_result"
    },
    {
     "data": {
      "image/png": "[encoded data removed]",
      "text/plain": [
       "<Figure size 432x288 with 1 Axes>"
      ]
     },
     "metadata": {
      "needs_background": "light"
     },
     "output_type": "display_data"
    }
   ],
   "source": [
    "plt.plot(history.history['recall'], label='recall')\n",
    "plt.plot(history.history['val_recall'], label = 'val_recall')\n",
    "plt.xlabel('Epoch')\n",
    "plt.ylabel('recall')\n",
    "plt.legend(loc='lower right')\n",
    "#Precision is staying pretty constant for validation. \n",
    "\n"
   ]
  },
  {
   "cell_type": "markdown",
   "id": "eb094ee1",
   "metadata": {},
   "source": [
    "# Analysis \n",
    "## Overfitting\n",
    "Is better than it was. I like that. The recall for validation isnt dropping like a rock and neither is precision. \n",
    "\n",
    "## Precision\n",
    "The precision is rather low, I will investigate why that is. \n",
    "\n",
    "## Sharp spikes \n",
    "Why do the spikes happen? \n"
   ]
  }
 ],
 "metadata": {
  "kernelspec": {
   "display_name": "Python [conda env:metis] *",
   "language": "python",
   "name": "conda-env-metis-py"
  },
  "language_info": {
   "codemirror_mode": {
    "name": "ipython",
    "version": 3
   },
   "file_extension": ".py",
   "mimetype": "text/x-python",
   "name": "python",
   "nbconvert_exporter": "python",
   "pygments_lexer": "ipython3",
   "version": "3.8.12"
  }
 },
 "nbformat": 4,
 "nbformat_minor": 5
}
