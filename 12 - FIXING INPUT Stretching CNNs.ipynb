{
 "cells": [
  {
   "cell_type": "code",
   "execution_count": 10,
   "id": "e134bc9a",
   "metadata": {},
   "outputs": [],
   "source": [
    "import librosa \n",
    "import librosa.display\n",
    "import numpy as np\n",
    "import pandas as pd\n",
    "from pathlib import Path\n",
    "import seaborn as sns\n",
    "from tensorflow import keras \n",
    "from tensorflow.keras.preprocessing import image_dataset_from_directory, image\n",
    "from tensorflow.keras import layers\n",
    "from tensorflow.keras.models import Sequential, Model, load_model\n",
    "from tensorflow.keras.optimizers import Adam, SGD\n",
    "from tensorflow.keras.applications import VGG19, ResNet50\n",
    "from tensorflow.keras.layers import Dense, Conv2D, MaxPooling2D, Flatten, GlobalAveragePooling2D, InputLayer, Dropout\n",
    "from tensorflow.keras.callbacks import EarlyStopping, ModelCheckpoint\n",
    "import matplotlib.pyplot as plt\n",
    "from sklearn.model_selection import train_test_split\n",
    "from tqdm import tqdm\n",
    "from sklearn.utils.class_weight import compute_class_weight\n",
    "import tensorflow as tf\n",
    "from tensorflow.keras.preprocessing.image import ImageDataGenerator"
   ]
  },
  {
   "cell_type": "code",
   "execution_count": 3,
   "id": "d7c6ef4a",
   "metadata": {},
   "outputs": [],
   "source": [
    "path = Path.cwd()/'data'\n",
    "new_path=Path.cwd()/'data_split'\n",
    "answers = pd.read_csv('answers.csv')"
   ]
  },
  {
   "cell_type": "code",
   "execution_count": 5,
   "id": "1696c806",
   "metadata": {},
   "outputs": [],
   "source": [
    "whales = answers[answers['label']==1]\n",
    "no_whales= answers[answers['label']==0]\n",
    "no_whales_x_train, no_whales_x_val, no_whales_y_train, no_whales_y_val = train_test_split( no_whales[['image_path2']], no_whales.label, test_size=0.2, random_state=10)\n",
    "whales_x_train, whales_x_val, whales_y_train, whales_y_val = train_test_split( whales[['image_path2','name']], whales.label, test_size=0.2, random_state=10)"
   ]
  },
  {
   "cell_type": "code",
   "execution_count": 263,
   "id": "952b9078",
   "metadata": {},
   "outputs": [],
   "source": [
    "# import subprocess\n",
    "\n",
    "# for i, row in whales_x_train.iterrows():\n",
    "#     subprocess.call([\"cp\", row[0], new_path/'training'/'whale' ])\n",
    "    \n",
    "# for i, row in whales_x_val.iterrows():\n",
    "#     subprocess.call([\"cp\", row[0], new_path/'validation'/'whale'])    \n"
   ]
  },
  {
   "cell_type": "code",
   "execution_count": 265,
   "id": "4dfe0350",
   "metadata": {},
   "outputs": [],
   "source": [
    "# for i, row in no_whales_x_train.iterrows():\n",
    "#     subprocess.call([\"cp\", row[0], new_path/'training'/'no_whale'])"
   ]
  },
  {
   "cell_type": "code",
   "execution_count": 266,
   "id": "3fc116b5",
   "metadata": {},
   "outputs": [],
   "source": [
    "# for i, row in no_whales_x_val.iterrows():\n",
    "#     subprocess.call([\"cp\", row[0], new_path/'validation'/'no_whale'])"
   ]
  },
  {
   "cell_type": "code",
   "execution_count": 29,
   "id": "d3b22224",
   "metadata": {
    "scrolled": true
   },
   "outputs": [
    {
     "name": "stdout",
     "output_type": "stream",
     "text": [
      "Found 23194 images belonging to 2 classes.\n",
      "Found 3047 images belonging to 2 classes.\n"
     ]
    }
   ],
   "source": [
    "datagen = ImageDataGenerator()\n",
    "images_directory = new_path\n",
    "cb_training = datagen.flow_from_directory(images_directory/'training', class_mode='binary')\n",
    "cb_validation = datagen.flow_from_directory(images_directory/'validation', class_mode='binary')\n"
   ]
  },
  {
   "cell_type": "code",
   "execution_count": 30,
   "id": "1ba084da",
   "metadata": {},
   "outputs": [],
   "source": [
    "def import_data():\n",
    "    datagen = ImageDataGenerator()\n",
    "    new_path=Path.cwd()/'data_split'\n",
    "    images_directory = new_path\n",
    "    cb_training = datagen.flow_from_directory(images_directory/'training', class_mode='binary')\n",
    "    cb_validation = datagen.flow_from_directory(images_directory/'validation', class_mode='binary')\n",
    "    no_whales_x_train, no_whales_x_val, no_whales_y_train, no_whales_y_val = train_test_split( no_whales[['image_path2']], no_whales.label, test_size=0.2, random_state=10)\n",
    "    whales_x_train, whales_x_val, whales_y_train, whales_y_val = train_test_split( whales[['image_path2','name']], whales.label, test_size=0.2, random_state=10)\n",
    "    return (cb_training, whales_y_train, cb_validation, whales_y_val)\n",
    "\n",
    "\n",
    "def base_set_up(filename, patience=2):\n",
    "    \n",
    "    xx =compute_class_weight(class_weight='balanced',classes=np.unique(answers.label), y=answers.label)\n",
    "    class_weight = dict(zip(np.unique(answers.label), xx))\n",
    "    METRICS = [\n",
    "      keras.metrics.TruePositives(name='tp'),\n",
    "      keras.metrics.FalsePositives(name='fp'),\n",
    "      keras.metrics.TrueNegatives(name='tn'),\n",
    "      keras.metrics.FalseNegatives(name='fn'), \n",
    "      keras.metrics.BinaryAccuracy(name='accuracy'),\n",
    "      keras.metrics.Precision(name='precision'),\n",
    "      keras.metrics.Recall(name='recall'),\n",
    "      keras.metrics.AUC(name='auc'),\n",
    "      keras.metrics.AUC(name='prc', curve='PR'), # precision-recall curve\n",
    "    ]\n",
    "\n",
    "    earlystop = EarlyStopping(monitor='val_accuracy',verbose=1, patience=patience)\n",
    "    checkpoint = ModelCheckpoint(filename, monitor='val_accuracy', save_best_only=True,save_weights_only=False, verbose=1)\n",
    "    return (class_weight, METRICS, earlystop, checkpoint)"
   ]
  },
  {
   "cell_type": "markdown",
   "id": "c0dc9f81",
   "metadata": {},
   "source": [
    "# CNN lets overtrain "
   ]
  },
  {
   "cell_type": "code",
   "execution_count": null,
   "id": "28c1a969",
   "metadata": {
    "scrolled": false
   },
   "outputs": [
    {
     "name": "stdout",
     "output_type": "stream",
     "text": [
      "Found 23194 images belonging to 2 classes.\n",
      "Found 3047 images belonging to 2 classes.\n",
      "Epoch 1/40\n",
      "725/725 [==============================] - 235s 322ms/step - loss: 0.6317 - tp: 2261.0000 - fp: 4597.0000 - tn: 13781.0000 - fn: 2555.0000 - accuracy: 0.6916 - precision: 0.3297 - recall: 0.4695 - auc: 0.6585 - prc: 0.3218 - val_loss: 0.5562 - val_tp: 211.0000 - val_fp: 80.0000 - val_tn: 2264.0000 - val_fn: 492.0000 - val_accuracy: 0.8123 - val_precision: 0.7251 - val_recall: 0.3001 - val_auc: 0.8286 - val_prc: 0.6083\n",
      "\n",
      "Epoch 00001: val_accuracy improved from -inf to 0.81227, saving model to cnn_overfit2.h5\n",
      "Epoch 2/40\n",
      "725/725 [==============================] - 244s 336ms/step - loss: 0.5810 - tp: 2994.0000 - fp: 4214.0000 - tn: 14164.0000 - fn: 1822.0000 - accuracy: 0.7398 - precision: 0.4154 - recall: 0.6217 - auc: 0.7675 - prc: 0.4406 - val_loss: 0.5366 - val_tp: 600.0000 - val_fp: 530.0000 - val_tn: 1814.0000 - val_fn: 103.0000 - val_accuracy: 0.7923 - val_precision: 0.5310 - val_recall: 0.8535 - val_auc: 0.8809 - val_prc: 0.6645\n",
      "\n",
      "Epoch 00002: val_accuracy did not improve from 0.81227\n",
      "Epoch 3/40\n",
      "725/725 [==============================] - 316s 436ms/step - loss: 0.5119 - tp: 3645.0000 - fp: 4445.0000 - tn: 13933.0000 - fn: 1171.0000 - accuracy: 0.7579 - precision: 0.4506 - recall: 0.7569 - auc: 0.8285 - prc: 0.5125 - val_loss: 0.4422 - val_tp: 625.0000 - val_fp: 501.0000 - val_tn: 1843.0000 - val_fn: 78.0000 - val_accuracy: 0.8100 - val_precision: 0.5551 - val_recall: 0.8890 - val_auc: 0.9067 - val_prc: 0.6975\n",
      "\n",
      "Epoch 00003: val_accuracy did not improve from 0.81227\n",
      "Epoch 4/40\n",
      "725/725 [==============================] - 520s 717ms/step - loss: 0.4640 - tp: 3876.0000 - fp: 4551.0000 - tn: 13827.0000 - fn: 940.0000 - accuracy: 0.7633 - precision: 0.4600 - recall: 0.8048 - auc: 0.8526 - prc: 0.5524 - val_loss: 0.3804 - val_tp: 615.0000 - val_fp: 436.0000 - val_tn: 1908.0000 - val_fn: 88.0000 - val_accuracy: 0.8280 - val_precision: 0.5852 - val_recall: 0.8748 - val_auc: 0.9166 - val_prc: 0.7232\n",
      "\n",
      "Epoch 00004: val_accuracy improved from 0.81227 to 0.82803, saving model to cnn_overfit2.h5\n",
      "Epoch 5/40\n",
      "725/725 [==============================] - 454s 626ms/step - loss: 0.4378 - tp: 4003.0000 - fp: 4520.0000 - tn: 13858.0000 - fn: 813.0000 - accuracy: 0.7701 - precision: 0.4697 - recall: 0.8312 - auc: 0.8650 - prc: 0.5751 - val_loss: 0.4071 - val_tp: 645.0000 - val_fp: 545.0000 - val_tn: 1799.0000 - val_fn: 58.0000 - val_accuracy: 0.8021 - val_precision: 0.5420 - val_recall: 0.9175 - val_auc: 0.9211 - val_prc: 0.7412\n",
      "\n",
      "Epoch 00005: val_accuracy did not improve from 0.82803\n",
      "Epoch 6/40\n",
      "725/725 [==============================] - 478s 659ms/step - loss: 0.4250 - tp: 4042.0000 - fp: 4494.0000 - tn: 13884.0000 - fn: 774.0000 - accuracy: 0.7729 - precision: 0.4735 - recall: 0.8393 - auc: 0.8718 - prc: 0.5912 - val_loss: 0.3216 - val_tp: 590.0000 - val_fp: 313.0000 - val_tn: 2031.0000 - val_fn: 113.0000 - val_accuracy: 0.8602 - val_precision: 0.6534 - val_recall: 0.8393 - val_auc: 0.9245 - val_prc: 0.7533\n",
      "\n",
      "Epoch 00006: val_accuracy improved from 0.82803 to 0.86019, saving model to cnn_overfit2.h5\n",
      "Epoch 7/40\n",
      "725/725 [==============================] - 528s 728ms/step - loss: 0.4191 - tp: 4032.0000 - fp: 4373.0000 - tn: 14005.0000 - fn: 784.0000 - accuracy: 0.7777 - precision: 0.4797 - recall: 0.8372 - auc: 0.8748 - prc: 0.6049 - val_loss: 0.3350 - val_tp: 611.0000 - val_fp: 403.0000 - val_tn: 1941.0000 - val_fn: 92.0000 - val_accuracy: 0.8375 - val_precision: 0.6026 - val_recall: 0.8691 - val_auc: 0.9254 - val_prc: 0.7591\n",
      "\n",
      "Epoch 00007: val_accuracy did not improve from 0.86019\n",
      "Epoch 8/40\n",
      "725/725 [==============================] - 484s 668ms/step - loss: 0.4159 - tp: 4032.0000 - fp: 4280.0000 - tn: 14098.0000 - fn: 784.0000 - accuracy: 0.7817 - precision: 0.4851 - recall: 0.8372 - auc: 0.8764 - prc: 0.6023 - val_loss: 0.3868 - val_tp: 642.0000 - val_fp: 515.0000 - val_tn: 1829.0000 - val_fn: 61.0000 - val_accuracy: 0.8110 - val_precision: 0.5549 - val_recall: 0.9132 - val_auc: 0.9250 - val_prc: 0.7538\n",
      "\n",
      "Epoch 00008: val_accuracy did not improve from 0.86019\n",
      "Epoch 9/40\n",
      "725/725 [==============================] - 362s 500ms/step - loss: 0.4141 - tp: 4034.0000 - fp: 4277.0000 - tn: 14101.0000 - fn: 782.0000 - accuracy: 0.7819 - precision: 0.4854 - recall: 0.8376 - auc: 0.8780 - prc: 0.6108 - val_loss: 0.3662 - val_tp: 634.0000 - val_fp: 480.0000 - val_tn: 1864.0000 - val_fn: 69.0000 - val_accuracy: 0.8198 - val_precision: 0.5691 - val_recall: 0.9018 - val_auc: 0.9275 - val_prc: 0.7609\n",
      "\n",
      "Epoch 00009: val_accuracy did not improve from 0.86019\n",
      "Epoch 10/40\n",
      "725/725 [==============================] - 360s 496ms/step - loss: 0.4065 - tp: 4055.0000 - fp: 4198.0000 - tn: 14180.0000 - fn: 761.0000 - accuracy: 0.7862 - precision: 0.4913 - recall: 0.8420 - auc: 0.8829 - prc: 0.6232 - val_loss: 0.3133 - val_tp: 599.0000 - val_fp: 333.0000 - val_tn: 2011.0000 - val_fn: 104.0000 - val_accuracy: 0.8566 - val_precision: 0.6427 - val_recall: 0.8521 - val_auc: 0.9292 - val_prc: 0.7653\n",
      "\n",
      "Epoch 00010: val_accuracy did not improve from 0.86019\n",
      "Epoch 11/40\n",
      "725/725 [==============================] - 356s 491ms/step - loss: 0.4036 - tp: 4057.0000 - fp: 4134.0000 - tn: 14244.0000 - fn: 759.0000 - accuracy: 0.7890 - precision: 0.4953 - recall: 0.8424 - auc: 0.8844 - prc: 0.6300 - val_loss: 0.3111 - val_tp: 597.0000 - val_fp: 324.0000 - val_tn: 2020.0000 - val_fn: 106.0000 - val_accuracy: 0.8589 - val_precision: 0.6482 - val_recall: 0.8492 - val_auc: 0.9281 - val_prc: 0.7600\n",
      "\n",
      "Epoch 00011: val_accuracy did not improve from 0.86019\n",
      "Epoch 12/40\n",
      "725/725 [==============================] - 366s 504ms/step - loss: 0.4021 - tp: 4052.0000 - fp: 4122.0000 - tn: 14256.0000 - fn: 764.0000 - accuracy: 0.7893 - precision: 0.4957 - recall: 0.8414 - auc: 0.8851 - prc: 0.6299 - val_loss: 0.2932 - val_tp: 570.0000 - val_fp: 252.0000 - val_tn: 2092.0000 - val_fn: 133.0000 - val_accuracy: 0.8736 - val_precision: 0.6934 - val_recall: 0.8108 - val_auc: 0.9304 - val_prc: 0.7663\n",
      "\n",
      "Epoch 00012: val_accuracy improved from 0.86019 to 0.87365, saving model to cnn_overfit2.h5\n",
      "Epoch 13/40\n",
      "725/725 [==============================] - 440s 607ms/step - loss: 0.4025 - tp: 4034.0000 - fp: 4052.0000 - tn: 14326.0000 - fn: 782.0000 - accuracy: 0.7916 - precision: 0.4989 - recall: 0.8376 - auc: 0.8839 - prc: 0.6237 - val_loss: 0.3055 - val_tp: 598.0000 - val_fp: 322.0000 - val_tn: 2022.0000 - val_fn: 105.0000 - val_accuracy: 0.8599 - val_precision: 0.6500 - val_recall: 0.8506 - val_auc: 0.9320 - val_prc: 0.7726\n",
      "\n",
      "Epoch 00013: val_accuracy did not improve from 0.87365\n",
      "Epoch 14/40\n",
      "725/725 [==============================] - 418s 576ms/step - loss: 0.3981 - tp: 4067.0000 - fp: 4016.0000 - tn: 14362.0000 - fn: 749.0000 - accuracy: 0.7946 - precision: 0.5032 - recall: 0.8445 - auc: 0.8876 - prc: 0.6338 - val_loss: 0.3519 - val_tp: 634.0000 - val_fp: 458.0000 - val_tn: 1886.0000 - val_fn: 69.0000 - val_accuracy: 0.8270 - val_precision: 0.5806 - val_recall: 0.9018 - val_auc: 0.9331 - val_prc: 0.7746\n",
      "\n",
      "Epoch 00014: val_accuracy did not improve from 0.87365\n",
      "Epoch 15/40\n",
      "725/725 [==============================] - 435s 600ms/step - loss: 0.3916 - tp: 4063.0000 - fp: 3924.0000 - tn: 14454.0000 - fn: 753.0000 - accuracy: 0.7984 - precision: 0.5087 - recall: 0.8436 - auc: 0.8916 - prc: 0.6456 - val_loss: 0.2865 - val_tp: 577.0000 - val_fp: 234.0000 - val_tn: 2110.0000 - val_fn: 126.0000 - val_accuracy: 0.8819 - val_precision: 0.7115 - val_recall: 0.8208 - val_auc: 0.9348 - val_prc: 0.7783\n",
      "\n",
      "Epoch 00015: val_accuracy improved from 0.87365 to 0.88185, saving model to cnn_overfit2.h5\n",
      "Epoch 16/40\n",
      "725/725 [==============================] - 557s 769ms/step - loss: 0.3951 - tp: 4056.0000 - fp: 3913.0000 - tn: 14465.0000 - fn: 760.0000 - accuracy: 0.7985 - precision: 0.5090 - recall: 0.8422 - auc: 0.8894 - prc: 0.6411 - val_loss: 0.2768 - val_tp: 537.0000 - val_fp: 168.0000 - val_tn: 2176.0000 - val_fn: 166.0000 - val_accuracy: 0.8904 - val_precision: 0.7617 - val_recall: 0.7639 - val_auc: 0.9356 - val_prc: 0.7809\n",
      "\n",
      "Epoch 00016: val_accuracy improved from 0.88185 to 0.89038, saving model to cnn_overfit2.h5\n",
      "Epoch 17/40\n"
     ]
    },
    {
     "name": "stdout",
     "output_type": "stream",
     "text": [
      "725/725 [==============================] - 547s 755ms/step - loss: 0.3919 - tp: 4058.0000 - fp: 3848.0000 - tn: 14530.0000 - fn: 758.0000 - accuracy: 0.8014 - precision: 0.5133 - recall: 0.8426 - auc: 0.8909 - prc: 0.6395 - val_loss: 0.3898 - val_tp: 649.0000 - val_fp: 516.0000 - val_tn: 1828.0000 - val_fn: 54.0000 - val_accuracy: 0.8129 - val_precision: 0.5571 - val_recall: 0.9232 - val_auc: 0.9354 - val_prc: 0.7796\n",
      "\n",
      "Epoch 00017: val_accuracy did not improve from 0.89038\n",
      "Epoch 18/40\n",
      "725/725 [==============================] - 574s 792ms/step - loss: 0.3842 - tp: 4073.0000 - fp: 3820.0000 - tn: 14558.0000 - fn: 743.0000 - accuracy: 0.8033 - precision: 0.5160 - recall: 0.8457 - auc: 0.8961 - prc: 0.6583 - val_loss: 0.2933 - val_tp: 603.0000 - val_fp: 305.0000 - val_tn: 2039.0000 - val_fn: 100.0000 - val_accuracy: 0.8671 - val_precision: 0.6641 - val_recall: 0.8578 - val_auc: 0.9387 - val_prc: 0.7908\n",
      "\n",
      "Epoch 00018: val_accuracy did not improve from 0.89038\n",
      "Epoch 19/40\n",
      "725/725 [==============================] - 414s 570ms/step - loss: 0.3806 - tp: 4078.0000 - fp: 3793.0000 - tn: 14585.0000 - fn: 738.0000 - accuracy: 0.8046 - precision: 0.5181 - recall: 0.8468 - auc: 0.8980 - prc: 0.6610 - val_loss: 0.2832 - val_tp: 592.0000 - val_fp: 260.0000 - val_tn: 2084.0000 - val_fn: 111.0000 - val_accuracy: 0.8782 - val_precision: 0.6948 - val_recall: 0.8421 - val_auc: 0.9399 - val_prc: 0.7948\n",
      "\n",
      "Epoch 00019: val_accuracy did not improve from 0.89038\n",
      "Epoch 20/40\n",
      "725/725 [==============================] - 356s 490ms/step - loss: 0.3808 - tp: 4081.0000 - fp: 3692.0000 - tn: 14686.0000 - fn: 735.0000 - accuracy: 0.8091 - precision: 0.5250 - recall: 0.8474 - auc: 0.8981 - prc: 0.6600 - val_loss: 0.3047 - val_tp: 622.0000 - val_fp: 315.0000 - val_tn: 2029.0000 - val_fn: 81.0000 - val_accuracy: 0.8700 - val_precision: 0.6638 - val_recall: 0.8848 - val_auc: 0.9393 - val_prc: 0.7894\n",
      "\n",
      "Epoch 00020: val_accuracy did not improve from 0.89038\n",
      "Epoch 21/40\n",
      "725/725 [==============================] - 375s 517ms/step - loss: 0.3751 - tp: 4084.0000 - fp: 3634.0000 - tn: 14744.0000 - fn: 732.0000 - accuracy: 0.8118 - precision: 0.5292 - recall: 0.8480 - auc: 0.9011 - prc: 0.6719 - val_loss: 0.3448 - val_tp: 643.0000 - val_fp: 436.0000 - val_tn: 1908.0000 - val_fn: 60.0000 - val_accuracy: 0.8372 - val_precision: 0.5959 - val_recall: 0.9147 - val_auc: 0.9407 - val_prc: 0.7956\n",
      "\n",
      "Epoch 00021: val_accuracy did not improve from 0.89038\n",
      "Epoch 22/40\n",
      "725/725 [==============================] - 378s 522ms/step - loss: 0.3731 - tp: 4087.0000 - fp: 3560.0000 - tn: 14818.0000 - fn: 729.0000 - accuracy: 0.8151 - precision: 0.5345 - recall: 0.8486 - auc: 0.9024 - prc: 0.6677 - val_loss: 0.2840 - val_tp: 606.0000 - val_fp: 267.0000 - val_tn: 2077.0000 - val_fn: 97.0000 - val_accuracy: 0.8805 - val_precision: 0.6942 - val_recall: 0.8620 - val_auc: 0.9406 - val_prc: 0.7959\n",
      "\n",
      "Epoch 00022: val_accuracy did not improve from 0.89038\n",
      "Epoch 23/40\n",
      "725/725 [==============================] - 384s 530ms/step - loss: 0.3684 - tp: 4113.0000 - fp: 3577.0000 - tn: 14801.0000 - fn: 703.0000 - accuracy: 0.8155 - precision: 0.5349 - recall: 0.8540 - auc: 0.9053 - prc: 0.6766 - val_loss: 0.2822 - val_tp: 609.0000 - val_fp: 281.0000 - val_tn: 2063.0000 - val_fn: 94.0000 - val_accuracy: 0.8769 - val_precision: 0.6843 - val_recall: 0.8663 - val_auc: 0.9446 - val_prc: 0.8087\n",
      "\n",
      "Epoch 00023: val_accuracy did not improve from 0.89038\n",
      "Epoch 24/40\n",
      "600/725 [=======================>......] - ETA: 1:00 - loss: 0.3663 - tp: 3390.0000 - fp: 2933.0000 - tn: 12287.0000 - fn: 584.0000 - accuracy: 0.8168 - precision: 0.5361 - recall: 0.8530 - auc: 0.9062 - prc: 0.6814"
     ]
    }
   ],
   "source": [
    "cnn = None\n",
    "keras.backend.clear_session()\n",
    "filename = 'cnn_overfit2.h5'\n",
    "\n",
    "cb_training, training_labels, cb_validation, val_labels  = import_data()\n",
    "class_weight, METRICS, earlystop, checkpoint = base_set_up(filename, 10)\n",
    "\n",
    "cnn = Sequential()\n",
    "cnn.add(InputLayer(input_shape=(97,97, 3)))\n",
    "cnn.add(Conv2D(filters=5, kernel_size=3, activation='relu', padding='same'))\n",
    "cnn.add(MaxPooling2D())\n",
    "cnn.add(Conv2D(filters=10, kernel_size=3, activation='relu', padding='same'))\n",
    "cnn.add(MaxPooling2D())\n",
    "cnn.add(Conv2D(filters=20, kernel_size=3, activation='relu', padding='same'))\n",
    "cnn.add(MaxPooling2D())\n",
    "cnn.add(Conv2D(filters=30, kernel_size=3, activation='relu', padding='same'))\n",
    "cnn.add(MaxPooling2D())\n",
    "cnn.add(Conv2D(filters=40, kernel_size=3, activation='relu', padding='same'))\n",
    "cnn.add(MaxPooling2D())\n",
    "cnn.add(Conv2D(filters=50, kernel_size=3, activation='relu', padding='same'))\n",
    "cnn.add(GlobalAveragePooling2D())\n",
    "\n",
    "cnn.add(layers.Dense(100, activation='relu'))\n",
    "cnn.add(layers.Dense(100, activation='relu'))\n",
    "cnn.add(layers.Dense(100, activation='relu'))\n",
    "\n",
    "\n",
    "cnn.add(layers.Dense(1, activation='sigmoid'))\n",
    "optimizer = Adam(learning_rate=0.00001)\n",
    "\n",
    "cnn.compile(optimizer=optimizer, loss='binary_crossentropy', metrics=METRICS)\n",
    "\n",
    "history = cnn.fit(cb_training, epochs=40,validation_data=cb_validation, class_weight = class_weight, callbacks=[earlystop, checkpoint])\n"
   ]
  },
  {
   "cell_type": "code",
   "execution_count": null,
   "id": "4a89dc46",
   "metadata": {
    "scrolled": true
   },
   "outputs": [],
   "source": [
    "hist = history.history\n",
    "all_keys = list(hist.keys())\n",
    "\n",
    "fig, axes = plt.subplots(5,2, figsize=(15,15))\n",
    "for i,ax in enumerate(axes.flatten()):\n",
    "        key = all_keys[i]\n",
    "        val_key = 'val_'+key\n",
    "        ax.plot(hist[key], label=key)\n",
    "        ax.plot(hist[val_key], label = val_key)\n",
    "        plt.xlabel('Epoch')\n",
    "        plt.ylabel(key)\n",
    "        ax.legend(loc='lower right')"
   ]
  },
  {
   "cell_type": "code",
   "execution_count": null,
   "id": "fc47f623",
   "metadata": {},
   "outputs": [],
   "source": [
    "tf.math.confusion_matrix(cnn.predict(cb_validation), cb_validation.classes)\n"
   ]
  },
  {
   "cell_type": "code",
   "execution_count": 171,
   "id": "f2d436a6",
   "metadata": {},
   "outputs": [
    {
     "name": "stdout",
     "output_type": "stream",
     "text": [
      "188/188 - 4s - loss: 0.1867 - tp: 1250.0000 - fp: 327.0000 - tn: 4274.0000 - fn: 149.0000 - accuracy: 0.9207 - precision: 0.7926 - recall: 0.8935 - auc: 0.9712 - prc: 0.9094\n"
     ]
    },
    {
     "data": {
      "text/plain": [
       "[0.18670053780078888,\n",
       " 1250.0,\n",
       " 327.0,\n",
       " 4274.0,\n",
       " 149.0,\n",
       " 0.9206666946411133,\n",
       " 0.7926442623138428,\n",
       " 0.8934953808784485,\n",
       " 0.971164882183075,\n",
       " 0.9094194173812866]"
      ]
     },
     "execution_count": 171,
     "metadata": {},
     "output_type": "execute_result"
    }
   ],
   "source": [
    "cnn.evaluate(cb_validation,verbose=2)\n"
   ]
  }
 ],
 "metadata": {
  "kernelspec": {
   "display_name": "Python [conda env:metis] *",
   "language": "python",
   "name": "conda-env-metis-py"
  },
  "language_info": {
   "codemirror_mode": {
    "name": "ipython",
    "version": 3
   },
   "file_extension": ".py",
   "mimetype": "text/x-python",
   "name": "python",
   "nbconvert_exporter": "python",
   "pygments_lexer": "ipython3",
   "version": "3.8.12"
  }
 },
 "nbformat": 4,
 "nbformat_minor": 5
}
